{
 "cells": [
  {
   "cell_type": "markdown",
   "metadata": {},
   "source": [
    "## Lesson 13 - Extract abstracts and keywords from Chinese text\n",
    "\n",
    "\n",
    "\n",
    "### Table of Contents\n",
    "* [FastTextRank](#FastTextRank)\n",
    "* [Large scaling content keyword(tag) extraction](#Large-scaling-content-keyword)\n",
    "\n"
   ]
  },
  {
   "cell_type": "markdown",
   "metadata": {},
   "source": [
    "<a id=\"FastTextRank\"></a>\n",
    "# FastTextRank\n",
    "Extract abstracts and keywords from Chinese text, use *optimized iterative algorithms* to improve running **speed**, and *selectively use word vectors* to improve **accuracy**.\n",
    "## PageRank\n",
    "PageRank is a website page ranking algorithm from Google.<br/>\n",
    "PageRank was originally used to calculate the importance of web pages. The entire www can be seen as a directed graph, and the node is a web page.<br/>\n",
    "This algorithm can caculate all node's importance by their connections.<br/>\n",
    "* My algorithm changed the iterative algorithm to make the algorithm much faster, it costs 10ms per article, on the mean while TextRank4ZH costs 80ms on my data.<br/>\n",
    "* My algorithm also use word2vec to make the abstract more accurate, but it will cost more time to run the algorithm. Using word2vec costs 40ms per article on the same traning data.\n",
    "\n",
    "## FastTextRank4Sentence\n",
    "### Introduction\n",
    "1. Cut article into sentence\n",
    "2. Calculate similarity between sentences:\n",
    "   * Using word vectors' cosine similarity\n",
    "   * Using two sentences' common words\n",
    "3. Build a graph by sentences' similarity\n",
    "4. Caculate the importance of each sentence by improved iterative algorithm\n",
    "5. Get the abstract\n",
    "### API\n",
    "* use_stopword: boolean, default True\n",
    "* stop_words_file: str, default None.\n",
    "The stop words file you want to use. If it is None, you will use this package's stop words.\n",
    "* use_w2v: boolean, default False\n",
    "If it is True, you must input passing dict_path parameter.\n",
    "* dict_path: str, default None.\n",
    "* max_iter:maximum iteration round\n",
    "* tol: maximum tolerance error\n",
    "\n",
    "## FastTextRank4Word\n",
    "\n",
    "### Introduction\n",
    "1. Cut artile into word\n",
    "2. Calculate similarity between word: \n",
    "   If two words are all in window distance, then the graph's side of this two word add 1.0. Window is set by user.\n",
    "3. Build a graph by word' similarity\n",
    "4. Caculate the importance of each word by improved iterative algorithm\n",
    "5. Get the key word\n",
    "\n",
    "### API\n",
    "* use_stopword=boolean, default True\n",
    "* stop_words_file=str, default None.\n",
    "The stop words file you want to use. If it is None, you will use this package's stop words.\n",
    "* max_iter=maximum iteration round\n",
    "* tol=maximum tolerance error\n",
    "* window=int, default 2\n",
    "The window to determine if two words are related"
   ]
  },
  {
   "cell_type": "markdown",
   "metadata": {},
   "source": [
    "### 擷取文章中的關鍵詞(Keyword)，自動標籤"
   ]
  },
  {
   "cell_type": "code",
   "execution_count": 1,
   "metadata": {},
   "outputs": [
    {
     "name": "stderr",
     "output_type": "stream",
     "text": [
      "D:\\Anaconda36\\lib\\site-packages\\gensim\\utils.py:1197: UserWarning: detected Windows; aliasing chunkize to chunkize_serial\n",
      "  warnings.warn(\"detected Windows; aliasing chunkize to chunkize_serial\")\n",
      "Building prefix dict from D:\\Programming\\Python\\課程教學\\David Python 教育訓練\\dict\\dict.big.txt ...\n",
      "Loading model from cache C:\\Users\\princ\\AppData\\Local\\Temp\\jieba.u9fe11b2227c896c5bbad65bb17730314.cache\n",
      "Loading model cost 1.411 seconds.\n",
      "Prefix dict has been built succesfully.\n"
     ]
    }
   ],
   "source": [
    "from src.FastTextRank.FastTextRank4Word import FastTextRank4Word\n",
    "import codecs\n",
    "import datetime\n",
    "import types"
   ]
  },
  {
   "cell_type": "code",
   "execution_count": 2,
   "metadata": {},
   "outputs": [],
   "source": [
    "content_string = '''外送平台正夯，日前一位熊貓外送員騎乘重型機車外送爆紅，最近也有一位熊貓外送員因為太可愛，被客人加LINE後滿臉問號。\n",
    "一位世新大學女學生在社群網站《Dcard》發文「嚇死熊貓外送員」，指出她透過foodpanda點宵夜，外送員抵達後發現對方是位可愛男\n",
    "讓她被電到內心吶喊「天啊！太可愛了吧！」女大生拿完餐點後隨即跟室友說「外送員超可愛的啦」馬上讓宿舍內暴動。\n",
    "豈料，說完3秒後手機響起，就是那位可愛外送員打來，室友見狀紛紛搶電話說「我要接！我要接！」\n",
    "沒想到接起電話後可愛外送員說「那個你們的對講機是不是沒關好，因為在樓下的對講機都可以聽到你們講話的聲音。」讓女大生心生尷尬。\n",
    "▲▼校園午餐外送潮。（圖／記者呂佳賢攝）\n",
    "▲美食外送平台式許多學生的最愛。（圖／記者呂佳賢攝）\n",
    "後來女大生把可愛外送員電話存進手機，結果LINE也跟著自動加入，3分鐘後女大生的LINE響起，竟然是可愛外送員傳了「？」圖示來\n",
    "讓女大生嚇到直接刪掉。「我真的是超尷尬超丟臉...很想挖洞鑽」。\n",
    "對此外送經驗，網友留言說「下一篇：我的男友是熊貓」、「過幾天...半夜肚子餓叫熊貓竟然脫魯了！！」\n",
    "「閃光get？？？」、「要是男女互換，就是變態了呢」。\n",
    "'''"
   ]
  },
  {
   "cell_type": "code",
   "execution_count": 3,
   "metadata": {},
   "outputs": [
    {
     "name": "stdout",
     "output_type": "stream",
     "text": [
      "關鍵詞彙:\n",
      "['外送員', '大生', '男友', 'LINE', '美食', '是不是', 'Dcard', '日前', '外送潮', '午餐']\n",
      "0:00:00.218737\n"
     ]
    }
   ],
   "source": [
    "mod = FastTextRank4Word(tol=0.0001,window=2)\n",
    "old_time = datetime.datetime.now()\n",
    "print('關鍵詞彙:')\n",
    "old_time = datetime.datetime.now()\n",
    "po=mod.summarize(content_string, 10)\n",
    "print(po)\n",
    "print(datetime.datetime.now() - old_time)"
   ]
  },
  {
   "cell_type": "markdown",
   "metadata": {},
   "source": [
    "### 擷取文章中的關鍵句摘要(Sentence)"
   ]
  },
  {
   "cell_type": "code",
   "execution_count": 4,
   "metadata": {},
   "outputs": [],
   "source": [
    "from src.FastTextRank.FastTextRank4Sentence import FastTextRank4Sentence\n",
    "import codecs\n",
    "import datetime"
   ]
  },
  {
   "cell_type": "code",
   "execution_count": 5,
   "metadata": {},
   "outputs": [
    {
     "name": "stdout",
     "output_type": "stream",
     "text": [
      "摘要:\n",
      "['（圖／記者呂佳賢攝）後來女大生把可愛外送員電話存進手機，結果LINE也跟著自動加入，3分鐘後女大生的LINE響起，竟然是可愛外送員傳了「？', '一位世新大學女學生在社群網站《Dcard》發文「嚇死熊貓外送員」，指出她透過foodpanda點宵夜，外送員抵達後發現對方是位可愛男，讓她被電到內心吶喊「天啊！', '」沒想到接起電話後可愛外送員說「那個你們的對講機是不是沒關好，因為在樓下的對講機都可以聽到你們講話的聲音。', '對此外送經驗，網友留言說「下一篇：我的男友是熊貓」、「過幾天...半夜肚子餓叫熊貓竟然脫魯了！']\n",
      "0:00:00.013392\n"
     ]
    }
   ],
   "source": [
    "# 不使用 Word2Vec\n",
    "mod = FastTextRank4Sentence(use_w2v=False,tol=0.0001)\n",
    "old_time = datetime.datetime.now()\n",
    "print('摘要:')\n",
    "old_time = datetime.datetime.now()\n",
    "po=mod.summarize(content_string, 4)\n",
    "print(po)\n",
    "print(datetime.datetime.now() - old_time)"
   ]
  },
  {
   "cell_type": "code",
   "execution_count": 6,
   "metadata": {},
   "outputs": [
    {
     "name": "stdout",
     "output_type": "stream",
     "text": [
      "摘要:\n",
      "['」、「要是男女互換，就是變態了呢」。', '豈料，說完3秒後手機響起，就是那位可愛外送員打來，室友見狀紛紛搶電話說「我要接！', '一位世新大學女學生在社群網站《Dcard》發文「嚇死熊貓外送員」，指出她透過foodpanda點宵夜，外送員抵達後發現對方是位可愛男，讓她被電到內心吶喊「天啊！', '對此外送經驗，網友留言說「下一篇：我的男友是熊貓」、「過幾天...半夜肚子餓叫熊貓竟然脫魯了！']\n",
      "0:00:00.014879\n"
     ]
    }
   ],
   "source": [
    "# 使用 Word2Vec\n",
    "mod = FastTextRank4Sentence(use_w2v=True, dict_path='model/Word2Vec/word2vec_news.bin', tol=0.0001)\n",
    "old_time = datetime.datetime.now()\n",
    "print('摘要:')\n",
    "old_time = datetime.datetime.now()\n",
    "po=mod.summarize(content_string, 4)\n",
    "print(po)\n",
    "print(datetime.datetime.now() - old_time)"
   ]
  },
  {
   "cell_type": "markdown",
   "metadata": {},
   "source": [
    "<a id=\"Large-scaling-content-keyword\"></a>\n",
    "## Large scaling content keyword(tag) extracting"
   ]
  },
  {
   "cell_type": "code",
   "execution_count": 70,
   "metadata": {},
   "outputs": [
    {
     "data": {
      "text/html": [
       "<div>\n",
       "<style scoped>\n",
       "    .dataframe tbody tr th:only-of-type {\n",
       "        vertical-align: middle;\n",
       "    }\n",
       "\n",
       "    .dataframe tbody tr th {\n",
       "        vertical-align: top;\n",
       "    }\n",
       "\n",
       "    .dataframe thead th {\n",
       "        text-align: right;\n",
       "    }\n",
       "</style>\n",
       "<table border=\"1\" class=\"dataframe\">\n",
       "  <thead>\n",
       "    <tr style=\"text-align: right;\">\n",
       "      <th></th>\n",
       "      <th>content</th>\n",
       "    </tr>\n",
       "  </thead>\n",
       "  <tbody>\n",
       "    <tr>\n",
       "      <th>0</th>\n",
       "      <td>美股費半及道瓊走高激勵下，周五台指期夜盤同步上攻至 10455 點。台股受美股走高影響加權指...</td>\n",
       "    </tr>\n",
       "    <tr>\n",
       "      <th>1</th>\n",
       "      <td>這天是忙碌的一天 同一天有兩場記者會發表 另一是長期的友愛品牌RMK Taiwan #RMK...</td>\n",
       "    </tr>\n",
       "    <tr>\n",
       "      <th>2</th>\n",
       "      <td>亞幣走強外資偏匯入 新台幣升5.6分（中央社記者潘姿羽台北18日電）隨著韓元走強，新台幣兌美...</td>\n",
       "    </tr>\n",
       "    <tr>\n",
       "      <th>3</th>\n",
       "      <td>雅詩蘭黛精選賣爆唇色推出楊冪限定款唷唷唷 想跟楊冪一樣渾身飄仙氣從這幾色下手準沒錯 不過唇彩...</td>\n",
       "    </tr>\n",
       "  </tbody>\n",
       "</table>\n",
       "</div>"
      ],
      "text/plain": [
       "                                             content\n",
       "0  美股費半及道瓊走高激勵下，周五台指期夜盤同步上攻至 10455 點。台股受美股走高影響加權指...\n",
       "1  這天是忙碌的一天 同一天有兩場記者會發表 另一是長期的友愛品牌RMK Taiwan #RMK...\n",
       "2  亞幣走強外資偏匯入 新台幣升5.6分（中央社記者潘姿羽台北18日電）隨著韓元走強，新台幣兌美...\n",
       "3  雅詩蘭黛精選賣爆唇色推出楊冪限定款唷唷唷 想跟楊冪一樣渾身飄仙氣從這幾色下手準沒錯 不過唇彩..."
      ]
     },
     "execution_count": 70,
     "metadata": {},
     "output_type": "execute_result"
    }
   ],
   "source": [
    "import pandas as pd\n",
    "import codecs\n",
    "import datetime\n",
    "from src.FastTextRank.FastTextRank4Word import FastTextRank4Word\n",
    "\n",
    "c_list = []\n",
    "input_file_name = \"data/document/UnsupervisedTextData.txt\"\n",
    "with open(input_file_name, 'r', encoding=\"utf8\") as file:\n",
    "    c_list = file.read().splitlines()\n",
    "file.close()\n",
    "\n",
    "df_ = pd.DataFrame(c_list, columns=['content'])\n",
    "df_.head()"
   ]
  },
  {
   "cell_type": "code",
   "execution_count": 73,
   "metadata": {},
   "outputs": [
    {
     "name": "stdout",
     "output_type": "stream",
     "text": [
      "time cost: 0.6407473087310791\n",
      "speed 2038.2450026772203 bytes/second\n"
     ]
    }
   ],
   "source": [
    "import time\n",
    "import multiprocessing.dummy as multiprocessing\n",
    "\n",
    "cpu_count = 4\n",
    "\n",
    "def MultiFastTextRank(x):\n",
    "    mod = FastTextRank4Word(tol=0.0001,window=2)\n",
    "    po=mod.summarize(x, 10)\n",
    "    return po\n",
    "\n",
    "t1 = time.time()\n",
    "with multiprocessing.Pool(processes=(cpu_count)) as pool:\n",
    "    res_list = pool.map(MultiFastTextRank, df_['content'])\n",
    "t2 = time.time()\n",
    "tm_cost = t2-t1\n",
    "print('time cost: {}'.format(tm_cost))\n",
    "print('speed %s bytes/second' % (sum(df_['content'].str.len())/tm_cost))"
   ]
  },
  {
   "cell_type": "code",
   "execution_count": 74,
   "metadata": {},
   "outputs": [
    {
     "data": {
      "text/plain": [
       "[['走高', '今日', '回測', '加上', '波幅', '上攻', '道瓊', '連末', '指期', '夜盤'],\n",
       " ['RMK', '美麗', '事情', '味道', '珠光', '疑惑', '外出', '眼影', '染色', '唇部'],\n",
       " ['升值', '表示', '可能', '今天', '亞幣', '使得', '台北', '推升', '央行', '控管'],\n",
       " ['楊冪', '效果', '神器', '搭配', '打底', '推出', '唇部', '唇膏', '乾燥', '嘴唇']]"
      ]
     },
     "execution_count": 74,
     "metadata": {},
     "output_type": "execute_result"
    }
   ],
   "source": [
    "res_list"
   ]
  },
  {
   "cell_type": "markdown",
   "metadata": {},
   "source": [
    "### Homework\n",
    "- if content string is not enough words, how will it perform?\n",
    "- load up google play comment, try to extract keywords from them\n",
    "--- \"data/sentimental/googleplay/google_play_15_500.xlsx\"\n",
    "- how to enhanced comment classification of questions?"
   ]
  },
  {
   "cell_type": "code",
   "execution_count": 84,
   "metadata": {},
   "outputs": [
    {
     "data": {
      "text/html": [
       "<div>\n",
       "<style scoped>\n",
       "    .dataframe tbody tr th:only-of-type {\n",
       "        vertical-align: middle;\n",
       "    }\n",
       "\n",
       "    .dataframe tbody tr th {\n",
       "        vertical-align: top;\n",
       "    }\n",
       "\n",
       "    .dataframe thead th {\n",
       "        text-align: right;\n",
       "    }\n",
       "</style>\n",
       "<table border=\"1\" class=\"dataframe\">\n",
       "  <thead>\n",
       "    <tr style=\"text-align: right;\">\n",
       "      <th></th>\n",
       "      <th>content</th>\n",
       "      <th>ratings</th>\n",
       "    </tr>\n",
       "  </thead>\n",
       "  <tbody>\n",
       "    <tr>\n",
       "      <th>0</th>\n",
       "      <td>越做越爛，廣告一直入，又不是沒儲值，還強制觀看廣告，操，爛公司爛遊戲，在不更改強制性播放廣...</td>\n",
       "      <td>1</td>\n",
       "    </tr>\n",
       "    <tr>\n",
       "      <th>1</th>\n",
       "      <td>手機是三星note5。要我輸入配對金鑰結果數字鍵只有到6，6以後都不見了剛好我就差一個8。...</td>\n",
       "      <td>1</td>\n",
       "    </tr>\n",
       "    <tr>\n",
       "      <th>2</th>\n",
       "      <td>幹拎涼咧～從戰鬥力23萬~43萬，一路升到77萬（77萬夠誇張了吧！），打PVP一樣是那個...</td>\n",
       "      <td>1</td>\n",
       "    </tr>\n",
       "    <tr>\n",
       "      <th>3</th>\n",
       "      <td>儲值310元，戰爭基金8000金幣沒給我，第二次了，都沒給。都沒人在管理，差，給負評</td>\n",
       "      <td>1</td>\n",
       "    </tr>\n",
       "    <tr>\n",
       "      <th>4</th>\n",
       "      <td>已經更新至最新版本 為什麼功能都沒顯示 運費卷全憑空消失 請處理</td>\n",
       "      <td>1</td>\n",
       "    </tr>\n",
       "  </tbody>\n",
       "</table>\n",
       "</div>"
      ],
      "text/plain": [
       "                                             content  ratings\n",
       "0   越做越爛，廣告一直入，又不是沒儲值，還強制觀看廣告，操，爛公司爛遊戲，在不更改強制性播放廣...        1\n",
       "1   手機是三星note5。要我輸入配對金鑰結果數字鍵只有到6，6以後都不見了剛好我就差一個8。...        1\n",
       "2   幹拎涼咧～從戰鬥力23萬~43萬，一路升到77萬（77萬夠誇張了吧！），打PVP一樣是那個...        1\n",
       "3         儲值310元，戰爭基金8000金幣沒給我，第二次了，都沒給。都沒人在管理，差，給負評        1\n",
       "4                   已經更新至最新版本 為什麼功能都沒顯示 運費卷全憑空消失 請處理        1"
      ]
     },
     "execution_count": 84,
     "metadata": {},
     "output_type": "execute_result"
    }
   ],
   "source": [
    "# Hint\n",
    "import pandas as pd\n",
    "import codecs\n",
    "import datetime\n",
    "from src.FastTextRank.FastTextRank4Word import FastTextRank4Word\n",
    "\n",
    "c_list = []\n",
    "df_ = pd.read_excel(\"data/sentimental/googleplay/google_play_15_500.xlsx\")\n",
    "df_ = df_.rename(columns={'comments': 'content'})\n",
    "df_.head()"
   ]
  },
  {
   "cell_type": "code",
   "execution_count": 80,
   "metadata": {},
   "outputs": [
    {
     "data": {
      "text/plain": [
       "34145"
      ]
     },
     "execution_count": 80,
     "metadata": {},
     "output_type": "execute_result"
    }
   ],
   "source": [
    "sum(df_['content'].str.len())"
   ]
  },
  {
   "cell_type": "code",
   "execution_count": null,
   "metadata": {},
   "outputs": [],
   "source": []
  },
  {
   "cell_type": "code",
   "execution_count": null,
   "metadata": {},
   "outputs": [],
   "source": []
  }
 ],
 "metadata": {
  "kernelspec": {
   "display_name": "Python 3",
   "language": "python",
   "name": "python3"
  },
  "language_info": {
   "codemirror_mode": {
    "name": "ipython",
    "version": 3
   },
   "file_extension": ".py",
   "mimetype": "text/x-python",
   "name": "python",
   "nbconvert_exporter": "python",
   "pygments_lexer": "ipython3",
   "version": "3.6.4"
  }
 },
 "nbformat": 4,
 "nbformat_minor": 2
}
