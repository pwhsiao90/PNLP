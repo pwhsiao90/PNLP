{
 "cells": [
  {
   "cell_type": "markdown",
   "metadata": {},
   "source": [
    "## Lesson 12 - Gender Prediction Based on Name\n",
    "\n",
    "\n",
    "\n",
    "\n",
    "### Table of Contents\n",
    "* [Gender Prediction Based on English Name](#EnglishName)\n",
    "* [Gender Prediction Based on Chinese Name](#ChineseName)\n"
   ]
  },
  {
   "cell_type": "markdown",
   "metadata": {},
   "source": [
    "<a id=\"EnglishName\"></a>\n",
    "## Gender Prediction Based on English Name\n",
    "\n",
    "Detecting patterns is a central part of Natural Language Processing. Words ending in -ed tend to be past tense verbs (5.). Frequent use of will is indicative of news text (3). These observable patterns — word structure and word frequency — happen to correlate with particular aspects of meaning, such as tense and topic. But how did we know where to start looking, which aspects of form to associate with which aspects of meaning?\n",
    "\n",
    "The goal of this chapter is to answer the following questions:\n",
    "\n",
    "How can we identify particular features of language data that are salient for classifying it?\n",
    "How can we construct models of language that can be used to perform language processing tasks automatically?\n",
    "What can we learn about language from these models?\n",
    "Along the way we will study some important machine learning techniques, including decision trees, naive Bayes' classifiers, and maximum entropy classifiers. We will gloss over the mathematical and statistical underpinnings of these techniques, focusing instead on how and when to use them (see the Further Readings section for more technical background). Before looking at these methods, we first need to appreciate the broad scope of this topic."
   ]
  },
  {
   "cell_type": "markdown",
   "metadata": {},
   "source": [
    "### Supervised Classification\n",
    "\n",
    "Classification is the task of choosing the correct class label for a given input. In basic classification tasks, each input is considered in isolation from all other inputs, and the set of labels is defined in advance. Some examples of classification tasks are:\n",
    "\n",
    "Deciding whether an email is spam or not.\n",
    "Deciding what the topic of a news article is, from a fixed list of topic areas such as \"sports,\" \"technology,\" and \"politics.\"\n",
    "Deciding whether a given occurrence of the word bank is used to refer to a river bank, a financial institution, the act of tilting to the side, or the act of depositing something in a financial institution.\n",
    "The basic classification task has a number of interesting variants. For example, in multi-class classification, each instance may be assigned multiple labels; in open-class classification, the set of labels is not defined in advance; and in sequence classification, a list of inputs are jointly classified.\n",
    "\n",
    "A classifier is called supervised if it is built based on training corpora containing the correct label for each input. The framework used by supervised classification is shown in 1.1.\n",
    "<img src=\"images/nltk-supervised-classification.png\"><br>"
   ]
  },
  {
   "cell_type": "markdown",
   "metadata": {},
   "source": [
    "### prepare training data\n",
    "\n",
    "<img src=\"images/English_name_dataset.png\">\n",
    "\n",
    "待訓練統計的姓名有三個欄位，分別為姓名、性別、以及權重。<br>\n",
    "下面我們利用nltk中的Naive Bayes Classifier，根據名字判斷性別中的資料進行預測。首先讀取英文姓名資料"
   ]
  },
  {
   "cell_type": "code",
   "execution_count": null,
   "metadata": {},
   "outputs": [],
   "source": [
    "import os\n",
    "import random\n",
    "from zipfile import ZipFile\n",
    "from nltk import NaiveBayesClassifier, classify\n",
    "\n",
    "# English Name gender guess\n",
    "gender_map = {'M': 0, 'F': 1}\n",
    "\n",
    "#讀取eng_name.zip, 回傳包含名稱和次數的dict()\n",
    "def load_names(zip_file='data/name/English/eng_names.zip'):\n",
    "    if not os.path.isfile(zip_file):\n",
    "        print('names.zip is missing.')\n",
    "        exit(-1)\n",
    "\n",
    "    names = dict()\n",
    "    unzip = ZipFile(zip_file, 'r')\n",
    "    files = unzip.namelist()\n",
    "\n",
    "    for file in files:\n",
    "        file = unzip.open(file, 'r').read().decode('utf-8')\n",
    "        rows = [row.strip().split(',') for row in file.split('\\n') if len(row) > 1]\n",
    "        for row in rows:\n",
    "            if not len(row) == 3:\n",
    "                continue\n",
    "            name = row[0].upper()\n",
    "            gender = gender_map[row[1].upper()]\n",
    "            count = int(row[2])\n",
    "            # adding frequency in names dict based on gender\n",
    "            if name not in names:\n",
    "                names[name] = [0, 0]\n",
    "            names[name][gender] += count\n",
    "    return names\n",
    "\n",
    "# 從傳入姓名字串中提取特徵/屬性/輸入/預測變數\n",
    "\"\"\"\n",
    ":param name: string\n",
    ":return: dict of feature values\n",
    "\"\"\"\n",
    "def extract_feature(name: str):\n",
    "    name = name.upper()\n",
    "    return {\n",
    "        'last_1': name[-1],\n",
    "        'last_2': name[-2:],\n",
    "        'last_3': name[-3:],\n",
    "        'last_is_vowel': (name[-1] in 'AEIOUY')\n",
    "    }\n",
    "\n",
    "# 計算姓名分佈性別的機率，算式為:\n",
    "# male_probability = total_male_count / (total_male_count + total_female_count)\n",
    "\"\"\"\n",
    ":param name_tuple: name tuple contains male / female frequency count\n",
    ":return: male, female probability\n",
    "\"\"\"\n",
    "def get_probability_distribution(name_tuple):\n",
    "    male_counts = name_tuple[1]\n",
    "    female_counts = name_tuple[2]\n",
    "    male_prob = (male_counts * 1.0) / sum([male_counts, female_counts])\n",
    "    if male_prob == 1.0:\n",
    "        male_prob = 0.99\n",
    "    elif male_prob == 0.00:\n",
    "        male_prob = 0.01\n",
    "    female_prob = 1.0 - male_prob\n",
    "    return male_prob, female_prob\n",
    "\n",
    "\"\"\"\n",
    ":param feature_set: validation purpose\n",
    ":return: None\n",
    "\"\"\"\n",
    "def validate_data_set(feature_set: list):\n",
    "    data_list = []\n",
    "    for feature_value, gender in feature_set:\n",
    "        data_list.append({**feature_value, **{'gender': gender}})\n",
    "\n",
    "    import pandas as pd\n",
    "    df = pd.DataFrame(data_list)\n",
    "    print('Feature matrix shape - ', df.shape)"
   ]
  },
  {
   "cell_type": "code",
   "execution_count": null,
   "metadata": {},
   "outputs": [],
   "source": [
    "'''\n",
    "轉換為 (name，male_freq_count，female_freq_count)\n",
    "param names：包含名稱和頻率計數的dict()\n",
    "回傳：names tuple (male_names，female_names)\n",
    "'''\n",
    "def split_names(names: dict()):\n",
    "    if not names:\n",
    "        print('names dict is none.')\n",
    "        exit(-1)\n",
    "\n",
    "    male_names = list()\n",
    "    female_names = list()\n",
    "\n",
    "    for name in names.keys():\n",
    "        counts = names[name]\n",
    "        # converting into tuple (name, male_freq_count, female_freq_count)\n",
    "        male_counts, female_counts = counts[0], counts[1]\n",
    "        data = (name, male_counts, female_counts)\n",
    "        if male_counts == female_counts:\n",
    "            continue\n",
    "        if male_counts > female_counts:\n",
    "            male_names.append(data)\n",
    "        else:\n",
    "            female_names.append(data)\n",
    "\n",
    "    names = (male_names, female_names)\n",
    "    total_males_names = len(male_names)\n",
    "    total_females_names = len(female_names)\n",
    "    total_names = total_females_names + total_males_names\n",
    "    print('Total names - {} \\n Total males names - '\n",
    "          '{} \\n Total female names - {}'.format(total_names, total_males_names,\n",
    "                                                 total_females_names))\n",
    "    return names"
   ]
  },
  {
   "cell_type": "code",
   "execution_count": null,
   "metadata": {},
   "outputs": [],
   "source": [
    "# 準備特徵矩陣 [X] 和映射向量 [y] 監督學習模型\n",
    "\"\"\"\n",
    ":param names: 包含男性名字和女性名字的 tuple()\n",
    ":return:\n",
    "\"\"\"\n",
    "def prepare_data_set():\n",
    "    feature_set = list()\n",
    "    male_names, female_names = split_names(load_names())\n",
    "    names = {'M': male_names, 'F': female_names}\n",
    "\n",
    "    for gender in names.keys():\n",
    "        for name in names[gender]:\n",
    "            features = extract_feature(name[0])\n",
    "            male_prob, female_prob = get_probability_distribution(name)\n",
    "            features['m_prob'] = male_prob\n",
    "            features['f_prob'] = female_prob\n",
    "            feature_set.append((features, gender))\n",
    "    random.shuffle(feature_set)\n",
    "    return feature_set"
   ]
  },
  {
   "cell_type": "code",
   "execution_count": null,
   "metadata": {},
   "outputs": [],
   "source": [
    "# 拆分訓練集並擬合準確率\n",
    "\"\"\"\n",
    ":param train_percent: 拆分訓練集/測試集比例\n",
    ":return:\n",
    "\"\"\"\n",
    "def train_and_test(train_percent=0.80):\n",
    "    feature_set = prepare_data_set()\n",
    "    validate_data_set(feature_set)\n",
    "    random.shuffle(feature_set)\n",
    "    total = len(feature_set)\n",
    "    cut_point = int(total * train_percent)\n",
    "    # splitting Dataset into train and test\n",
    "    train_set = feature_set[:cut_point]\n",
    "    test_set = feature_set[cut_point:]\n",
    "\n",
    "    # fitting feature matrix to the model\n",
    "    classifier = NaiveBayesClassifier.train(train_set)\n",
    "    print('{} Accuracy- {}'.format('Naive Bayes', classify.accuracy(classifier, test_set)))\n",
    "    print('Most informative features')\n",
    "    informative_features = classifier.most_informative_features(n=5)\n",
    "    for feature in informative_features:\n",
    "        print(\"\\t {} = {} \".format(*feature))\n",
    "    return classifier"
   ]
  },
  {
   "cell_type": "code",
   "execution_count": null,
   "metadata": {},
   "outputs": [],
   "source": [
    "model_classifier = train_and_test()"
   ]
  },
  {
   "cell_type": "code",
   "execution_count": null,
   "metadata": {},
   "outputs": [],
   "source": [
    "# 定義傳入姓名預測性別\n",
    "def gender_guess(eng_name):\n",
    "    result = model_classifier.classify(extract_feature(eng_name))\n",
    "    if gender_map[result.upper()]:\n",
    "        result = 'Female'\n",
    "    else:\n",
    "        result = 'Male'\n",
    "    return result"
   ]
  },
  {
   "cell_type": "code",
   "execution_count": null,
   "metadata": {},
   "outputs": [],
   "source": [
    "res = gender_guess(\"David\")\n",
    "print(res)"
   ]
  },
  {
   "cell_type": "code",
   "execution_count": null,
   "metadata": {},
   "outputs": [],
   "source": [
    "res = gender_guess(\"Emily\")\n",
    "print(res)"
   ]
  },
  {
   "cell_type": "code",
   "execution_count": null,
   "metadata": {},
   "outputs": [],
   "source": [
    "### extract_feature\n",
    "# 母音 為 False\n",
    "extract_feature(\"David\")"
   ]
  },
  {
   "cell_type": "code",
   "execution_count": null,
   "metadata": {},
   "outputs": [],
   "source": [
    "# 母音 為 True\n",
    "extract_feature(\"Emily\")"
   ]
  },
  {
   "cell_type": "markdown",
   "metadata": {},
   "source": [
    "### Save English name guesser model"
   ]
  },
  {
   "cell_type": "code",
   "execution_count": null,
   "metadata": {},
   "outputs": [],
   "source": [
    "import pickle\n",
    "with open('model/NaiveBayes/lesson11/eng_name_gender_classifier.pkl', 'wb') as handle:\n",
    "    pickle.dump(model_classifier, handle, protocol=pickle.HIGHEST_PROTOCOL)"
   ]
  },
  {
   "cell_type": "markdown",
   "metadata": {},
   "source": [
    "### Load English name guesser model"
   ]
  },
  {
   "cell_type": "code",
   "execution_count": 1,
   "metadata": {},
   "outputs": [],
   "source": [
    "import pickle\n",
    "with open('model/NaiveBayes/lesson11/eng_name_gender_classifier.pkl', 'rb') as handle:\n",
    "    eng_name_gender_model = pickle.load(handle)"
   ]
  },
  {
   "cell_type": "code",
   "execution_count": 2,
   "metadata": {},
   "outputs": [],
   "source": [
    "gender_map = {'M': 0, 'F': 1}\n",
    "\n",
    "def extract_feature(name: str):\n",
    "    name = name.upper()\n",
    "    return {\n",
    "        'last_1': name[-1],\n",
    "        'last_2': name[-2:],\n",
    "        'last_3': name[-3:],\n",
    "        'last_is_vowel': (name[-1] in 'AEIOUY')\n",
    "    }\n",
    "\n",
    "def eng_name_gender_guess(eng_name_gender_model, eng_name):\n",
    "    result = eng_name_gender_model.classify(extract_feature(eng_name))\n",
    "    if gender_map[result.upper()]:\n",
    "        result = 'Female'\n",
    "    else:\n",
    "        result = 'Male'\n",
    "    return result"
   ]
  },
  {
   "cell_type": "code",
   "execution_count": 3,
   "metadata": {},
   "outputs": [
    {
     "data": {
      "text/plain": [
       "'Male'"
      ]
     },
     "execution_count": 3,
     "metadata": {},
     "output_type": "execute_result"
    }
   ],
   "source": [
    "eng_name_gender_guess(eng_name_gender_model, 'David')"
   ]
  },
  {
   "cell_type": "code",
   "execution_count": 4,
   "metadata": {},
   "outputs": [
    {
     "data": {
      "text/plain": [
       "'Female'"
      ]
     },
     "execution_count": 4,
     "metadata": {},
     "output_type": "execute_result"
    }
   ],
   "source": [
    "eng_name_gender_guess(eng_name_gender_model, 'Emily')"
   ]
  },
  {
   "cell_type": "markdown",
   "metadata": {},
   "source": [
    "### Homework\n",
    "- 預測的姓名是First name, 有些有middle name的呢?\n",
    "- 試試看自己的英文姓名\n",
    "- 請撰寫從中英文文章中，萃取出英文姓名的First name，並做性別預測\n",
    "- 思考應用場景為何?"
   ]
  },
  {
   "cell_type": "markdown",
   "metadata": {},
   "source": [
    "<a id=\"ChineseName\"></a>\n",
    "## Gender Prediction Based on Chinese Name\n"
   ]
  },
  {
   "cell_type": "markdown",
   "metadata": {},
   "source": [
    "### prepare training data\n",
    "\n",
    "<img src=\"images/Chinese_name_dataset.png\">\n",
    "\n",
    "待訓練統計的姓名有三個欄位，分別為id、中文名(不包含姓氏)、以及性別 flag, 0為女生，1為男生。\n",
    "下面我們利用nltk中的Naive Bayes Classifier，根據名字判斷性別的資料進行預測。首先讀取中文姓名資料"
   ]
  },
  {
   "cell_type": "code",
   "execution_count": 5,
   "metadata": {},
   "outputs": [],
   "source": [
    "import pandas as pd\n",
    "import math\n",
    "from collections import defaultdict\n",
    "\n",
    "# Chinese Name gender guess\n",
    "gender_map = {0: '女生', 1: '男生'}\n",
    "\n",
    "#讀取訓練集\n",
    "train = pd.read_csv('data/name/Chinese/train.csv')\n",
    "test = pd.read_csv('data/name/Chinese/test.csv')\n",
    "submit = pd.read_csv('data/name/Chinese/sample_submit.csv')"
   ]
  },
  {
   "cell_type": "code",
   "execution_count": 6,
   "metadata": {},
   "outputs": [
    {
     "data": {
      "text/html": [
       "<div>\n",
       "<style scoped>\n",
       "    .dataframe tbody tr th:only-of-type {\n",
       "        vertical-align: middle;\n",
       "    }\n",
       "\n",
       "    .dataframe tbody tr th {\n",
       "        vertical-align: top;\n",
       "    }\n",
       "\n",
       "    .dataframe thead th {\n",
       "        text-align: right;\n",
       "    }\n",
       "</style>\n",
       "<table border=\"1\" class=\"dataframe\">\n",
       "  <thead>\n",
       "    <tr style=\"text-align: right;\">\n",
       "      <th></th>\n",
       "      <th>id</th>\n",
       "      <th>name</th>\n",
       "      <th>gender</th>\n",
       "    </tr>\n",
       "  </thead>\n",
       "  <tbody>\n",
       "    <tr>\n",
       "      <th>0</th>\n",
       "      <td>1</td>\n",
       "      <td>閎家</td>\n",
       "      <td>1</td>\n",
       "    </tr>\n",
       "    <tr>\n",
       "      <th>1</th>\n",
       "      <td>2</td>\n",
       "      <td>玉瓔</td>\n",
       "      <td>0</td>\n",
       "    </tr>\n",
       "    <tr>\n",
       "      <th>2</th>\n",
       "      <td>3</td>\n",
       "      <td>於鄴</td>\n",
       "      <td>1</td>\n",
       "    </tr>\n",
       "    <tr>\n",
       "      <th>3</th>\n",
       "      <td>4</td>\n",
       "      <td>越英</td>\n",
       "      <td>0</td>\n",
       "    </tr>\n",
       "    <tr>\n",
       "      <th>4</th>\n",
       "      <td>5</td>\n",
       "      <td>蘊萱</td>\n",
       "      <td>0</td>\n",
       "    </tr>\n",
       "  </tbody>\n",
       "</table>\n",
       "</div>"
      ],
      "text/plain": [
       "   id name  gender\n",
       "0   1   閎家       1\n",
       "1   2   玉瓔       0\n",
       "2   3   於鄴       1\n",
       "3   4   越英       0\n",
       "4   5   蘊萱       0"
      ]
     },
     "execution_count": 6,
     "metadata": {},
     "output_type": "execute_result"
    }
   ],
   "source": [
    "train.head()"
   ]
  },
  {
   "cell_type": "code",
   "execution_count": 40,
   "metadata": {},
   "outputs": [
    {
     "data": {
      "text/html": [
       "<div>\n",
       "<style scoped>\n",
       "    .dataframe tbody tr th:only-of-type {\n",
       "        vertical-align: middle;\n",
       "    }\n",
       "\n",
       "    .dataframe tbody tr th {\n",
       "        vertical-align: top;\n",
       "    }\n",
       "\n",
       "    .dataframe thead th {\n",
       "        text-align: right;\n",
       "    }\n",
       "</style>\n",
       "<table border=\"1\" class=\"dataframe\">\n",
       "  <thead>\n",
       "    <tr style=\"text-align: right;\">\n",
       "      <th></th>\n",
       "      <th>id</th>\n",
       "      <th>name</th>\n",
       "      <th>pred</th>\n",
       "    </tr>\n",
       "  </thead>\n",
       "  <tbody>\n",
       "    <tr>\n",
       "      <th>0</th>\n",
       "      <td>0</td>\n",
       "      <td>辰君</td>\n",
       "      <td>0</td>\n",
       "    </tr>\n",
       "    <tr>\n",
       "      <th>1</th>\n",
       "      <td>1</td>\n",
       "      <td>佳遙</td>\n",
       "      <td>0</td>\n",
       "    </tr>\n",
       "    <tr>\n",
       "      <th>2</th>\n",
       "      <td>2</td>\n",
       "      <td>淼劍</td>\n",
       "      <td>1</td>\n",
       "    </tr>\n",
       "    <tr>\n",
       "      <th>3</th>\n",
       "      <td>3</td>\n",
       "      <td>浩苳</td>\n",
       "      <td>1</td>\n",
       "    </tr>\n",
       "    <tr>\n",
       "      <th>4</th>\n",
       "      <td>4</td>\n",
       "      <td>儷妍</td>\n",
       "      <td>0</td>\n",
       "    </tr>\n",
       "  </tbody>\n",
       "</table>\n",
       "</div>"
      ],
      "text/plain": [
       "   id name  pred\n",
       "0   0   辰君     0\n",
       "1   1   佳遙     0\n",
       "2   2   淼劍     1\n",
       "3   3   浩苳     1\n",
       "4   4   儷妍     0"
      ]
     },
     "execution_count": 40,
     "metadata": {},
     "output_type": "execute_result"
    }
   ],
   "source": [
    "test.head()"
   ]
  },
  {
   "cell_type": "code",
   "execution_count": 41,
   "metadata": {},
   "outputs": [
    {
     "data": {
      "text/html": [
       "<div>\n",
       "<style scoped>\n",
       "    .dataframe tbody tr th:only-of-type {\n",
       "        vertical-align: middle;\n",
       "    }\n",
       "\n",
       "    .dataframe tbody tr th {\n",
       "        vertical-align: top;\n",
       "    }\n",
       "\n",
       "    .dataframe thead th {\n",
       "        text-align: right;\n",
       "    }\n",
       "</style>\n",
       "<table border=\"1\" class=\"dataframe\">\n",
       "  <thead>\n",
       "    <tr style=\"text-align: right;\">\n",
       "      <th></th>\n",
       "      <th>id</th>\n",
       "      <th>gender</th>\n",
       "    </tr>\n",
       "  </thead>\n",
       "  <tbody>\n",
       "    <tr>\n",
       "      <th>0</th>\n",
       "      <td>0</td>\n",
       "      <td>0</td>\n",
       "    </tr>\n",
       "    <tr>\n",
       "      <th>1</th>\n",
       "      <td>1</td>\n",
       "      <td>0</td>\n",
       "    </tr>\n",
       "    <tr>\n",
       "      <th>2</th>\n",
       "      <td>2</td>\n",
       "      <td>1</td>\n",
       "    </tr>\n",
       "    <tr>\n",
       "      <th>3</th>\n",
       "      <td>3</td>\n",
       "      <td>1</td>\n",
       "    </tr>\n",
       "    <tr>\n",
       "      <th>4</th>\n",
       "      <td>4</td>\n",
       "      <td>0</td>\n",
       "    </tr>\n",
       "  </tbody>\n",
       "</table>\n",
       "</div>"
      ],
      "text/plain": [
       "   id  gender\n",
       "0   0       0\n",
       "1   1       0\n",
       "2   2       1\n",
       "3   3       1\n",
       "4   4       0"
      ]
     },
     "execution_count": 41,
     "metadata": {},
     "output_type": "execute_result"
    }
   ],
   "source": [
    "submit.head()"
   ]
  },
  {
   "cell_type": "code",
   "execution_count": 7,
   "metadata": {},
   "outputs": [],
   "source": [
    "# 把資料分為男女兩部分\n",
    "names_female = train[train['gender'] == 0]\n",
    "names_male = train[train['gender'] == 1]\n",
    "\n",
    "# totals用來存放訓練集中女生、男生的總數\n",
    "totals = {'f': len(names_female),\n",
    "          'm': len(names_male)}"
   ]
  },
  {
   "cell_type": "markdown",
   "metadata": {},
   "source": [
    "### 分別計算在所有女生（男生）的名字當中，某個字出現的頻率。\n",
    "\n",
    "這一步相當於是計算 \n",
    "    \n",
    "$$P(X_i \\mid 女生) 和 P(X_i \\mid 男生)$$"
   ]
  },
  {
   "cell_type": "code",
   "execution_count": 8,
   "metadata": {},
   "outputs": [],
   "source": [
    "frequency_list_f = defaultdict(int)\n",
    "for name in names_female['name']:\n",
    "    for char in name:\n",
    "        frequency_list_f[char] += 1. / totals['f']\n",
    "\n",
    "frequency_list_m = defaultdict(int)\n",
    "for name in names_male['name']:\n",
    "    for char in name:\n",
    "        frequency_list_m[char] += 1. / totals['m']"
   ]
  },
  {
   "cell_type": "code",
   "execution_count": 9,
   "metadata": {},
   "outputs": [
    {
     "name": "stdout",
     "output_type": "stream",
     "text": [
      "0.004144009000562503\n"
     ]
    }
   ],
   "source": [
    "print(frequency_list_f['娟'])"
   ]
  },
  {
   "cell_type": "code",
   "execution_count": 10,
   "metadata": {},
   "outputs": [
    {
     "name": "stdout",
     "output_type": "stream",
     "text": [
      "0.00031498425078746044\n"
     ]
    }
   ],
   "source": [
    "print(frequency_list_m['鋼'])"
   ]
  },
  {
   "cell_type": "markdown",
   "metadata": {},
   "source": [
    "### 樸素貝葉斯, 拉普拉斯平滑(Laplace Smoothing)\n",
    "\n",
    "上面兩個例子說明<br>\n",
    "P(名字中含有娟|女生)=0.004144P(名字中含有娟|女生)=0.004144<br>\n",
    "P(名字中含有鋼|男生)=0.0006299P(名字中含有鋼|男生)=0.0006299<br>\n",
    "考慮到預測集中可能會有中文字並沒有出現在訓練集中，那麼樸素貝葉斯的統計模型就會出現以下 x feature根本不存在於資料集當中的問題。\n",
    "\n",
    "<img src=\"images/bayes_problems.jpg\">\n",
    "\n",
    "所以我們需要對頻率進行 Laplace 平滑，那麼什麼是Laplace平滑?作法為何?\n",
    "\n",
    "拉普拉斯平滑（Laplace Smoothing）又被稱為加1平滑，是比較常用的平滑方法。平滑方法的存在是為了解決機率為 0 的問題。\n",
    "\n",
    "Laplace的解決方法是：\n",
    "\n",
    "對於一個隨機變數z，它的取值範圍是{1,2,3...,k}，對於m次試驗的觀測結果{z(1),z(2),...z(m))}，極大似然估計按照下式計算：\n",
    "\n",
    "<img src=\"images/laplace_smoothing_0.jpg\">\n",
    "\n",
    "使用了Laplace之後：\n",
    "\n",
    "<img src=\"images/laplace_smoothing_1.jpg\">\n",
    "\n",
    "即在分子上+1，在分母上+變數能取到的個數。\n",
    "因此，在樸素貝葉斯問題，通過laplace平滑修正後：\n",
    "\n",
    "<img src=\"images/laplace_smoothing_ok.jpg\">"
   ]
  },
  {
   "cell_type": "code",
   "execution_count": 13,
   "metadata": {},
   "outputs": [],
   "source": [
    "def LaplaceSmooth(char, frequency_list, total, alpha=1.0):\n",
    "    count = frequency_list[char] * total\n",
    "    distinct_chars = len(frequency_list)\n",
    "    freq_smooth = (count + alpha ) / (total + distinct_chars * alpha)\n",
    "    return freq_smooth"
   ]
  },
  {
   "cell_type": "code",
   "execution_count": 14,
   "metadata": {},
   "outputs": [],
   "source": [
    "base_f = math.log(1 - train['gender'].mean())\n",
    "base_f += sum([math.log(1 - frequency_list_f[char]) for char in frequency_list_f])\n",
    "\n",
    "base_m = math.log(train['gender'].mean())\n",
    "base_m += sum([math.log(1 - frequency_list_m[char]) for char in frequency_list_m])\n",
    "\n",
    "bases = {'f': base_f, 'm': base_m}"
   ]
  },
  {
   "cell_type": "markdown",
   "metadata": {},
   "source": [
    "$$\\log{ P(X_i=1 \\mid Y )  } - \\log{ P(X_i=0 \\mid Y) }$$\n",
    "我們利用以下函數計算"
   ]
  },
  {
   "cell_type": "code",
   "execution_count": 17,
   "metadata": {},
   "outputs": [],
   "source": [
    "def GetLogProb(char, frequency_list, total):\n",
    "    freq_smooth = LaplaceSmooth(char, frequency_list, total)\n",
    "    return math.log(freq_smooth) - math.log(1 - freq_smooth)"
   ]
  },
  {
   "cell_type": "markdown",
   "metadata": {},
   "source": [
    "ypred = argmaxy\n",
    "$$ P(Y=y)P(X_2=1 \\mid Y=y) ∏ n_i= P(X_i=0 \\mid Y=y)P(X_2=0 \\mid Y=y)$$"
   ]
  },
  {
   "cell_type": "code",
   "execution_count": 19,
   "metadata": {},
   "outputs": [],
   "source": [
    "def ComputeLogProb(name, bases, totals, frequency_list_m, frequency_list_f):\n",
    "    logprob_m = bases['m']\n",
    "    logprob_f = bases['f']\n",
    "    for char in name:\n",
    "        logprob_m += GetLogProb(char, frequency_list_m, totals['m'])\n",
    "        logprob_f += GetLogProb(char, frequency_list_f, totals['f'])\n",
    "    return {'male': logprob_m, 'female': logprob_f}\n",
    "\n",
    "def GetGender(LogProbs):\n",
    "    return LogProbs['male'] > LogProbs['female']\n",
    "\n",
    "def pred_name(name):\n",
    "    LogProbs = ComputeLogProb(name, bases, totals, frequency_list_m, frequency_list_f)\n",
    "    gender = GetGender(LogProbs)\n",
    "    result = gender_map[gender]\n",
    "    return result\n",
    "\n",
    "result = []\n",
    "for name in test['name']:\n",
    "    LogProbs = ComputeLogProb(name, bases, totals, frequency_list_m, frequency_list_f)\n",
    "    gender = GetGender(LogProbs)\n",
    "    result.append(int(gender))\n",
    "\n",
    "submit['gender'] = result\n",
    "submit.to_csv('data/name/Chinese/my_NB_prediction.csv', index=False)"
   ]
  },
  {
   "cell_type": "code",
   "execution_count": 20,
   "metadata": {},
   "outputs": [
    {
     "data": {
      "text/html": [
       "<div>\n",
       "<style scoped>\n",
       "    .dataframe tbody tr th:only-of-type {\n",
       "        vertical-align: middle;\n",
       "    }\n",
       "\n",
       "    .dataframe tbody tr th {\n",
       "        vertical-align: top;\n",
       "    }\n",
       "\n",
       "    .dataframe thead th {\n",
       "        text-align: right;\n",
       "    }\n",
       "</style>\n",
       "<table border=\"1\" class=\"dataframe\">\n",
       "  <thead>\n",
       "    <tr style=\"text-align: right;\">\n",
       "      <th></th>\n",
       "      <th>id</th>\n",
       "      <th>name</th>\n",
       "      <th>pred</th>\n",
       "    </tr>\n",
       "  </thead>\n",
       "  <tbody>\n",
       "    <tr>\n",
       "      <th>0</th>\n",
       "      <td>0</td>\n",
       "      <td>辰君</td>\n",
       "      <td>0</td>\n",
       "    </tr>\n",
       "    <tr>\n",
       "      <th>1</th>\n",
       "      <td>1</td>\n",
       "      <td>佳遙</td>\n",
       "      <td>0</td>\n",
       "    </tr>\n",
       "    <tr>\n",
       "      <th>2</th>\n",
       "      <td>2</td>\n",
       "      <td>淼劍</td>\n",
       "      <td>1</td>\n",
       "    </tr>\n",
       "    <tr>\n",
       "      <th>3</th>\n",
       "      <td>3</td>\n",
       "      <td>浩苳</td>\n",
       "      <td>1</td>\n",
       "    </tr>\n",
       "    <tr>\n",
       "      <th>4</th>\n",
       "      <td>4</td>\n",
       "      <td>儷妍</td>\n",
       "      <td>0</td>\n",
       "    </tr>\n",
       "  </tbody>\n",
       "</table>\n",
       "</div>"
      ],
      "text/plain": [
       "   id name  pred\n",
       "0   0   辰君     0\n",
       "1   1   佳遙     0\n",
       "2   2   淼劍     1\n",
       "3   3   浩苳     1\n",
       "4   4   儷妍     0"
      ]
     },
     "execution_count": 20,
     "metadata": {},
     "output_type": "execute_result"
    }
   ],
   "source": [
    "test['pred'] = result\n",
    "test.head(5)"
   ]
  },
  {
   "cell_type": "code",
   "execution_count": 21,
   "metadata": {},
   "outputs": [
    {
     "name": "stdout",
     "output_type": "stream",
     "text": [
      "女生\n"
     ]
    }
   ],
   "source": [
    "gdr = pred_name(\"芊霈\")\n",
    "print(gdr)"
   ]
  },
  {
   "cell_type": "code",
   "execution_count": 22,
   "metadata": {},
   "outputs": [
    {
     "name": "stdout",
     "output_type": "stream",
     "text": [
      "男生\n"
     ]
    }
   ],
   "source": [
    "gdr = pred_name(\"紘霆\")\n",
    "print(gdr)"
   ]
  },
  {
   "cell_type": "markdown",
   "metadata": {},
   "source": [
    "### Save Chinese name guesser model"
   ]
  },
  {
   "cell_type": "code",
   "execution_count": 25,
   "metadata": {},
   "outputs": [],
   "source": [
    "model_dict = {}\n",
    "model_dict[\"totals\"] = totals\n",
    "model_dict[\"bases\"] = bases\n",
    "model_dict[\"frequency_list_m\"] = frequency_list_m\n",
    "model_dict[\"frequency_list_f\"] = frequency_list_f\n",
    "\n",
    "import pickle\n",
    "with open('model/NaiveBayes/lesson11/cht_name_gender_classifier.pkl', 'wb') as handle:\n",
    "    pickle.dump(model_dict, handle, protocol=pickle.HIGHEST_PROTOCOL)"
   ]
  },
  {
   "cell_type": "markdown",
   "metadata": {},
   "source": [
    "### Load Chinese name guesser model"
   ]
  },
  {
   "cell_type": "code",
   "execution_count": 36,
   "metadata": {},
   "outputs": [],
   "source": [
    "import math\n",
    "import pickle\n",
    "with open('model/NaiveBayes/lesson11/cht_name_gender_classifier.pkl', 'rb') as handle:\n",
    "    cht_name_gender_model = pickle.load(handle)"
   ]
  },
  {
   "cell_type": "code",
   "execution_count": 37,
   "metadata": {},
   "outputs": [],
   "source": [
    "totals = cht_name_gender_model['totals']\n",
    "bases = cht_name_gender_model['bases']\n",
    "frequency_list_m = cht_name_gender_model['frequency_list_m']\n",
    "frequency_list_f = cht_name_gender_model['frequency_list_f']\n",
    "\n",
    "gender_map = {0: '女生', 1: '男生'}\n",
    "\n",
    "def GetGender(LogProbs):\n",
    "    return LogProbs['male'] > LogProbs['female']\n",
    "\n",
    "def LaplaceSmooth(char, frequency_list, total, alpha=1.0):\n",
    "    count = frequency_list[char] * total\n",
    "    distinct_chars = len(frequency_list)\n",
    "    freq_smooth = (count + alpha ) / (total + distinct_chars * alpha)\n",
    "    return freq_smooth\n",
    "\n",
    "def GetLogProb(char, frequency_list, total):\n",
    "    freq_smooth = LaplaceSmooth(char, frequency_list, total)\n",
    "    return math.log(freq_smooth) - math.log(1 - freq_smooth)\n",
    "\n",
    "def ComputeLogProb(name, bases, totals, frequency_list_m, frequency_list_f):\n",
    "    logprob_m = bases['m']\n",
    "    logprob_f = bases['f']\n",
    "    for char in name:\n",
    "        logprob_m += GetLogProb(char, frequency_list_m, totals['m'])\n",
    "        logprob_f += GetLogProb(char, frequency_list_f, totals['f'])\n",
    "    return {'male': logprob_m, 'female': logprob_f}\n",
    "\n",
    "def cht_name_gender_guess(name):\n",
    "    LogProbs = ComputeLogProb(name, bases, totals, frequency_list_m, frequency_list_f)\n",
    "    gender = GetGender(LogProbs)\n",
    "    result = gender_map[gender]\n",
    "    return result"
   ]
  },
  {
   "cell_type": "code",
   "execution_count": 38,
   "metadata": {},
   "outputs": [
    {
     "data": {
      "text/plain": [
       "'男生'"
      ]
     },
     "execution_count": 38,
     "metadata": {},
     "output_type": "execute_result"
    }
   ],
   "source": [
    "cht_name_gender_guess('謝霆峰')"
   ]
  },
  {
   "cell_type": "code",
   "execution_count": 39,
   "metadata": {},
   "outputs": [
    {
     "data": {
      "text/plain": [
       "'女生'"
      ]
     },
     "execution_count": 39,
     "metadata": {},
     "output_type": "execute_result"
    }
   ],
   "source": [
    "cht_name_gender_guess('蔡依琳')"
   ]
  },
  {
   "cell_type": "markdown",
   "metadata": {},
   "source": [
    "### Homework\n",
    "- 預測的姓名是名字, 將姓氏放入預測效果如何?\n",
    "- 試試看自己的中文姓名\n",
    "- 請撰寫從中英文文章中，萃取出英文姓名的First name，並做性別預測\n",
    "- 思考有哪些地方可應用中文姓名性別預測?"
   ]
  }
 ],
 "metadata": {
  "kernelspec": {
   "display_name": "Python 3",
   "language": "python",
   "name": "python3"
  },
  "language_info": {
   "codemirror_mode": {
    "name": "ipython",
    "version": 3
   },
   "file_extension": ".py",
   "mimetype": "text/x-python",
   "name": "python",
   "nbconvert_exporter": "python",
   "pygments_lexer": "ipython3",
   "version": "3.6.4"
  }
 },
 "nbformat": 4,
 "nbformat_minor": 2
}
