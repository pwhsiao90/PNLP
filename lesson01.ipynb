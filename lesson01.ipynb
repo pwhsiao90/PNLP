{
 "cells": [
  {
   "cell_type": "markdown",
   "metadata": {},
   "source": [
    "## Lesson 1 - Conda, IPython, Jupyter Notebooks and Python Introduction\n",
    "\n",
    "\n",
    "\n",
    "\n",
    "\n",
    "### Table of Contents\n",
    "\n",
    "* [邁向Python 資料分析師 - From zero to Hero](#Python)"
   ]
  },
  {
   "cell_type": "markdown",
   "metadata": {},
   "source": [
    "<a id=\"Python\"></a>\n",
    "## Conda, IPython, Jupyter Notebooks and Python Introduction"
   ]
  },
  {
   "cell_type": "markdown",
   "metadata": {},
   "source": [
    "<a id=\"ipython\"></a>\n",
    "\n",
    "### Python 是什麼？\n",
    "\n",
    "Python 是一套功能強大、直譯式(透過Interpreter直譯器)並且物件導向的程式語言，這個程式語言有幾項特點：\n",
    "\n",
    "- 容易撰寫\n",
    "\n",
    "Python 具有物件導向(Object Oriented)的特性，但也可以不用物件導向的方式撰寫。撇開物件導向不談，Python 通常可以靠比較短的程式碼完成比較多的功能，或者可以寫得比較直覺易懂。\n",
    "\n",
    "- 功能強大\n",
    "\n",
    "Python 自 1990 年由 Guido van Rossum 在荷蘭的 CWI 開始發展以來，從 0.9 進步到今天的 3.7，不但累積了相當完整的標準程式庫 (模組)，更有大量的統計、數學、演算法模組可安裝，且絕大部分都是開放原始碼的。單以內建的模組來講，從簡單的數學運算、字串處理、網際網路連線(爬蟲)、各種壓縮格式功能等等，範圍非常地廣泛。\n",
    "\n",
    "- 跨平台\n",
    "\n",
    "各種主要的作業系統都支援 Python。Python 程式不需要修改，便可以同時在 Linux 、MacOS 與 Windows 平台上執行，同時也支援雲端 Web 介面(Jupyter Notebook) 直接執行。\n",
    "\n",
    "- 容易擴充\n",
    "\n",
    "Python 算是執行效率不錯的直譯式語言，但畢竟比不上 C 和 C++。 不過 Python 也可以整合其他程式語言，藉由呼叫 C/C++ 或 Java 撰寫 hub 樞紐的前導程式，這些模組的使用方式，與內建模組以及用 Python 撰寫的模組完全一樣，整合的方法並不困難。\n",
    "\n",
    "#### 在MacOS上安裝Anaconda\n",
    "- [參考MacOS上安裝Anaconda (Python 3.6) 的影片 ](https://www.youtube.com/watch?v=OUnQqlSIn3k)\n",
    "- [參考Windows上安裝Anaconda (Python 3.6) 的影片](https://www.youtube.com/watch?v=T8wK5loXkXg)\n",
    "\n",
    "#### Python command-line interpreter\n",
    "\n",
    "To open the Python interpreter, go to your terminal and type:\n",
    "\n",
    "```\n",
    "python\n",
    "```\n",
    "\n",
    "#### IPython command-line interpreter\n",
    "\n",
    "To open the IPython interpreter, go to your terminal and type:\n",
    "\n",
    "```\n",
    "ipython\n",
    "```\n",
    "\n",
    "#### Jupyter (IPython) notebooks\n",
    "\n",
    "For macOS and Linux users, to launch a Jupyter notebook, open Terminal and type:\n",
    "\n",
    "```\n",
    "jupyter notebook\n",
    "```\n",
    "\n",
    "For Windows users, to launch a Jupyter notebook, open Anaconda Prompt and type:\n",
    "\n",
    "```\n",
    "jupyter notebook\n",
    "```"
   ]
  },
  {
   "cell_type": "markdown",
   "metadata": {},
   "source": [
    "<a id=\"syntax\"></a>\n",
    "\n",
    "## Python Hands-On\n",
    "\n",
    "In this tutorial we will cover some basic aspects of Python using IPython (Jupyter) notebooks. \n",
    "\n",
    "1. Input\n",
    "2. Syntax\n",
    "3. Data types\n",
    "4. Loops and control structures\n",
    "5. numpy, scipy, math"
   ]
  },
  {
   "cell_type": "code",
   "execution_count": 1,
   "metadata": {},
   "outputs": [
    {
     "name": "stdout",
     "output_type": "stream",
     "text": [
      "Please input your name: David\n",
      "Hi,  David\n"
     ]
    }
   ],
   "source": [
    "x = input(\"Please input your name: \")\n",
    "\n",
    "print(\"Hi, \", x)"
   ]
  },
  {
   "cell_type": "code",
   "execution_count": 2,
   "metadata": {},
   "outputs": [
    {
     "data": {
      "text/html": [
       "<style>\n",
       "table {float:left}\n",
       "</style>"
      ],
      "text/plain": [
       "<IPython.core.display.HTML object>"
      ]
     },
     "metadata": {},
     "output_type": "display_data"
    }
   ],
   "source": [
    "%%html\n",
    "<style>\n",
    "table {float:left}\n",
    "</style>"
   ]
  },
  {
   "cell_type": "markdown",
   "metadata": {},
   "source": [
    "| Operator | Name            | Example |\n",
    "|:--------:|:---------------:|:-------:|\n",
    "| +        | Addition        | a + b   |\n",
    "| -        | Subtraction     | a - b   |\n",
    "| *        | Multiplication  | a * b   |\n",
    "| /        | Division        | a / b   |\n",
    "| %        | Modulus         | a % b   |\n",
    "| **       | Exponentiation  | a ** b  |\n",
    "| //       | Floor division  | a // b  |\n",
    "| =        | Assign variable | a = b   |\n",
    "| ==       | Equals to       | a == b  |"
   ]
  },
  {
   "cell_type": "markdown",
   "metadata": {},
   "source": [
    "### Annotation"
   ]
  },
  {
   "cell_type": "code",
   "execution_count": 3,
   "metadata": {},
   "outputs": [],
   "source": [
    "# comment out 註解掉一行命令"
   ]
  },
  {
   "cell_type": "code",
   "execution_count": 4,
   "metadata": {},
   "outputs": [
    {
     "data": {
      "text/plain": [
       "1"
      ]
     },
     "execution_count": 4,
     "metadata": {},
     "output_type": "execute_result"
    }
   ],
   "source": [
    "'''\n",
    "利用「三引號」字串，註解寫成了文章了\n",
    "還可以換行喔! 下面一行 1 是測試用的啦~\n",
    "'''\n",
    "1"
   ]
  },
  {
   "cell_type": "markdown",
   "metadata": {},
   "source": [
    "### variables"
   ]
  },
  {
   "cell_type": "code",
   "execution_count": 5,
   "metadata": {},
   "outputs": [],
   "source": [
    "# variables\n",
    "a = 3"
   ]
  },
  {
   "cell_type": "code",
   "execution_count": 6,
   "metadata": {},
   "outputs": [
    {
     "data": {
      "text/plain": [
       "3"
      ]
     },
     "execution_count": 6,
     "metadata": {},
     "output_type": "execute_result"
    }
   ],
   "source": [
    "a"
   ]
  },
  {
   "cell_type": "code",
   "execution_count": 7,
   "metadata": {},
   "outputs": [
    {
     "data": {
      "text/plain": [
       "6"
      ]
     },
     "execution_count": 7,
     "metadata": {},
     "output_type": "execute_result"
    }
   ],
   "source": [
    "a + 3"
   ]
  },
  {
   "cell_type": "markdown",
   "metadata": {},
   "source": [
    "### Python 3 variable name can using 中文"
   ]
  },
  {
   "cell_type": "code",
   "execution_count": 8,
   "metadata": {},
   "outputs": [],
   "source": [
    "底 = 3"
   ]
  },
  {
   "cell_type": "code",
   "execution_count": 9,
   "metadata": {},
   "outputs": [
    {
     "data": {
      "text/plain": [
       "3"
      ]
     },
     "execution_count": 9,
     "metadata": {},
     "output_type": "execute_result"
    }
   ],
   "source": [
    "底"
   ]
  },
  {
   "cell_type": "code",
   "execution_count": 10,
   "metadata": {},
   "outputs": [],
   "source": [
    "高 = 6"
   ]
  },
  {
   "cell_type": "code",
   "execution_count": 11,
   "metadata": {},
   "outputs": [],
   "source": [
    "面積 = (底 * 高) / 2"
   ]
  },
  {
   "cell_type": "code",
   "execution_count": 12,
   "metadata": {},
   "outputs": [
    {
     "data": {
      "text/plain": [
       "9.0"
      ]
     },
     "execution_count": 12,
     "metadata": {},
     "output_type": "execute_result"
    }
   ],
   "source": [
    "面積"
   ]
  },
  {
   "cell_type": "markdown",
   "metadata": {},
   "source": [
    "### Math and calculator"
   ]
  },
  {
   "cell_type": "code",
   "execution_count": 13,
   "metadata": {},
   "outputs": [
    {
     "data": {
      "text/plain": [
       "3"
      ]
     },
     "execution_count": 13,
     "metadata": {},
     "output_type": "execute_result"
    }
   ],
   "source": [
    "1 + 2"
   ]
  },
  {
   "cell_type": "code",
   "execution_count": 14,
   "metadata": {},
   "outputs": [
    {
     "data": {
      "text/plain": [
       "10"
      ]
     },
     "execution_count": 14,
     "metadata": {},
     "output_type": "execute_result"
    }
   ],
   "source": [
    "x = 2 # 將等號右邊的值，assign給等號左邊的變數 (variable)\n",
    "y = 5\n",
    "x * y"
   ]
  },
  {
   "cell_type": "code",
   "execution_count": 15,
   "metadata": {},
   "outputs": [
    {
     "data": {
      "text/plain": [
       "32"
      ]
     },
     "execution_count": 15,
     "metadata": {},
     "output_type": "execute_result"
    }
   ],
   "source": [
    "x ** y"
   ]
  },
  {
   "cell_type": "markdown",
   "metadata": {},
   "source": [
    "$ x^y $"
   ]
  },
  {
   "cell_type": "code",
   "execution_count": 16,
   "metadata": {},
   "outputs": [
    {
     "data": {
      "text/plain": [
       "0"
      ]
     },
     "execution_count": 16,
     "metadata": {},
     "output_type": "execute_result"
    }
   ],
   "source": [
    "# Floor Division則是直接忽略小數點以後的所有數字\n",
    "x // y"
   ]
  },
  {
   "cell_type": "markdown",
   "metadata": {},
   "source": [
    "### Data Types"
   ]
  },
  {
   "cell_type": "markdown",
   "metadata": {},
   "source": [
    "#### Integer"
   ]
  },
  {
   "cell_type": "code",
   "execution_count": 17,
   "metadata": {},
   "outputs": [
    {
     "data": {
      "text/plain": [
       "int"
      ]
     },
     "execution_count": 17,
     "metadata": {},
     "output_type": "execute_result"
    }
   ],
   "source": [
    "a = 8\n",
    "type(8)"
   ]
  },
  {
   "cell_type": "code",
   "execution_count": 18,
   "metadata": {},
   "outputs": [
    {
     "data": {
      "text/plain": [
       "15"
      ]
     },
     "execution_count": 18,
     "metadata": {},
     "output_type": "execute_result"
    }
   ],
   "source": [
    "b = 7\n",
    "c = a + b\n",
    "c"
   ]
  },
  {
   "cell_type": "code",
   "execution_count": 19,
   "metadata": {},
   "outputs": [
    {
     "data": {
      "text/plain": [
       "int"
      ]
     },
     "execution_count": 19,
     "metadata": {},
     "output_type": "execute_result"
    }
   ],
   "source": [
    "type(c)"
   ]
  },
  {
   "cell_type": "code",
   "execution_count": 20,
   "metadata": {},
   "outputs": [
    {
     "data": {
      "text/plain": [
       "'15'"
      ]
     },
     "execution_count": 20,
     "metadata": {},
     "output_type": "execute_result"
    }
   ],
   "source": [
    "# Convert Integer to String\n",
    "d = str(c)\n",
    "d"
   ]
  },
  {
   "cell_type": "code",
   "execution_count": 21,
   "metadata": {},
   "outputs": [
    {
     "data": {
      "text/plain": [
       "str"
      ]
     },
     "execution_count": 21,
     "metadata": {},
     "output_type": "execute_result"
    }
   ],
   "source": [
    "type(d)"
   ]
  },
  {
   "cell_type": "code",
   "execution_count": 22,
   "metadata": {},
   "outputs": [
    {
     "data": {
      "text/plain": [
       "15"
      ]
     },
     "execution_count": 22,
     "metadata": {},
     "output_type": "execute_result"
    }
   ],
   "source": [
    "e = int(d)\n",
    "e"
   ]
  },
  {
   "cell_type": "code",
   "execution_count": 23,
   "metadata": {},
   "outputs": [
    {
     "data": {
      "text/plain": [
       "int"
      ]
     },
     "execution_count": 23,
     "metadata": {},
     "output_type": "execute_result"
    }
   ],
   "source": [
    "type(e)"
   ]
  },
  {
   "cell_type": "code",
   "execution_count": 24,
   "metadata": {},
   "outputs": [
    {
     "ename": "ValueError",
     "evalue": "invalid literal for int() with base 10: '1a2b'",
     "output_type": "error",
     "traceback": [
      "\u001b[1;31m---------------------------------------------------------------------------\u001b[0m",
      "\u001b[1;31mValueError\u001b[0m                                Traceback (most recent call last)",
      "\u001b[1;32m<ipython-input-24-cf864b428348>\u001b[0m in \u001b[0;36m<module>\u001b[1;34m()\u001b[0m\n\u001b[0;32m      1\u001b[0m \u001b[1;31m# Error handling\u001b[0m\u001b[1;33m\u001b[0m\u001b[1;33m\u001b[0m\u001b[1;33m\u001b[0m\u001b[0m\n\u001b[0;32m      2\u001b[0m \u001b[0mf\u001b[0m \u001b[1;33m=\u001b[0m \u001b[1;34m\"1a2b\"\u001b[0m\u001b[1;33m\u001b[0m\u001b[1;33m\u001b[0m\u001b[0m\n\u001b[1;32m----> 3\u001b[1;33m \u001b[0mg\u001b[0m \u001b[1;33m=\u001b[0m \u001b[0mint\u001b[0m\u001b[1;33m(\u001b[0m\u001b[0mf\u001b[0m\u001b[1;33m)\u001b[0m\u001b[1;33m\u001b[0m\u001b[1;33m\u001b[0m\u001b[0m\n\u001b[0m",
      "\u001b[1;31mValueError\u001b[0m: invalid literal for int() with base 10: '1a2b'"
     ]
    }
   ],
   "source": [
    "# Error handling\n",
    "f = \"1a2b\"\n",
    "g = int(f)"
   ]
  },
  {
   "cell_type": "code",
   "execution_count": 25,
   "metadata": {},
   "outputs": [],
   "source": [
    "try:\n",
    "    f = \"1a2b\"\n",
    "    g = int(f)  \n",
    "except Exception as e:\n",
    "    pass"
   ]
  },
  {
   "cell_type": "markdown",
   "metadata": {},
   "source": [
    "#### Booleans\n",
    "\n",
    "'True' and 'False' have special meaning in Python."
   ]
  },
  {
   "cell_type": "code",
   "execution_count": 26,
   "metadata": {},
   "outputs": [],
   "source": [
    "a = True\n",
    "b = False"
   ]
  },
  {
   "cell_type": "code",
   "execution_count": 27,
   "metadata": {},
   "outputs": [
    {
     "data": {
      "text/plain": [
       "True"
      ]
     },
     "execution_count": 27,
     "metadata": {},
     "output_type": "execute_result"
    }
   ],
   "source": [
    "# 輸出 a 是否等於 True的寫法，有兩個等號，是表格中的operator(運算子)\n",
    "a == True"
   ]
  },
  {
   "cell_type": "code",
   "execution_count": 28,
   "metadata": {},
   "outputs": [
    {
     "data": {
      "text/plain": [
       "False"
      ]
     },
     "execution_count": 28,
     "metadata": {},
     "output_type": "execute_result"
    }
   ],
   "source": [
    "b == True  # 母丟喔"
   ]
  },
  {
   "cell_type": "code",
   "execution_count": 29,
   "metadata": {},
   "outputs": [
    {
     "data": {
      "text/plain": [
       "True"
      ]
     },
     "execution_count": 29,
     "metadata": {},
     "output_type": "execute_result"
    }
   ],
   "source": [
    "a or b  # or 有一個是True就是True"
   ]
  },
  {
   "cell_type": "code",
   "execution_count": 30,
   "metadata": {},
   "outputs": [
    {
     "data": {
      "text/plain": [
       "True"
      ]
     },
     "execution_count": 30,
     "metadata": {},
     "output_type": "execute_result"
    }
   ],
   "source": [
    "b or a"
   ]
  },
  {
   "cell_type": "code",
   "execution_count": 31,
   "metadata": {},
   "outputs": [
    {
     "data": {
      "text/plain": [
       "False"
      ]
     },
     "execution_count": 31,
     "metadata": {},
     "output_type": "execute_result"
    }
   ],
   "source": [
    "a and b  # a 和 b 兩個都要是True才是True"
   ]
  },
  {
   "cell_type": "code",
   "execution_count": 32,
   "metadata": {},
   "outputs": [
    {
     "data": {
      "text/plain": [
       "False"
      ]
     },
     "execution_count": 32,
     "metadata": {},
     "output_type": "execute_result"
    }
   ],
   "source": [
    "b and a"
   ]
  },
  {
   "cell_type": "markdown",
   "metadata": {},
   "source": [
    "|  AND   |  True  |  False  |\n",
    "|:------:|:------:|:-------:|\n",
    "|  True  |  True  |  False  |\n",
    "|  False |  False |  False  |"
   ]
  },
  {
   "cell_type": "markdown",
   "metadata": {},
   "source": [
    "|   OR   |  True  |  False  |\n",
    "|:------:|:------:|:-------:|\n",
    "|  True  |  True  |  True   |\n",
    "|  False |  True  |  False  |"
   ]
  },
  {
   "cell_type": "markdown",
   "metadata": {},
   "source": [
    "#### Math of Numbers: integers, floats and type\n",
    "\n",
    "Numbers are pretty straightforward, especially in Python 3."
   ]
  },
  {
   "cell_type": "code",
   "execution_count": 33,
   "metadata": {},
   "outputs": [
    {
     "data": {
      "text/plain": [
       "3"
      ]
     },
     "execution_count": 33,
     "metadata": {},
     "output_type": "execute_result"
    }
   ],
   "source": [
    "1 + 2"
   ]
  },
  {
   "cell_type": "code",
   "execution_count": 34,
   "metadata": {},
   "outputs": [
    {
     "data": {
      "text/plain": [
       "3.0"
      ]
     },
     "execution_count": 34,
     "metadata": {},
     "output_type": "execute_result"
    }
   ],
   "source": [
    "1.0 + 2.0"
   ]
  },
  {
   "cell_type": "code",
   "execution_count": 35,
   "metadata": {},
   "outputs": [
    {
     "data": {
      "text/plain": [
       "0.5"
      ]
     },
     "execution_count": 35,
     "metadata": {},
     "output_type": "execute_result"
    }
   ],
   "source": [
    "1 / 2"
   ]
  },
  {
   "cell_type": "code",
   "execution_count": 36,
   "metadata": {},
   "outputs": [
    {
     "data": {
      "text/plain": [
       "0.5"
      ]
     },
     "execution_count": 36,
     "metadata": {},
     "output_type": "execute_result"
    }
   ],
   "source": [
    "1.0 / 2.0"
   ]
  },
  {
   "cell_type": "code",
   "execution_count": 37,
   "metadata": {},
   "outputs": [
    {
     "data": {
      "text/plain": [
       "int"
      ]
     },
     "execution_count": 37,
     "metadata": {},
     "output_type": "execute_result"
    }
   ],
   "source": [
    "type(1)"
   ]
  },
  {
   "cell_type": "code",
   "execution_count": 38,
   "metadata": {},
   "outputs": [
    {
     "data": {
      "text/plain": [
       "float"
      ]
     },
     "execution_count": 38,
     "metadata": {},
     "output_type": "execute_result"
    }
   ],
   "source": [
    "type(1/2)"
   ]
  },
  {
   "cell_type": "code",
   "execution_count": 39,
   "metadata": {},
   "outputs": [
    {
     "data": {
      "text/plain": [
       "str"
      ]
     },
     "execution_count": 39,
     "metadata": {},
     "output_type": "execute_result"
    }
   ],
   "source": [
    "type(\"字串\")"
   ]
  },
  {
   "cell_type": "markdown",
   "metadata": {},
   "source": [
    "#### Strings\n",
    "\n",
    "The next four data types -- strings, lists, tuples, arrays -- are all sequences.\n",
    "\n",
    "Strings are sequences of characters."
   ]
  },
  {
   "cell_type": "code",
   "execution_count": 40,
   "metadata": {},
   "outputs": [],
   "source": [
    "s1 = '嗨!'"
   ]
  },
  {
   "cell_type": "code",
   "execution_count": 41,
   "metadata": {},
   "outputs": [
    {
     "data": {
      "text/plain": [
       "2"
      ]
     },
     "execution_count": 41,
     "metadata": {},
     "output_type": "execute_result"
    }
   ],
   "source": [
    "# len 函數，計算字串中有幾個字元，包含標點符號，中文字一個算是1個字元\n",
    "len(s1)"
   ]
  },
  {
   "cell_type": "code",
   "execution_count": 42,
   "metadata": {},
   "outputs": [],
   "source": [
    "s2 = '大衛!'"
   ]
  },
  {
   "cell_type": "code",
   "execution_count": 43,
   "metadata": {},
   "outputs": [
    {
     "data": {
      "text/plain": [
       "'嗨!大衛!'"
      ]
     },
     "execution_count": 43,
     "metadata": {},
     "output_type": "execute_result"
    }
   ],
   "source": [
    "# 以 + operator 連接(concatenate)兩個字串\n",
    "s3 = s1 + s2\n",
    "s3"
   ]
  },
  {
   "cell_type": "code",
   "execution_count": 44,
   "metadata": {},
   "outputs": [
    {
     "data": {
      "text/plain": [
       "5"
      ]
     },
     "execution_count": 44,
     "metadata": {},
     "output_type": "execute_result"
    }
   ],
   "source": [
    "len(s3)"
   ]
  },
  {
   "cell_type": "code",
   "execution_count": 45,
   "metadata": {},
   "outputs": [
    {
     "data": {
      "text/plain": [
       "'嗨'"
      ]
     },
     "execution_count": 45,
     "metadata": {},
     "output_type": "execute_result"
    }
   ],
   "source": [
    "# Python中的字串，屬於list的型別(稍晚介紹)一種，可以中括號[]來取出某幾個字\n",
    "s3[0:1]"
   ]
  },
  {
   "cell_type": "code",
   "execution_count": 46,
   "metadata": {},
   "outputs": [
    {
     "data": {
      "text/plain": [
       "'!'"
      ]
     },
     "execution_count": 46,
     "metadata": {},
     "output_type": "execute_result"
    }
   ],
   "source": [
    "s3[1:2]"
   ]
  },
  {
   "cell_type": "code",
   "execution_count": 47,
   "metadata": {},
   "outputs": [
    {
     "data": {
      "text/plain": [
       "'!大衛!'"
      ]
     },
     "execution_count": 47,
     "metadata": {},
     "output_type": "execute_result"
    }
   ],
   "source": [
    "s3[1:]"
   ]
  },
  {
   "cell_type": "code",
   "execution_count": 48,
   "metadata": {},
   "outputs": [
    {
     "data": {
      "text/plain": [
       "'嗨'"
      ]
     },
     "execution_count": 48,
     "metadata": {},
     "output_type": "execute_result"
    }
   ],
   "source": [
    "s3[:1]"
   ]
  },
  {
   "cell_type": "markdown",
   "metadata": {},
   "source": [
    "#### print"
   ]
  },
  {
   "cell_type": "code",
   "execution_count": 49,
   "metadata": {},
   "outputs": [
    {
     "name": "stdout",
     "output_type": "stream",
     "text": [
      "嗨! 單引號字串!\n"
     ]
    }
   ],
   "source": [
    "# print => 印出文字在 console\n",
    "print('嗨! 單引號字串!')"
   ]
  },
  {
   "cell_type": "code",
   "execution_count": 50,
   "metadata": {},
   "outputs": [
    {
     "name": "stdout",
     "output_type": "stream",
     "text": [
      "雙引號字串 與 單引號字串輸出效果一樣，注意空格也會忠實輸出!\n"
     ]
    }
   ],
   "source": [
    "print(\"雙引號字串 與 單引號字串輸出效果一樣，注意空格也會忠實輸出!\")"
   ]
  },
  {
   "cell_type": "code",
   "execution_count": 51,
   "metadata": {},
   "outputs": [
    {
     "name": "stdout",
     "output_type": "stream",
     "text": [
      "嗨!大衛!\n"
     ]
    }
   ],
   "source": [
    "# 將剛才的 s3 變數的內容輸出在 console\n",
    "print(s3)"
   ]
  },
  {
   "cell_type": "markdown",
   "metadata": {},
   "source": [
    "**Option 1: %-formatting** — Original Python syntax."
   ]
  },
  {
   "cell_type": "code",
   "execution_count": 52,
   "metadata": {},
   "outputs": [
    {
     "name": "stdout",
     "output_type": "stream",
     "text": [
      "天氣真好，嗨! 大衛!\n"
     ]
    }
   ],
   "source": [
    "# 使用 %s 作為變數，將要組成的變數利用 % (\"\") 來動態傳入變數\n",
    "s4 = \"天氣真好，%s %s\" % (s1, s2)\n",
    "print( s4 )"
   ]
  },
  {
   "cell_type": "markdown",
   "metadata": {},
   "source": [
    "**Option 2: str.format()** – Introduced in Python 2.6."
   ]
  },
  {
   "cell_type": "code",
   "execution_count": 53,
   "metadata": {},
   "outputs": [
    {
     "name": "stdout",
     "output_type": "stream",
     "text": [
      "天氣真好，嗨! 大衛! \n"
     ]
    }
   ],
   "source": [
    "s4 = \"天氣真好，{} {} \".format(s1, s2)\n",
    "print( s4 )"
   ]
  },
  {
   "cell_type": "markdown",
   "metadata": {},
   "source": [
    "#### Lists (串列)\n",
    "\n",
    "Lists are _mutable_ sequences of anything."
   ]
  },
  {
   "cell_type": "code",
   "execution_count": 54,
   "metadata": {},
   "outputs": [],
   "source": [
    "lst = [1, 3, 5, 7, 9, 11, 13]"
   ]
  },
  {
   "cell_type": "code",
   "execution_count": 55,
   "metadata": {},
   "outputs": [
    {
     "data": {
      "text/plain": [
       "1"
      ]
     },
     "execution_count": 55,
     "metadata": {},
     "output_type": "execute_result"
    }
   ],
   "source": [
    "# list 中的第一個元素(element)，索引為0，值為1，索引為1，值為3，依此類推\n",
    "lst[0]"
   ]
  },
  {
   "cell_type": "code",
   "execution_count": 56,
   "metadata": {},
   "outputs": [
    {
     "data": {
      "text/plain": [
       "[1, 3, 5]"
      ]
     },
     "execution_count": 56,
     "metadata": {},
     "output_type": "execute_result"
    }
   ],
   "source": [
    "# 取出 0 到 3 索引的值\n",
    "lst[0:3]"
   ]
  },
  {
   "cell_type": "code",
   "execution_count": 57,
   "metadata": {},
   "outputs": [],
   "source": [
    "# list 裡可以放置多種資料型別的值，也可以是串列中放串列\n",
    "mlst = [9, 4, 'David', 'Lanz', True, [8, 7]]"
   ]
  },
  {
   "cell_type": "code",
   "execution_count": 58,
   "metadata": {},
   "outputs": [
    {
     "data": {
      "text/plain": [
       "9"
      ]
     },
     "execution_count": 58,
     "metadata": {},
     "output_type": "execute_result"
    }
   ],
   "source": [
    "mlst[0]"
   ]
  },
  {
   "cell_type": "code",
   "execution_count": 59,
   "metadata": {},
   "outputs": [
    {
     "data": {
      "text/plain": [
       "4"
      ]
     },
     "execution_count": 59,
     "metadata": {},
     "output_type": "execute_result"
    }
   ],
   "source": [
    "mlst[1]"
   ]
  },
  {
   "cell_type": "code",
   "execution_count": 60,
   "metadata": {},
   "outputs": [
    {
     "data": {
      "text/plain": [
       "[8, 7]"
      ]
     },
     "execution_count": 60,
     "metadata": {},
     "output_type": "execute_result"
    }
   ],
   "source": [
    "mlst[5]"
   ]
  },
  {
   "cell_type": "code",
   "execution_count": 61,
   "metadata": {},
   "outputs": [
    {
     "data": {
      "text/plain": [
       "[4, 'David', 'Lanz', True, [8, 7]]"
      ]
     },
     "execution_count": 61,
     "metadata": {},
     "output_type": "execute_result"
    }
   ],
   "source": [
    "# 第 1 個索引以後，當然包含 mlst[1]\n",
    "mlst[1:]"
   ]
  },
  {
   "cell_type": "code",
   "execution_count": 62,
   "metadata": {},
   "outputs": [
    {
     "data": {
      "text/plain": [
       "['a', 'b', 'c', '1', '2', '3']"
      ]
     },
     "execution_count": 62,
     "metadata": {},
     "output_type": "execute_result"
    }
   ],
   "source": [
    "# 兩個串列 list 整合成一個一個 串列 list\n",
    "lst1 = [\"a\", \"b\", \"c\"]\n",
    "lst2 = [\"1\", \"2\", \"3\"]\n",
    "lst3 = lst1 + lst2\n",
    "lst3"
   ]
  },
  {
   "cell_type": "code",
   "execution_count": 63,
   "metadata": {},
   "outputs": [
    {
     "data": {
      "text/plain": [
       "['a', 'b', 'c', '1', '2', '3', '4']"
      ]
     },
     "execution_count": 63,
     "metadata": {},
     "output_type": "execute_result"
    }
   ],
   "source": [
    "# 利用 append 附加於串列之後的新元素\n",
    "lst3.append(\"4\")\n",
    "lst3"
   ]
  },
  {
   "cell_type": "markdown",
   "metadata": {},
   "source": [
    "#### Dictionaries\n",
    "\n",
    "Dictionaries or 'dicts' are hash tables, where a key points to a value."
   ]
  },
  {
   "cell_type": "code",
   "execution_count": 64,
   "metadata": {},
   "outputs": [],
   "source": [
    "# name, age 與 birth 在 Dictionary 中稱之為 key，冒號後的稱之為 value，value可以為任何資料型別\n",
    "d = {'name': 'David', 'age': 25, 'birth': '10/10/1994'}"
   ]
  },
  {
   "cell_type": "code",
   "execution_count": 65,
   "metadata": {},
   "outputs": [
    {
     "data": {
      "text/plain": [
       "'David'"
      ]
     },
     "execution_count": 65,
     "metadata": {},
     "output_type": "execute_result"
    }
   ],
   "source": [
    "d['name']"
   ]
  },
  {
   "cell_type": "code",
   "execution_count": 66,
   "metadata": {},
   "outputs": [
    {
     "data": {
      "text/plain": [
       "25"
      ]
     },
     "execution_count": 66,
     "metadata": {},
     "output_type": "execute_result"
    }
   ],
   "source": [
    "d['age']"
   ]
  },
  {
   "cell_type": "markdown",
   "metadata": {},
   "source": [
    "<a id=\"control\"></a>\n",
    "\n",
    "### Loops and Control Structures\n",
    "\n",
    "#### Boolean and comparison operations"
   ]
  },
  {
   "cell_type": "code",
   "execution_count": 67,
   "metadata": {},
   "outputs": [
    {
     "data": {
      "text/plain": [
       "True"
      ]
     },
     "execution_count": 67,
     "metadata": {},
     "output_type": "execute_result"
    }
   ],
   "source": [
    "x = 5\n",
    "(x < 6) and (x > 4)"
   ]
  },
  {
   "cell_type": "code",
   "execution_count": 68,
   "metadata": {},
   "outputs": [
    {
     "data": {
      "text/plain": [
       "True"
      ]
     },
     "execution_count": 68,
     "metadata": {},
     "output_type": "execute_result"
    }
   ],
   "source": [
    "# != 是不等於得意思，因為x現在是5，所以不等於4，結果為 真 (True)\n",
    "x != 4"
   ]
  },
  {
   "cell_type": "code",
   "execution_count": 69,
   "metadata": {},
   "outputs": [
    {
     "data": {
      "text/plain": [
       "True"
      ]
     },
     "execution_count": 69,
     "metadata": {},
     "output_type": "execute_result"
    }
   ],
   "source": [
    "# 判斷某一個值是否在 串列 (list) 的值當中\n",
    "5 in [3, 4, 5]"
   ]
  },
  {
   "cell_type": "code",
   "execution_count": 70,
   "metadata": {},
   "outputs": [
    {
     "data": {
      "text/plain": [
       "True"
      ]
     },
     "execution_count": 70,
     "metadata": {},
     "output_type": "execute_result"
    }
   ],
   "source": [
    "'ell' in 'Hello'"
   ]
  },
  {
   "cell_type": "code",
   "execution_count": 71,
   "metadata": {},
   "outputs": [
    {
     "data": {
      "text/plain": [
       "True"
      ]
     },
     "execution_count": 71,
     "metadata": {},
     "output_type": "execute_result"
    }
   ],
   "source": [
    "len('Hello') >= 5"
   ]
  },
  {
   "cell_type": "markdown",
   "metadata": {},
   "source": [
    "#### if test\n",
    "\n",
    "\tif <test1>:                 # if test\n",
    "\t    <statements1>           # Associated block\n",
    "\telif <test2>:               # Optional elifs\n",
    "\t    <statements2>\n",
    "\telse:                       # Optional else\n",
    "\t    <statements3>\n"
   ]
  },
  {
   "cell_type": "code",
   "execution_count": 72,
   "metadata": {},
   "outputs": [
    {
     "name": "stdout",
     "output_type": "stream",
     "text": [
      "The 'if' statement is true.\n"
     ]
    }
   ],
   "source": [
    "if 1 < 2:\n",
    "    print(\"The 'if' statement is true.\")"
   ]
  },
  {
   "cell_type": "code",
   "execution_count": 73,
   "metadata": {},
   "outputs": [
    {
     "name": "stdout",
     "output_type": "stream",
     "text": [
      "The 'if' statement is false.\n"
     ]
    }
   ],
   "source": [
    "if 3 < 2:\n",
    "    print(\"The 'if' statement is true.\")\n",
    "else:\n",
    "    print(\"The 'if' statement is false.\")"
   ]
  },
  {
   "cell_type": "code",
   "execution_count": 74,
   "metadata": {},
   "outputs": [
    {
     "name": "stdout",
     "output_type": "stream",
     "text": [
      "找到 a 了\n",
      "Oh Ya!\n"
     ]
    }
   ],
   "source": [
    "# in operator 判斷是否在其中之用，有 in 就一定有 「冒號」結尾\n",
    "# 下述句為，如果 字串 'a ' 在 字串 'abc' 當中的話，就執行 「:」下面的敘述\n",
    "# 注意：if 之下的條件，都需要和if 空 4 格空格當作區塊\n",
    "if 'a' in 'abc':\n",
    "    print('找到 a 了')\n",
    "    print('Oh Ya!')"
   ]
  },
  {
   "cell_type": "code",
   "execution_count": 75,
   "metadata": {},
   "outputs": [
    {
     "name": "stdout",
     "output_type": "stream",
     "text": [
      "gg，沒找到 d 耶...\n"
     ]
    }
   ],
   "source": [
    "if 'd' in 'abc':\n",
    "    print('找到 d 了')\n",
    "else:\n",
    "    print('gg，沒找到 d 耶...')"
   ]
  },
  {
   "cell_type": "code",
   "execution_count": 76,
   "metadata": {},
   "outputs": [
    {
     "name": "stdout",
     "output_type": "stream",
     "text": [
      "答對，d 不在 abc 中\n"
     ]
    }
   ],
   "source": [
    "# not in -> 不在其中的時候，;xo4\n",
    "if 'd' not in 'abc':\n",
    "    print('答對，d 不在 abc 中')"
   ]
  },
  {
   "cell_type": "code",
   "execution_count": 77,
   "metadata": {},
   "outputs": [
    {
     "name": "stdout",
     "output_type": "stream",
     "text": [
      "我在這\n"
     ]
    }
   ],
   "source": [
    "# 數學運算也可以加入判斷，最好加上 小括號 ()\n",
    "if (2 + 2 == 5):\n",
    "    print('你傻了嗎?')\n",
    "else: \n",
    "    print('我在這') "
   ]
  },
  {
   "cell_type": "markdown",
   "metadata": {},
   "source": [
    "<a id=\"loops\"></a>\n",
    "\n",
    "### Loops\n",
    "\n",
    "Loops and conditional tests are control structures that allow you to control flow through your program."
   ]
  },
  {
   "cell_type": "markdown",
   "metadata": {},
   "source": [
    "#### for Loops\n",
    "\n",
    "\tfor <target> in <object>:   # Assign object items to target\n",
    "\t    <statements>            # Repeated loop body: use target\n",
    "\telse:\n",
    "\t    <statements>            # If we didn't hit a 'break'\n",
    "\t\n",
    "\tfor <target> in <object>:   # Assign object items to target\n",
    "\t    <statements>\n",
    "\t    if <test>: break        # Exit loop now, skip else\n",
    "\t    if <test>: continue     # Go to top of loop now\n",
    "\telse:\n",
    "\t    <statements>            # If we didn't hit a 'break'"
   ]
  },
  {
   "cell_type": "markdown",
   "metadata": {},
   "source": [
    "#### for loops"
   ]
  },
  {
   "cell_type": "code",
   "execution_count": 78,
   "metadata": {},
   "outputs": [
    {
     "name": "stdout",
     "output_type": "stream",
     "text": [
      "1\n",
      "2\n",
      "3\n",
      "4\n"
     ]
    }
   ],
   "source": [
    "# for 迴圈，從1開始，小於5的整數\n",
    "for i in range(1, 5):\n",
    "    print(i)"
   ]
  },
  {
   "cell_type": "code",
   "execution_count": 79,
   "metadata": {},
   "outputs": [
    {
     "name": "stdout",
     "output_type": "stream",
     "text": [
      "0\n",
      "1\n",
      "2\n",
      "3\n",
      "4\n"
     ]
    }
   ],
   "source": [
    "# 串列 list 型態的變數 lst，可以透過 for 迴圈，逐一取出資料\n",
    "lst = [0, 1, 2, 3, 4]\n",
    "for x in lst:\n",
    "    print(x)"
   ]
  },
  {
   "cell_type": "code",
   "execution_count": 80,
   "metadata": {},
   "outputs": [
    {
     "name": "stdout",
     "output_type": "stream",
     "text": [
      "a\n",
      "b\n",
      "c\n",
      "d\n",
      "e\n"
     ]
    }
   ],
   "source": [
    "lst = ['a', 'b', 'c', 'd', 'e']\n",
    "for x in lst:\n",
    "    print(x)"
   ]
  },
  {
   "cell_type": "code",
   "execution_count": 81,
   "metadata": {},
   "outputs": [
    {
     "name": "stdout",
     "output_type": "stream",
     "text": [
      "0 a\n",
      "1 b\n",
      "2 c\n",
      "3 d\n",
      "4 e\n"
     ]
    }
   ],
   "source": [
    "lst = ['a', 'b', 'c', 'd', 'e']\n",
    "for k, v in enumerate(lst):\n",
    "    print(k, v)"
   ]
  },
  {
   "cell_type": "code",
   "execution_count": 82,
   "metadata": {},
   "outputs": [
    {
     "name": "stdout",
     "output_type": "stream",
     "text": [
      "['This is item:1', 'This is item:2', 'This is item:3', 'This is item:4']\n"
     ]
    }
   ],
   "source": [
    "# 宣告一個空串列 list，在迴圈中附加後更新串列\n",
    "lst = []\n",
    "for x in range(1, 5):\n",
    "    lst.append( \"This is item:\" + str(x) )\n",
    "print(lst)"
   ]
  },
  {
   "cell_type": "code",
   "execution_count": 83,
   "metadata": {},
   "outputs": [
    {
     "name": "stdout",
     "output_type": "stream",
     "text": [
      "original list is empty: []\n",
      "new_lst is now: ['a', 'b', 'c', 'd', 'e']\n"
     ]
    }
   ],
   "source": [
    "# 複製別人的 list 串列資料 為 新串列的方法\n",
    "lst = ['a', 'b', 'c', 'd', 'e']\n",
    "new_lst = []\n",
    "print(\"original list is empty: %s\" % new_lst)\n",
    "for x in lst:\n",
    "    new_lst.append(x)\n",
    "print(\"new_lst is now: %s\" % new_lst)"
   ]
  },
  {
   "cell_type": "markdown",
   "metadata": {},
   "source": [
    "#### while loops\n",
    "\n",
    "\twhile <test>:               # Loop test\n",
    "\t    <statements1>           # Loop body\n",
    "\telse:                       # Optional else\n",
    "\t    <statements2>           # Run if didn't exit loop with break\n",
    "\t\n",
    "\twhile <test1>:\n",
    "\t    <statements1>\n",
    "\t    if <test2>: break       # Exit loop now, skip else\n",
    "\t    if <test3>: continue    # Go to top of loop now, to test1\n",
    "\telse:\n",
    "\t    <statements2>           # Run if we didn't hit a 'break'\n",
    "\t\n",
    "\tbreak -- Jumps out of the closest enclosing loop (past the entire loop \n",
    "\t  statement).\n",
    "\tcontinue -- Jumps to the top of the closest enclosing loop (to the loop’s \n",
    "\t  header line).\n",
    "\tpass -- Does nothing at all: it’s an empty statement placeholder.\n",
    "\telse (loop block) -- Runs if and only if the loop is exited normally \n",
    "\t  (i.e., without hitting a break)."
   ]
  },
  {
   "cell_type": "code",
   "execution_count": 84,
   "metadata": {},
   "outputs": [
    {
     "name": "stdout",
     "output_type": "stream",
     "text": [
      "0\n",
      "1\n",
      "2\n",
      "3\n",
      "4\n"
     ]
    }
   ],
   "source": [
    "i = 0\n",
    "while (i < 5):\n",
    "    print(i)\n",
    "    i = i+1 #i += 1"
   ]
  },
  {
   "cell_type": "markdown",
   "metadata": {},
   "source": [
    "### Table of Contents\n",
    "\n",
    "* [Strings](#strings)\n",
    "* [Numbers and Math](#numbers)"
   ]
  },
  {
   "cell_type": "markdown",
   "metadata": {},
   "source": [
    "<a id=\"strings\"></a>\n",
    "\n",
    "### Strings"
   ]
  },
  {
   "cell_type": "markdown",
   "metadata": {},
   "source": [
    "With IPython/Jupyter notebooks, we don't have to type `print()` as much as Shaw does in _LPTHW_, but we will use it for this first section."
   ]
  },
  {
   "cell_type": "code",
   "execution_count": 85,
   "metadata": {},
   "outputs": [
    {
     "name": "stdout",
     "output_type": "stream",
     "text": [
      "你看過 David's 部落格了嗎?\n"
     ]
    }
   ],
   "source": [
    "# 雙引號 字串中，可以包含 單引號\n",
    "print(\"你看過 David's 部落格了嗎?\")"
   ]
  },
  {
   "cell_type": "code",
   "execution_count": 86,
   "metadata": {},
   "outputs": [
    {
     "name": "stdout",
     "output_type": "stream",
     "text": [
      "我看過 \"DavidLanz\" 的部落格了!\n"
     ]
    }
   ],
   "source": [
    "# 單引號 字串中，可以包含 雙引號\n",
    "print('我看過 \"DavidLanz\" 的部落格了!')"
   ]
  },
  {
   "cell_type": "code",
   "execution_count": 87,
   "metadata": {},
   "outputs": [
    {
     "name": "stdout",
     "output_type": "stream",
     "text": [
      "你也看過 \"DavidLanz\" 的部落格了嗎?\n"
     ]
    }
   ],
   "source": [
    "# 如果要同時使用 雙引號 在字串中，可以利用 脫離字元的方式加上 \\ 符號\n",
    "print(\"你也看過 \\\"DavidLanz\\\" 的部落格了嗎?\")"
   ]
  },
  {
   "cell_type": "code",
   "execution_count": 88,
   "metadata": {},
   "outputs": [
    {
     "name": "stdout",
     "output_type": "stream",
     "text": [
      "\n",
      "莫辭更坐彈一曲，\n",
      "爲君翻作琵琶行，\n",
      "感我此言良久立，\n",
      "卻坐促弦弦轉急，\n",
      "作者：白居易\n",
      "\n"
     ]
    }
   ],
   "source": [
    "poem = \"\"\"\n",
    "莫辭更坐彈一曲，\n",
    "爲君翻作琵琶行，\n",
    "感我此言良久立，\n",
    "卻坐促弦弦轉急，\n",
    "作者：白居易\n",
    "\"\"\"\n",
    "print(poem)"
   ]
  },
  {
   "cell_type": "code",
   "execution_count": 89,
   "metadata": {},
   "outputs": [
    {
     "name": "stdout",
     "output_type": "stream",
     "text": [
      "\n",
      "莫辭更坐彈一曲，\n",
      "爲君翻作琵琶行，\n",
      "感我此言良久立，\n",
      "卻坐促弦弦轉急，\n",
      "作者：David\n",
      "\n"
     ]
    }
   ],
   "source": [
    "# 以 replace 取代字串中 match 的文字\n",
    "poem_ = poem.replace(\"白居易\", \"David\")\n",
    "print(poem_)"
   ]
  },
  {
   "cell_type": "code",
   "execution_count": 90,
   "metadata": {},
   "outputs": [
    {
     "name": "stdout",
     "output_type": "stream",
     "text": [
      "['人之初', '性本善', '性相近', '習相遠']\n"
     ]
    }
   ],
   "source": [
    "# 字串利用 split 轉成串列 list\n",
    "sss = \"人之初，性本善，性相近，習相遠\"\n",
    "lst = sss.split('，')\n",
    "print(lst)"
   ]
  },
  {
   "cell_type": "code",
   "execution_count": 91,
   "metadata": {},
   "outputs": [
    {
     "name": "stdout",
     "output_type": "stream",
     "text": [
      "人之初\n",
      "性本善\n",
      "性相近\n",
      "習相遠\n"
     ]
    }
   ],
   "source": [
    "for x in lst:\n",
    "    print(x)"
   ]
  },
  {
   "cell_type": "code",
   "execution_count": 92,
   "metadata": {},
   "outputs": [
    {
     "name": "stdout",
     "output_type": "stream",
     "text": [
      "['\\n莫辭更坐彈一曲', '\\n爲君翻作琵琶行', '\\n感我此言良久立', '\\n卻坐促弦弦轉急', '\\n作者：白居易\\n']\n"
     ]
    }
   ],
   "source": [
    "lst = poem.split('，')\n",
    "print(lst)"
   ]
  },
  {
   "cell_type": "code",
   "execution_count": 93,
   "metadata": {},
   "outputs": [
    {
     "data": {
      "text/plain": [
       "['莫辭更坐彈一曲', '爲君翻作琵琶行', '感我此言良久立', '卻坐促弦弦轉急', '作者：白居易']"
      ]
     },
     "execution_count": 93,
     "metadata": {},
     "output_type": "execute_result"
    }
   ],
   "source": [
    "clean_list = []\n",
    "for x in lst:\n",
    "    clean_list.append(x.replace(\"\\n\", \"\"))\n",
    "clean_list"
   ]
  },
  {
   "cell_type": "markdown",
   "metadata": {},
   "source": [
    "<a id=\"numbers\"></a>\n",
    "\n",
    "### Numbers and Math"
   ]
  },
  {
   "cell_type": "code",
   "execution_count": 94,
   "metadata": {},
   "outputs": [
    {
     "data": {
      "text/plain": [
       "0.6"
      ]
     },
     "execution_count": 94,
     "metadata": {},
     "output_type": "execute_result"
    }
   ],
   "source": [
    "2 / 4 + 0.1"
   ]
  },
  {
   "cell_type": "code",
   "execution_count": 95,
   "metadata": {},
   "outputs": [
    {
     "data": {
      "text/plain": [
       "8"
      ]
     },
     "execution_count": 95,
     "metadata": {},
     "output_type": "execute_result"
    }
   ],
   "source": [
    "(1 + 1) * (2 + 2)"
   ]
  },
  {
   "cell_type": "markdown",
   "metadata": {},
   "source": [
    "##### a, b, c, d, and e are variables (with numbers assigned to them)"
   ]
  },
  {
   "cell_type": "code",
   "execution_count": 96,
   "metadata": {},
   "outputs": [],
   "source": [
    "a = 123 + 222\n",
    "b = 1.5 * 4\n",
    "c = 2 ** 100\n",
    "d = 1.0\n",
    "e = 4"
   ]
  },
  {
   "cell_type": "code",
   "execution_count": 97,
   "metadata": {},
   "outputs": [
    {
     "name": "stdout",
     "output_type": "stream",
     "text": [
      "a = 345\n",
      "b = 6.0\n",
      "c = 1267650600228229401496703205376\n"
     ]
    }
   ],
   "source": [
    "# \\n 字元為表示換行符號\n",
    "print(\"a = {}\\nb = {}\\nc = {}\".format(a, b, c))"
   ]
  },
  {
   "cell_type": "markdown",
   "metadata": {},
   "source": [
    "##### Let's import the `math` module"
   ]
  },
  {
   "cell_type": "code",
   "execution_count": 98,
   "metadata": {},
   "outputs": [],
   "source": [
    "import math"
   ]
  },
  {
   "cell_type": "code",
   "execution_count": 99,
   "metadata": {},
   "outputs": [
    {
     "data": {
      "text/plain": [
       "4"
      ]
     },
     "execution_count": 99,
     "metadata": {},
     "output_type": "execute_result"
    }
   ],
   "source": [
    "# 無條件捨去為整數\n",
    "math.floor(4.22)"
   ]
  },
  {
   "cell_type": "code",
   "execution_count": 100,
   "metadata": {},
   "outputs": [
    {
     "data": {
      "text/plain": [
       "5"
      ]
     },
     "execution_count": 100,
     "metadata": {},
     "output_type": "execute_result"
    }
   ],
   "source": [
    "# 取得不小於 x 的最小整數\n",
    "math.ceil(4.22)"
   ]
  },
  {
   "cell_type": "code",
   "execution_count": 101,
   "metadata": {},
   "outputs": [
    {
     "data": {
      "text/plain": [
       "120"
      ]
     },
     "execution_count": 101,
     "metadata": {},
     "output_type": "execute_result"
    }
   ],
   "source": [
    "# factorial 階層, 5! = 5*4*3*2*1 = 120\n",
    "math.factorial(5)"
   ]
  },
  {
   "cell_type": "code",
   "execution_count": 102,
   "metadata": {},
   "outputs": [
    {
     "data": {
      "text/plain": [
       "3.141592653589793"
      ]
     },
     "execution_count": 102,
     "metadata": {},
     "output_type": "execute_result"
    }
   ],
   "source": [
    "math.pi"
   ]
  },
  {
   "cell_type": "code",
   "execution_count": 103,
   "metadata": {},
   "outputs": [
    {
     "data": {
      "text/plain": [
       "2.0"
      ]
     },
     "execution_count": 103,
     "metadata": {},
     "output_type": "execute_result"
    }
   ],
   "source": [
    "# 開平方根\n",
    "math.sqrt(4)"
   ]
  },
  {
   "cell_type": "markdown",
   "metadata": {},
   "source": [
    "##### Now let's import the `random` module"
   ]
  },
  {
   "cell_type": "code",
   "execution_count": 104,
   "metadata": {},
   "outputs": [],
   "source": [
    "import random"
   ]
  },
  {
   "cell_type": "code",
   "execution_count": 105,
   "metadata": {},
   "outputs": [],
   "source": [
    "# 以一個整數88作為參數，稱為seed，“偽亂數是以相同的機率從一組受限的數值中選取，即亂數的產生是從種子值開始\n",
    "random.seed(88)"
   ]
  },
  {
   "cell_type": "code",
   "execution_count": 106,
   "metadata": {},
   "outputs": [
    {
     "data": {
      "text/plain": [
       "0.3974888769814575"
      ]
     },
     "execution_count": 106,
     "metadata": {},
     "output_type": "execute_result"
    }
   ],
   "source": [
    "# 這個 cell 多執行幾次看看\n",
    "random.random()"
   ]
  },
  {
   "cell_type": "code",
   "execution_count": 107,
   "metadata": {},
   "outputs": [
    {
     "data": {
      "text/plain": [
       "2"
      ]
     },
     "execution_count": 107,
     "metadata": {},
     "output_type": "execute_result"
    }
   ],
   "source": [
    "# 從現有的串列 list 中任意取一數值出來\n",
    "lst = [1, 2, 3, 4]\n",
    "random.choice(lst)"
   ]
  },
  {
   "cell_type": "code",
   "execution_count": 108,
   "metadata": {},
   "outputs": [
    {
     "data": {
      "text/plain": [
       "'Sean'"
      ]
     },
     "execution_count": 108,
     "metadata": {},
     "output_type": "execute_result"
    }
   ],
   "source": [
    "# 從現有的串列 list 中任意取一數值出來\n",
    "lst = [\"David\", \"Hippo\", \"Sean\", \"Kendy\", \"Emily\"]\n",
    "random.choice(lst)"
   ]
  },
  {
   "cell_type": "code",
   "execution_count": 109,
   "metadata": {},
   "outputs": [
    {
     "data": {
      "text/plain": [
       "2"
      ]
     },
     "execution_count": 109,
     "metadata": {},
     "output_type": "execute_result"
    }
   ],
   "source": [
    "# 取 0~9 之間的數\n",
    "random.choice(range(10))"
   ]
  },
  {
   "cell_type": "code",
   "execution_count": 110,
   "metadata": {},
   "outputs": [
    {
     "name": "stdout",
     "output_type": "stream",
     "text": [
      "Hi\n"
     ]
    },
    {
     "data": {
      "text/plain": [
       "'Hi'"
      ]
     },
     "execution_count": 110,
     "metadata": {},
     "output_type": "execute_result"
    }
   ],
   "source": [
    "# 輸入方塊\n",
    "input()"
   ]
  },
  {
   "cell_type": "code",
   "execution_count": 111,
   "metadata": {},
   "outputs": [
    {
     "name": "stdout",
     "output_type": "stream",
     "text": [
      "8\n",
      "you guess: 8\n"
     ]
    }
   ],
   "source": [
    "guessNum = eval(input())\n",
    "print(\"you guess: %s\" % guessNum)"
   ]
  },
  {
   "cell_type": "markdown",
   "metadata": {},
   "source": [
    "### random guess game"
   ]
  },
  {
   "cell_type": "code",
   "execution_count": 112,
   "metadata": {},
   "outputs": [
    {
     "name": "stdout",
     "output_type": "stream",
     "text": [
      "5\n",
      "you guess: 5, correct is: 0\n"
     ]
    }
   ],
   "source": [
    "import random\n",
    "\n",
    "answer = random.choice(range(10))\n",
    "guessNum = eval(input())\n",
    "if guessNum == answer:\n",
    "    print(\"You got me!\")\n",
    "else:\n",
    "    print(\"you guess: %s, correct is: %s\" % (guessNum, answer) )"
   ]
  },
  {
   "cell_type": "markdown",
   "metadata": {},
   "source": [
    "### Chat bot simulator"
   ]
  },
  {
   "cell_type": "code",
   "execution_count": 113,
   "metadata": {},
   "outputs": [
    {
     "name": "stdout",
     "output_type": "stream",
     "text": [
      ">> Yo Man!\n",
      "you said: Yo Man!\n"
     ]
    }
   ],
   "source": [
    "message = input(\">> \")\n",
    "print(f\"you said: {message}\")"
   ]
  },
  {
   "cell_type": "code",
   "execution_count": 114,
   "metadata": {},
   "outputs": [
    {
     "name": "stdout",
     "output_type": "stream",
     "text": [
      ">> 世界上最遠的距離是我在寫Python，你在看「想見你」\n",
      "拍拍\n",
      ">> bye\n",
      "拍拍\n"
     ]
    }
   ],
   "source": [
    "message = \"\"\n",
    "while message != \"bye\":\n",
    "    message = input(\">> \")\n",
    "    print(\"拍拍\")"
   ]
  },
  {
   "cell_type": "markdown",
   "metadata": {},
   "source": [
    "### Recap"
   ]
  },
  {
   "cell_type": "markdown",
   "metadata": {},
   "source": [
    "- Install Anaconda in your environment\n",
    "- Python Syntax (comment out, data type)\n",
    "- Variable data type (String, List and Dictinday)\n",
    "- Python logical operators and condition switch (if, for)\n",
    "- Usage of Strings, Numbers and Math"
   ]
  },
  {
   "cell_type": "markdown",
   "metadata": {},
   "source": [
    "### Homework: Guess what I'm thinking?"
   ]
  },
  {
   "cell_type": "markdown",
   "metadata": {},
   "source": [
    "Rules:\n",
    "1. set an number between 1 to 20 as answer\n",
    "2. let user input number to guess from 1 to 20\n",
    "3. calculate how many times user guess\n",
    "4. when answer is wrong, output the range of the correct answer"
   ]
  },
  {
   "cell_type": "code",
   "execution_count": 115,
   "metadata": {},
   "outputs": [
    {
     "name": "stdout",
     "output_type": "stream",
     "text": [
      "0 < ? < 21\n",
      "10\n",
      "再大一點\n",
      "已猜次數:  1\n",
      "10 < ? < 21\n",
      "15\n",
      "再大一點\n",
      "已猜次數:  2\n",
      "15 < ? < 21\n",
      "18\n",
      "再小一點\n",
      "已猜次數:  3\n",
      "15 < ? < 18\n",
      "16\n",
      "賓果猜對了!! 4\n"
     ]
    }
   ],
   "source": [
    "import random\n",
    "\n",
    "ansMax = 21\n",
    "ansMin = 0\n",
    "guessCount = 0\n",
    "guessAnswer = random.randint(ansMin, ansMax)\n",
    "guessNum= 0\n",
    "\n",
    "while guessNum != guessAnswer:\n",
    "    print(ansMin, '< ? <',ansMax)\n",
    "    guessNum = eval(input())\n",
    "    guessCount +=1\n",
    "    if guessNum > ansMin and guessNum < ansMax:\n",
    "        if guessNum > guessAnswer:\n",
    "            print('再小一點')\n",
    "            print('已猜次數: ', guessCount)\n",
    "            ansMax = guessNum\n",
    "        elif guessNum < guessAnswer:\n",
    "            print('再大一點')\n",
    "            print('已猜次數: ',guessCount)\n",
    "            ansMin = guessNum\n",
    "        else:\n",
    "            print('賓果猜對了!!',guessCount)\n",
    "    else:\n",
    "        print('超出範圍了啦><\"')"
   ]
  },
  {
   "cell_type": "markdown",
   "metadata": {},
   "source": [
    "### Bonus round"
   ]
  },
  {
   "cell_type": "code",
   "execution_count": 116,
   "metadata": {},
   "outputs": [],
   "source": [
    "face = \"(*´∀`)~♥\""
   ]
  },
  {
   "cell_type": "code",
   "execution_count": 117,
   "metadata": {},
   "outputs": [
    {
     "data": {
      "text/plain": [
       "'(*´∀`)~♥'"
      ]
     },
     "execution_count": 117,
     "metadata": {},
     "output_type": "execute_result"
    }
   ],
   "source": [
    "face"
   ]
  },
  {
   "cell_type": "code",
   "execution_count": 118,
   "metadata": {},
   "outputs": [
    {
     "data": {
      "text/plain": [
       "'(*´∀`)~♥(*´∀`)~♥(*´∀`)~♥(*´∀`)~♥(*´∀`)~♥'"
      ]
     },
     "execution_count": 118,
     "metadata": {},
     "output_type": "execute_result"
    }
   ],
   "source": [
    "face*5"
   ]
  },
  {
   "cell_type": "code",
   "execution_count": 119,
   "metadata": {},
   "outputs": [
    {
     "name": "stdout",
     "output_type": "stream",
     "text": [
      "====================\n",
      "yo\n",
      "====================\n"
     ]
    }
   ],
   "source": [
    "print(\"=\"*20)\n",
    "print(\"yo\")\n",
    "print(\"=\"*20)"
   ]
  },
  {
   "cell_type": "markdown",
   "metadata": {},
   "source": [
    "## Homework: Chat Bot ver 2.0"
   ]
  },
  {
   "cell_type": "markdown",
   "metadata": {},
   "source": [
    "看到關鍵字的回應\n",
    "\n",
    "\"難過\" --> \"拍拍\"\n",
    "\n",
    "\"QQ\" --> \"拍拍\"\n",
    "\n",
    "\"開心\" --> \"讚!\"\n",
    "\n",
    "以上皆非 --> \"知道了\""
   ]
  },
  {
   "cell_type": "code",
   "execution_count": 120,
   "metadata": {},
   "outputs": [
    {
     "name": "stdout",
     "output_type": "stream",
     "text": [
      ">> 我好難過\n",
      "拍拍\n",
      ">> 我好開心\n",
      "讚!\n",
      ">> 我...\n",
      "知道了\n",
      ">> bye\n",
      "知道了\n"
     ]
    }
   ],
   "source": [
    "message = \"\"\n",
    "while message != \"bye\":\n",
    "    message = input(\">> \")\n",
    "    if (\"難過\" in message) or (\"QQ\" in message):\n",
    "        print(\"拍拍\")\n",
    "    elif \"開心\" in message:\n",
    "        print(\"讚!\")\n",
    "    else:\n",
    "        print(\"知道了\")"
   ]
  },
  {
   "cell_type": "markdown",
   "metadata": {},
   "source": [
    "### Homework: 1A2B\n",
    "\n",
    "- 設計一個1A2B的遊戲，允許使用者輸入從0~9的三個不同的數字\n",
    "- 提供輸入 answer 來顯示系統的答案\n",
    "- 提供輸入 quit 來離開遊戲\n"
   ]
  },
  {
   "cell_type": "code",
   "execution_count": 1,
   "metadata": {},
   "outputs": [
    {
     "name": "stdout",
     "output_type": "stream",
     "text": [
      "請從0~9選擇3個不同的數字\n",
      "如想知道答案，請輸入answer，如想離開遊戲可輸入quit\n",
      "輸入3個不同數字:112\n",
      "請輸入三個不同的數字喔!!\n",
      "0 A 0 B\n",
      "輸入3個不同數字:123\n",
      "你猜的數字是: ['1', '2', '3']\n",
      "0 A 1 B\n",
      "輸入3個不同數字:156\n",
      "你猜的數字是: ['1', '5', '6']\n",
      "0 A 0 B\n",
      "輸入3個不同數字:278\n",
      "你猜的數字是: ['2', '7', '8']\n",
      "0 A 2 B\n",
      "輸入3個不同數字:279\n",
      "你猜的數字是: ['2', '7', '9']\n",
      "0 A 1 B\n",
      "輸入3個不同數字:289\n",
      "你猜的數字是: ['2', '8', '9']\n",
      "1 A 0 B\n",
      "輸入3個不同數字:387\n",
      "你猜的數字是: ['3', '8', '7']\n",
      "3 A 0 B\n",
      "Correct!\n"
     ]
    }
   ],
   "source": [
    "import random\n",
    "x = random.sample('1234567890', 3)\n",
    "print(\"請從0~9選擇3個不同的數字\\n如想知道答案，請輸入answer，如想離開遊戲可輸入quit\")\n",
    "\n",
    "play=True\n",
    "while play:\n",
    "    y = input(\"輸入3個不同數字:\")\n",
    "    #print(y)\n",
    "    z = list(y)\n",
    "    if len(y) > len(set(y)):\n",
    "        print(\"請輸入三個不同的數字喔!!\")\n",
    "    else:\n",
    "        print(\"你猜的數字是: {}\".format(z))\n",
    "    a=0\n",
    "    for i in range(3):\n",
    "        if(x[i]==z[i]):\n",
    "            a=a+1 # 答對A的數量\n",
    "    # B的數量\n",
    "    b=0\n",
    "    j=0\n",
    "    while j < 3:\n",
    "        k=0\n",
    "        while k < 3:\n",
    "            if j==k :\n",
    "                k=k+1\n",
    "                continue\n",
    "            if(x[j]==z[k]):\n",
    "                b=b+1\n",
    "            k=k+1\n",
    "        j=j+1\n",
    "\n",
    "    print(a, \"A\", b, \"B\")\n",
    "    if (a == 3):\n",
    "        print(\"Correct!\")\n",
    "        play = False\n",
    "    if (y==\"answer\"):\n",
    "        print(\"解答 is {}\".format(x))\n",
    "    if (y==\"quit\"):\n",
    "        print(\"See ya!\")\n",
    "        play = False"
   ]
  }
 ],
 "metadata": {
  "kernelspec": {
   "display_name": "Python 3",
   "language": "python",
   "name": "python3"
  },
  "language_info": {
   "codemirror_mode": {
    "name": "ipython",
    "version": 3
   },
   "file_extension": ".py",
   "mimetype": "text/x-python",
   "name": "python",
   "nbconvert_exporter": "python",
   "pygments_lexer": "ipython3",
   "version": "3.6.7"
  }
 },
 "nbformat": 4,
 "nbformat_minor": 2
}
