{
 "cells": [
  {
   "cell_type": "markdown",
   "metadata": {},
   "source": [
    "## Lesson 16 - Deploy NLP Model through API\n",
    "\n",
    "\n",
    "\n",
    "\n",
    "### Table of Contents\n",
    "* [Deploy gender guess API](#deploy_api)\n",
    "\n"
   ]
  },
  {
   "cell_type": "markdown",
   "metadata": {},
   "source": [
    "<a id=\"deploy_api\"></a>\n",
    "## Deploy gender guess API"
   ]
  },
  {
   "cell_type": "markdown",
   "metadata": {},
   "source": [
    "### Hello Tornado - server0.py"
   ]
  },
  {
   "cell_type": "code",
   "execution_count": 1,
   "metadata": {},
   "outputs": [],
   "source": [
    "# pip install tornado\n",
    "\n",
    "import tornado.ioloop\n",
    "import tornado.web\n",
    "import datetime\n",
    "import requests\n",
    "import re\n",
    "\n",
    "from tornado.httpserver import HTTPServer\n",
    "from tornado.ioloop import IOLoop\n",
    "\n",
    "class HTTPGetHandler(tornado.web.RequestHandler):\n",
    "    def get(self):\n",
    "        response_ = {}\n",
    "        args_dict = self.request.arguments\n",
    "        headers_dict = self.request.headers\n",
    "        host = self.request.host\n",
    "        try:\n",
    "            coin = \"\"\n",
    "            c = args_dict.get('c')[0]\n",
    "            if c != None:\n",
    "                coin = str(c, 'utf-8')\n",
    "            response_ = {\n",
    "                    \"result\":\"success\",\n",
    "                    \"message\": coin\n",
    "                }\n",
    "        except Exception as e:\n",
    "            response_ = {\n",
    "                \"result\":\"error\",\n",
    "                \"message\": str(e)\n",
    "            }\n",
    "            pass\n",
    "        self.write(response_)\n",
    "\n",
    "def make_app():\n",
    "    return tornado.web.Application([\n",
    "        (r\"/calculator\", HTTPGetHandler),\n",
    "    ])\n",
    "\n",
    "if __name__ == \"__main__\":\n",
    "    pass\n",
    "    #rs = requests.session()\n",
    "    #app = make_app()\n",
    "    #sockets = tornado.netutil.bind_sockets(8881)\n",
    "    #server = HTTPServer(app)\n",
    "    #server.add_sockets(sockets)\n",
    "    #IOLoop.current().start()\n",
    "    #tornado.ioloop.IOLoop.current().start()"
   ]
  },
  {
   "cell_type": "markdown",
   "metadata": {},
   "source": [
    "### test0.py"
   ]
  },
  {
   "cell_type": "code",
   "execution_count": 2,
   "metadata": {},
   "outputs": [
    {
     "name": "stdout",
     "output_type": "stream",
     "text": [
      "{\"result\": \"success\", \"message\": \"Bitcoin\"}\n"
     ]
    }
   ],
   "source": [
    "import json\n",
    "import requests\n",
    "\n",
    "rs = requests.session()\n",
    "\n",
    "header = {\"User-Agent\": 'Mozilla/5.0 (Windows NT 10.0; WOW64; rv:51.0) Gecko/20100101 Firefox/51.0'}\n",
    "uri = 'http://localhost:8881/calculator?c=Bitcoin'\n",
    "res = rs.get(uri, headers=header, timeout=300)\n",
    "html_data = res.text\n",
    "print(html_data)"
   ]
  },
  {
   "cell_type": "markdown",
   "metadata": {},
   "source": [
    "### Hello Tornado - server1.py"
   ]
  },
  {
   "cell_type": "code",
   "execution_count": 6,
   "metadata": {},
   "outputs": [],
   "source": [
    "import tornado.ioloop\n",
    "import tornado.web\n",
    "import datetime\n",
    "import requests\n",
    "import re\n",
    "\n",
    "from tornado.httpserver import HTTPServer\n",
    "from tornado.ioloop import IOLoop\n",
    "\n",
    "\n",
    "def guess_eng_name(name):\n",
    "    print(len(name))\n",
    "    return name\n",
    "\n",
    "class HTTPGetHandler(tornado.web.RequestHandler):\n",
    "    def get(self):\n",
    "        response_ = {}\n",
    "        args_dict = self.request.arguments\n",
    "        headers_dict = self.request.headers\n",
    "        host = self.request.host\n",
    "        try:\n",
    "            coin = \"\"\n",
    "            c = args_dict.get('c')[0]\n",
    "            if c != None:\n",
    "                coin = str(c, 'utf-8')\n",
    "            response_ = {\n",
    "                    \"result\":\"success\",\n",
    "                    \"message\": coin\n",
    "                }\n",
    "        except Exception as e:\n",
    "            response_ = {\n",
    "                \"result\":\"error\",\n",
    "                \"message\": str(e)\n",
    "            }\n",
    "            pass\n",
    "        self.write(response_)\n",
    "\n",
    "class EnglishNameGenderGuessHandler(tornado.web.RequestHandler):\n",
    "    def post(self):\n",
    "        try:\n",
    "            name = self.get_argument('name')\n",
    "            gender = guess_eng_name(name)\n",
    "            if len(gender)>0:\n",
    "                response = {\n",
    "                'result': 'Y',\n",
    "                'message': gender\n",
    "                }\n",
    "            else:\n",
    "                response = {\n",
    "                'result': 'N',\n",
    "                'message': \"we can not predict name: {} gender.\".format(name)\n",
    "                }\n",
    "        except Exception as e:\n",
    "            response = {\n",
    "            'result': 'N',\n",
    "            'msg': str(e)\n",
    "            }\n",
    "            pass\n",
    "        self.write(response)\n",
    "\n",
    "def make_app():\n",
    "    return tornado.web.Application([\n",
    "        (r\"/calculator\", HTTPGetHandler),\n",
    "        (r\"/gender_eng\", EnglishNameGenderGuessHandler),\n",
    "    ])\n",
    "\n",
    "if __name__ == \"__main__\":\n",
    "    pass\n",
    "    #rs = requests.session()\n",
    "    #app = make_app()\n",
    "    #sockets = tornado.netutil.bind_sockets(8881)\n",
    "    #server = HTTPServer(app)\n",
    "    #server.add_sockets(sockets)\n",
    "    #IOLoop.current().start()\n",
    "    #tornado.ioloop.IOLoop.current().start()"
   ]
  },
  {
   "cell_type": "markdown",
   "metadata": {},
   "source": [
    "### test1.py"
   ]
  },
  {
   "cell_type": "code",
   "execution_count": 5,
   "metadata": {},
   "outputs": [
    {
     "name": "stdout",
     "output_type": "stream",
     "text": [
      "{\"result\": \"Y\", \"message\": \"David\"}\n"
     ]
    }
   ],
   "source": [
    "import json\n",
    "import requests\n",
    "\n",
    "rs = requests.session()\n",
    "\n",
    "header = {\"User-Agent\": 'Mozilla/5.0 (Windows NT 10.0; WOW64; rv:51.0) Gecko/20100101 Firefox/51.0'}\n",
    "\n",
    "uri = 'http://localhost:8881/gender_eng'\n",
    "data = {\"name\":\"David\"}\n",
    "rs = requests.session()\n",
    "res = rs.post(uri, data=data, headers=header, timeout=300)\n",
    "html_data = res.text\n",
    "print(html_data)"
   ]
  },
  {
   "cell_type": "markdown",
   "metadata": {},
   "source": [
    "### Hello Tornado - server2.py"
   ]
  },
  {
   "cell_type": "code",
   "execution_count": 10,
   "metadata": {},
   "outputs": [],
   "source": [
    "import tornado.ioloop\n",
    "import tornado.web\n",
    "import datetime\n",
    "import requests\n",
    "import re\n",
    "\n",
    "from tornado.httpserver import HTTPServer\n",
    "from tornado.ioloop import IOLoop\n",
    "\n",
    "import pickle\n",
    "#with open('../../model/NaiveBayes/lesson11/eng_name_gender_classifier.pkl', 'rb') as handle:\n",
    "with open('model/NaiveBayes/lesson11/eng_name_gender_classifier.pkl', 'rb') as handle:\n",
    "    eng_name_gender_model = pickle.load(handle)\n",
    "\n",
    "gender_map = {'M': 0, 'F': 1}\n",
    "\n",
    "def extract_feature(name: str):\n",
    "    name = name.upper()\n",
    "    return {\n",
    "        'last_1': name[-1],\n",
    "        'last_2': name[-2:],\n",
    "        'last_3': name[-3:],\n",
    "        'last_is_vowel': (name[-1] in 'AEIOUY')\n",
    "    }\n",
    "\n",
    "def eng_name_gender_guess(eng_name_gender_model, eng_name):\n",
    "    result = eng_name_gender_model.classify(extract_feature(eng_name))\n",
    "    if gender_map[result.upper()]:\n",
    "        result = 'Female'\n",
    "    else:\n",
    "        result = 'Male'\n",
    "    return result\n",
    "\n",
    "def guess_eng_name(name):\n",
    "    gender = eng_name_gender_guess(eng_name_gender_model, name)\n",
    "    return gender\n",
    "\n",
    "class HTTPGetHandler(tornado.web.RequestHandler):\n",
    "    def get(self):\n",
    "        response_ = {}\n",
    "        args_dict = self.request.arguments\n",
    "        headers_dict = self.request.headers\n",
    "        host = self.request.host\n",
    "        try:\n",
    "            coin = \"\"\n",
    "            c = args_dict.get('c')[0]\n",
    "            if c != None:\n",
    "                coin = str(c, 'utf-8')\n",
    "            response_ = {\n",
    "                    \"result\":\"success\",\n",
    "                    \"message\": coin\n",
    "                }\n",
    "        except Exception as e:\n",
    "            response_ = {\n",
    "                \"result\":\"error\",\n",
    "                \"message\": str(e)\n",
    "            }\n",
    "            pass\n",
    "        self.write(response_)\n",
    "\n",
    "class EnglishNameGenderGuessHandler(tornado.web.RequestHandler):\n",
    "    def post(self):\n",
    "        try:\n",
    "            name = self.get_argument('name')\n",
    "            gender = guess_eng_name(name)\n",
    "            if len(gender)>0:\n",
    "                response = {\n",
    "                'result': 'Y',\n",
    "                'name': name,\n",
    "                'gender': gender\n",
    "                }\n",
    "            else:\n",
    "                response = {\n",
    "                'result': 'N',\n",
    "                'message': \"we can not predict name: {} gender.\".format(name)\n",
    "                }\n",
    "        except Exception as e:\n",
    "            response = {\n",
    "            'result': 'N',\n",
    "            'msg': str(e)\n",
    "            }\n",
    "            pass\n",
    "        self.write(response)\n",
    "\n",
    "def make_app():\n",
    "    return tornado.web.Application([\n",
    "        (r\"/calculator\", HTTPGetHandler),\n",
    "        (r\"/gender_eng\", EnglishNameGenderGuessHandler),\n",
    "    ])\n",
    "\n",
    "if __name__ == \"__main__\":\n",
    "    pass\n",
    "    #rs = requests.session()\n",
    "    #app = make_app()\n",
    "    #sockets = tornado.netutil.bind_sockets(8881)\n",
    "    #server = HTTPServer(app)\n",
    "    #server.add_sockets(sockets)\n",
    "    #IOLoop.current().start()\n",
    "    #tornado.ioloop.IOLoop.current().start()\n"
   ]
  },
  {
   "cell_type": "markdown",
   "metadata": {},
   "source": [
    "### test2.py"
   ]
  },
  {
   "cell_type": "code",
   "execution_count": 54,
   "metadata": {},
   "outputs": [
    {
     "name": "stdout",
     "output_type": "stream",
     "text": [
      "{\"result\": \"Y\", \"name\": \"David\", \"gender\": \"Male\"}\n"
     ]
    }
   ],
   "source": [
    "import json\n",
    "import requests\n",
    "\n",
    "rs = requests.session()\n",
    "\n",
    "header = {\"User-Agent\": 'Mozilla/5.0 (Windows NT 10.0; WOW64; rv:51.0) Gecko/20100101 Firefox/51.0'}\n",
    "\n",
    "uri = 'http://localhost:8881/gender_eng'\n",
    "data = {\"name\":\"David\"}\n",
    "rs = requests.session()\n",
    "res = rs.post(uri, data=data, headers=header, timeout=300)\n",
    "html_data = res.text\n",
    "print(html_data)"
   ]
  },
  {
   "cell_type": "markdown",
   "metadata": {},
   "source": [
    "### Hello Tornado - server3.py"
   ]
  },
  {
   "cell_type": "code",
   "execution_count": 59,
   "metadata": {},
   "outputs": [
    {
     "ename": "FileNotFoundError",
     "evalue": "[Errno 2] No such file or directory: '../../model/NaiveBayes/lesson11/eng_name_gender_classifier.pkl'",
     "output_type": "error",
     "traceback": [
      "\u001b[1;31m---------------------------------------------------------------------------\u001b[0m",
      "\u001b[1;31mFileNotFoundError\u001b[0m                         Traceback (most recent call last)",
      "\u001b[1;32m<ipython-input-59-62ba09b23a95>\u001b[0m in \u001b[0;36m<module>\u001b[1;34m()\u001b[0m\n\u001b[0;32m     10\u001b[0m \u001b[1;32mfrom\u001b[0m \u001b[0mtornado\u001b[0m\u001b[1;33m.\u001b[0m\u001b[0mioloop\u001b[0m \u001b[1;32mimport\u001b[0m \u001b[0mIOLoop\u001b[0m\u001b[1;33m\u001b[0m\u001b[0m\n\u001b[0;32m     11\u001b[0m \u001b[1;33m\u001b[0m\u001b[0m\n\u001b[1;32m---> 12\u001b[1;33m \u001b[1;32mwith\u001b[0m \u001b[0mopen\u001b[0m\u001b[1;33m(\u001b[0m\u001b[1;34m'../../model/NaiveBayes/lesson11/eng_name_gender_classifier.pkl'\u001b[0m\u001b[1;33m,\u001b[0m \u001b[1;34m'rb'\u001b[0m\u001b[1;33m)\u001b[0m \u001b[1;32mas\u001b[0m \u001b[0mhandle\u001b[0m\u001b[1;33m:\u001b[0m\u001b[1;33m\u001b[0m\u001b[0m\n\u001b[0m\u001b[0;32m     13\u001b[0m     \u001b[0meng_name_gender_model\u001b[0m \u001b[1;33m=\u001b[0m \u001b[0mpickle\u001b[0m\u001b[1;33m.\u001b[0m\u001b[0mload\u001b[0m\u001b[1;33m(\u001b[0m\u001b[0mhandle\u001b[0m\u001b[1;33m)\u001b[0m\u001b[1;33m\u001b[0m\u001b[0m\n\u001b[0;32m     14\u001b[0m \u001b[1;33m\u001b[0m\u001b[0m\n",
      "\u001b[1;31mFileNotFoundError\u001b[0m: [Errno 2] No such file or directory: '../../model/NaiveBayes/lesson11/eng_name_gender_classifier.pkl'"
     ]
    }
   ],
   "source": [
    "import tornado.ioloop\n",
    "import tornado.web\n",
    "import datetime\n",
    "import requests\n",
    "import re\n",
    "import math\n",
    "import pickle\n",
    "\n",
    "from tornado.httpserver import HTTPServer\n",
    "from tornado.ioloop import IOLoop\n",
    "\n",
    "with open('../../model/NaiveBayes/lesson11/eng_name_gender_classifier.pkl', 'rb') as handle:\n",
    "    eng_name_gender_model = pickle.load(handle)\n",
    "\n",
    "with open('../../model/NaiveBayes/lesson11/cht_name_gender_classifier.pkl', 'rb') as handle:\n",
    "    cht_name_gender_model = pickle.load(handle)\n",
    "\n",
    "gender_map = {'M': 0, 'F': 1}\n",
    "\n",
    "def extract_feature(name: str):\n",
    "    name = name.upper()\n",
    "    return {\n",
    "        'last_1': name[-1],\n",
    "        'last_2': name[-2:],\n",
    "        'last_3': name[-3:],\n",
    "        'last_is_vowel': (name[-1] in 'AEIOUY')\n",
    "    }\n",
    "\n",
    "def eng_name_gender_guess(eng_name_gender_model, eng_name):\n",
    "    result = eng_name_gender_model.classify(extract_feature(eng_name))\n",
    "    if gender_map[result.upper()]:\n",
    "        result = 'Female'\n",
    "    else:\n",
    "        result = 'Male'\n",
    "    return result\n",
    "\n",
    "totals = cht_name_gender_model['totals']\n",
    "bases = cht_name_gender_model['bases']\n",
    "frequency_list_m = cht_name_gender_model['frequency_list_m']\n",
    "frequency_list_f = cht_name_gender_model['frequency_list_f']\n",
    "\n",
    "gender_map_cht = {0: 'Female', 1: 'Male'}\n",
    "\n",
    "def GetGender(LogProbs):\n",
    "    return LogProbs['male'] > LogProbs['female']\n",
    "\n",
    "def LaplaceSmooth(char, frequency_list, total, alpha=1.0):\n",
    "    count = frequency_list[char] * total\n",
    "    distinct_chars = len(frequency_list)\n",
    "    freq_smooth = (count + alpha ) / (total + distinct_chars * alpha)\n",
    "    return freq_smooth\n",
    "\n",
    "def GetLogProb(char, frequency_list, total):\n",
    "    freq_smooth = LaplaceSmooth(char, frequency_list, total)\n",
    "    return math.log(freq_smooth) - math.log(1 - freq_smooth)\n",
    "\n",
    "def ComputeLogProb(name, bases, totals, frequency_list_m, frequency_list_f):\n",
    "    logprob_m = bases['m']\n",
    "    logprob_f = bases['f']\n",
    "    for char in name:\n",
    "        logprob_m += GetLogProb(char, frequency_list_m, totals['m'])\n",
    "        logprob_f += GetLogProb(char, frequency_list_f, totals['f'])\n",
    "    return {'male': logprob_m, 'female': logprob_f}\n",
    "\n",
    "def cht_name_gender_guess(name):\n",
    "    LogProbs = ComputeLogProb(name, bases, totals, frequency_list_m, frequency_list_f)\n",
    "    gender = GetGender(LogProbs)\n",
    "    result = gender_map_cht[gender]\n",
    "    return result\n",
    "\n",
    "\n",
    "def guess_eng_name(name):\n",
    "    gender = eng_name_gender_guess(eng_name_gender_model, name)\n",
    "    return gender\n",
    "\n",
    "def guess_cht_name(name):\n",
    "    gender = cht_name_gender_guess(name)\n",
    "    return gender\n",
    "\n",
    "class HTTPGetHandler(tornado.web.RequestHandler):\n",
    "    def get(self):\n",
    "        response_ = {}\n",
    "        args_dict = self.request.arguments\n",
    "        headers_dict = self.request.headers\n",
    "        host = self.request.host\n",
    "        try:\n",
    "            coin = \"\"\n",
    "            c = args_dict.get('c')[0]\n",
    "            if c != None:\n",
    "                coin = str(c, 'utf-8')\n",
    "            response_ = {\n",
    "                    \"result\":\"success\",\n",
    "                    \"message\": coin\n",
    "                }\n",
    "        except Exception as e:\n",
    "            response_ = {\n",
    "                \"result\":\"error\",\n",
    "                \"message\": str(e)\n",
    "            }\n",
    "            pass\n",
    "        self.write(response_)\n",
    "\n",
    "class EnglishNameGenderGuessHandler(tornado.web.RequestHandler):\n",
    "    def post(self):\n",
    "        try:\n",
    "            name = self.get_argument('name')\n",
    "            gender = guess_eng_name(name)\n",
    "            if len(gender)>0:\n",
    "                response = {\n",
    "                'result': 'Y',\n",
    "                'name': name,\n",
    "                'gender': gender\n",
    "                }\n",
    "            else:\n",
    "                response = {\n",
    "                'result': 'N',\n",
    "                'message': \"we can not predict name: {} gender.\".format(name)\n",
    "                }\n",
    "        except Exception as e:\n",
    "            response = {\n",
    "            'result': 'N',\n",
    "            'msg': str(e)\n",
    "            }\n",
    "            pass\n",
    "        self.write(response)\n",
    "\n",
    "class ChineseNameGenderGuessHandler(tornado.web.RequestHandler):\n",
    "    def post(self):\n",
    "        try:\n",
    "            name = self.get_argument('name')\n",
    "            gender = guess_cht_name(name)\n",
    "            if len(gender)>0:\n",
    "                response = {\n",
    "                'result': 'Y',\n",
    "                'name': name,\n",
    "                'gender': gender\n",
    "                }\n",
    "            else:\n",
    "                response = {\n",
    "                'result': 'N',\n",
    "                'message': \"we can not predict name: {} gender.\".format(name)\n",
    "                }\n",
    "        except Exception as e:\n",
    "            response = {\n",
    "            'result': 'N',\n",
    "            'msg': str(e)\n",
    "            }\n",
    "            pass\n",
    "        self.write(response)\n",
    "\n",
    "def make_app():\n",
    "    return tornado.web.Application([\n",
    "        (r\"/calculator\", HTTPGetHandler),\n",
    "        (r\"/gender_eng\", EnglishNameGenderGuessHandler),\n",
    "        (r\"/gender_cht\", ChineseNameGenderGuessHandler),\n",
    "    ])\n",
    "\n",
    "if __name__ == \"__main__\":\n",
    "    pass\n",
    "    #rs = requests.session()\n",
    "    #app = make_app()\n",
    "    #sockets = tornado.netutil.bind_sockets(8881)\n",
    "    #server = HTTPServer(app)\n",
    "    #server.add_sockets(sockets)\n",
    "    #IOLoop.current().start()\n",
    "    #tornado.ioloop.IOLoop.current().start()"
   ]
  },
  {
   "cell_type": "markdown",
   "metadata": {},
   "source": [
    "### test3.py"
   ]
  },
  {
   "cell_type": "code",
   "execution_count": 19,
   "metadata": {},
   "outputs": [
    {
     "name": "stdout",
     "output_type": "stream",
     "text": [
      "{'result': 'Y', 'name': '周董', 'gender': 'Male'}\n",
      "{'result': 'Y', 'name': '佩佩豬', 'gender': 'Female'}\n"
     ]
    }
   ],
   "source": [
    "import json\n",
    "import requests\n",
    "\n",
    "rs = requests.session()\n",
    "\n",
    "header = {\"User-Agent\": 'Mozilla/5.0 (Windows NT 10.0; WOW64; rv:51.0) Gecko/20100101 Firefox/51.0'}\n",
    "\n",
    "uri = 'http://localhost:8881/gender_cht'\n",
    "data = {\"name\":\"周董\"}\n",
    "rs = requests.session()\n",
    "res = rs.post(uri, data=data, headers=header, timeout=300)\n",
    "html_data = res.text\n",
    "jObj = json.loads(html_data)\n",
    "print(jObj)\n",
    "\n",
    "data = {\"name\":\"佩佩豬\"}\n",
    "rs = requests.session()\n",
    "res = rs.post(uri, data=data, headers=header, timeout=300)\n",
    "html_data = res.text\n",
    "jObj = json.loads(html_data)\n",
    "print(jObj)"
   ]
  },
  {
   "cell_type": "markdown",
   "metadata": {},
   "source": [
    "## Fetch Chinese charater"
   ]
  },
  {
   "cell_type": "code",
   "execution_count": 30,
   "metadata": {},
   "outputs": [
    {
     "name": "stdout",
     "output_type": "stream",
     "text": [
      "['大衛']\n"
     ]
    }
   ],
   "source": [
    "import re\n",
    "s = 'David大衛Lanz'\n",
    "\n",
    "cht = re.findall(r'[\\u4e00-\\u9fff]+', s)\n",
    "print(cht)"
   ]
  },
  {
   "cell_type": "code",
   "execution_count": 31,
   "metadata": {},
   "outputs": [
    {
     "name": "stdout",
     "output_type": "stream",
     "text": [
      "{'result': 'Y', 'name': '大衛', 'gender': 'Male'}\n"
     ]
    }
   ],
   "source": [
    "import json\n",
    "import requests\n",
    "\n",
    "rs = requests.session()\n",
    "\n",
    "header = {\"User-Agent\": 'Mozilla/5.0 (Windows NT 10.0; WOW64; rv:51.0) Gecko/20100101 Firefox/51.0'}\n",
    "\n",
    "uri = 'http://localhost:8881/gender_cht'\n",
    "data = {\"name\":cht}\n",
    "rs = requests.session()\n",
    "res = rs.post(uri, data=data, headers=header, timeout=300)\n",
    "html_data = res.text\n",
    "jObj = json.loads(html_data)\n",
    "print(jObj)"
   ]
  },
  {
   "cell_type": "markdown",
   "metadata": {},
   "source": [
    "## Fetch English charater"
   ]
  },
  {
   "cell_type": "code",
   "execution_count": 56,
   "metadata": {},
   "outputs": [
    {
     "name": "stdout",
     "output_type": "stream",
     "text": [
      "DavidLanz\n"
     ]
    }
   ],
   "source": [
    "import re\n",
    "s = 'David 大衛 Lanz'\n",
    "\n",
    "eng = re.sub(\"[^A-Za-z]\", \"\", s.strip())\n",
    "print(eng)"
   ]
  },
  {
   "cell_type": "code",
   "execution_count": 58,
   "metadata": {},
   "outputs": [
    {
     "name": "stdout",
     "output_type": "stream",
     "text": [
      "{\"result\": \"Y\", \"name\": \"DavidLanz\", \"gender\": \"Male\"}\n"
     ]
    }
   ],
   "source": [
    "import json\n",
    "import requests\n",
    "\n",
    "rs = requests.session()\n",
    "\n",
    "header = {\"User-Agent\": 'Mozilla/5.0 (Windows NT 10.0; WOW64; rv:51.0) Gecko/20100101 Firefox/51.0'}\n",
    "\n",
    "uri = 'http://localhost:8881/gender_eng'\n",
    "data = {\"name\":eng}\n",
    "rs = requests.session()\n",
    "res = rs.post(uri, data=data, headers=header, timeout=300)\n",
    "html_data = res.text\n",
    "print(html_data)"
   ]
  },
  {
   "cell_type": "code",
   "execution_count": null,
   "metadata": {},
   "outputs": [],
   "source": []
  },
  {
   "cell_type": "code",
   "execution_count": null,
   "metadata": {},
   "outputs": [],
   "source": []
  }
 ],
 "metadata": {
  "kernelspec": {
   "display_name": "Python 3",
   "language": "python",
   "name": "python3"
  },
  "language_info": {
   "codemirror_mode": {
    "name": "ipython",
    "version": 3
   },
   "file_extension": ".py",
   "mimetype": "text/x-python",
   "name": "python",
   "nbconvert_exporter": "python",
   "pygments_lexer": "ipython3",
   "version": "3.6.4"
  }
 },
 "nbformat": 4,
 "nbformat_minor": 2
}
