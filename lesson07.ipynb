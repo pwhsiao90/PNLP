{
 "cells": [
  {
   "cell_type": "markdown",
   "metadata": {},
   "source": [
    "## Lesson 7 - In Depth: Machine Learning\n",
    "\n",
    "\n",
    "\n",
    "\n",
    "### Table of Contents\n",
    "\n",
    "* [Weather data crawler](#WeatherDataCrawler)\n",
    "* [Decision Tree](#DecisionTree)\n",
    "* [Random Forest](#RandomForest)\n",
    "* [Stochastic gradient descent, SGD](#SGD)\n",
    "* [Facebook fanpage insights](#FacebookInsights)"
   ]
  },
  {
   "cell_type": "markdown",
   "metadata": {},
   "source": [
    "<img src=\"images/will_it_rain_2019.png\" width=\"640\">"
   ]
  },
  {
   "cell_type": "markdown",
   "metadata": {},
   "source": [
    "<a id=\"WeatherDataCrawler\"></a>\n",
    "## Weather data crawler\n",
    "\n",
    "Get Weather data from [中央氣象局](https://e-service.cwb.gov.tw/HistoryDataQuery/index.jsp)"
   ]
  },
  {
   "cell_type": "code",
   "execution_count": 1,
   "metadata": {},
   "outputs": [],
   "source": [
    "import pandas as pd\n",
    "import numpy as np\n",
    "import time, datetime, math, requests\n",
    "import warnings; warnings.simplefilter('ignore')\n",
    "from urllib.parse import quote, urlparse, unquote\n",
    "from bs4 import BeautifulSoup as bs\n",
    "from tqdm import tqdm"
   ]
  },
  {
   "cell_type": "code",
   "execution_count": 2,
   "metadata": {},
   "outputs": [],
   "source": [
    "def get_weather_data_online(url):\n",
    "    rs = requests.session()\n",
    "    html = rs.get(url)\n",
    "    soup = bs(html.text, \"lxml\").find({\"tbody\"})\n",
    "    month_data = []\n",
    "    soupss = soup.find_all(\"tr\")\n",
    "\n",
    "    colname = []\n",
    "    for j in soupss[1].find_all(\"th\"):\n",
    "        colname.append(str(j.getText()).split(\"(\")[0])\n",
    "    \n",
    "    for i in range(3,len(soupss)):\n",
    "        row_data = []\n",
    "        for k in soupss[i].find_all(\"td\"):\n",
    "            row_data.append(str(k.getText()).strip())\n",
    "        month_data.append(row_data)\n",
    "        \n",
    "    return month_data, colname"
   ]
  },
  {
   "cell_type": "code",
   "execution_count": 3,
   "metadata": {},
   "outputs": [
    {
     "data": {
      "text/plain": [
       "['2018-01',\n",
       " '2018-02',\n",
       " '2018-03',\n",
       " '2018-04',\n",
       " '2018-05',\n",
       " '2018-06',\n",
       " '2018-07',\n",
       " '2018-08',\n",
       " '2018-09',\n",
       " '2018-10',\n",
       " '2018-11',\n",
       " '2018-12',\n",
       " '2019-01',\n",
       " '2019-02',\n",
       " '2019-03',\n",
       " '2019-04',\n",
       " '2019-05',\n",
       " '2019-06',\n",
       " '2019-07',\n",
       " '2019-08',\n",
       " '2019-09',\n",
       " '2019-10',\n",
       " '2019-11',\n",
       " '2019-12',\n",
       " '2020-01',\n",
       " '2020-02',\n",
       " '2020-03',\n",
       " '2020-04',\n",
       " '2020-05',\n",
       " '2020-06',\n",
       " '2020-07',\n",
       " '2020-08',\n",
       " '2020-09',\n",
       " '2020-10',\n",
       " '2020-11',\n",
       " '2020-12',\n",
       " '2021-01',\n",
       " '2021-02',\n",
       " '2021-03']"
      ]
     },
     "execution_count": 3,
     "metadata": {},
     "output_type": "execute_result"
    }
   ],
   "source": [
    "# produce datetime that we wanted\n",
    "\n",
    "start_time = \"2018-01\"\n",
    "\n",
    "months_decide = int((datetime.datetime.today() - datetime.datetime.strptime(start_time, \"%Y-%m\")).days/30)\n",
    "datetime_list = []\n",
    "for i in range(1, months_decide+1):\n",
    "    datetime_list.append(start_time)\n",
    "    start_time = str(datetime.datetime.strptime(start_time, \"%Y-%m\") + datetime.timedelta(days=31))[:7]\n",
    "datetime_list"
   ]
  },
  {
   "cell_type": "code",
   "execution_count": 4,
   "metadata": {},
   "outputs": [
    {
     "name": "stderr",
     "output_type": "stream",
     "text": [
      "100%|████████████████████████████████████████████████████| 39/39 [00:52<00:00,  1.36s/it]\n"
     ]
    }
   ],
   "source": [
    "location = \"甲仙\"\n",
    "\n",
    "raw_url = \"https://e-service.cwb.gov.tw/HistoryDataQuery/MonthDataController.do?command=viewMain&station=466920&stname=\"+quote(quote(location))+\"&datepicker=\"\n",
    "all_data = []\n",
    "for dat_num in tqdm(datetime_list):\n",
    "    url = raw_url + dat_num\n",
    "    month_data, colname = get_weather_data_online(url)\n",
    "    all_data += month_data\n",
    "    time.sleep(1)\n",
    "    #print(dat_num, \":\\n\", url, \"\\n\", \"=\"*120)"
   ]
  },
  {
   "cell_type": "code",
   "execution_count": 5,
   "metadata": {},
   "outputs": [
    {
     "data": {
      "text/html": [
       "<div>\n",
       "<style scoped>\n",
       "    .dataframe tbody tr th:only-of-type {\n",
       "        vertical-align: middle;\n",
       "    }\n",
       "\n",
       "    .dataframe tbody tr th {\n",
       "        vertical-align: top;\n",
       "    }\n",
       "\n",
       "    .dataframe thead th {\n",
       "        text-align: right;\n",
       "    }\n",
       "</style>\n",
       "<table border=\"1\" class=\"dataframe\">\n",
       "  <thead>\n",
       "    <tr style=\"text-align: right;\">\n",
       "      <th></th>\n",
       "      <th>觀測時間</th>\n",
       "      <th>測站氣壓</th>\n",
       "      <th>海平面氣壓</th>\n",
       "      <th>測站最高氣壓</th>\n",
       "      <th>測站最高氣壓時間</th>\n",
       "      <th>測站最低氣壓</th>\n",
       "      <th>測站最低氣壓時間</th>\n",
       "      <th>氣溫</th>\n",
       "      <th>最高氣溫</th>\n",
       "      <th>最高氣溫時間</th>\n",
       "      <th>...</th>\n",
       "      <th>最大六十分鐘降水量</th>\n",
       "      <th>最大六十分鐘降水量起始時間</th>\n",
       "      <th>日照時數</th>\n",
       "      <th>日照率</th>\n",
       "      <th>全天空日射量</th>\n",
       "      <th>能見度</th>\n",
       "      <th>A型蒸發量</th>\n",
       "      <th>日最高紫外線指數</th>\n",
       "      <th>日最高紫外線指數時間</th>\n",
       "      <th>總雲量</th>\n",
       "    </tr>\n",
       "  </thead>\n",
       "  <tbody>\n",
       "    <tr>\n",
       "      <th>0</th>\n",
       "      <td>01</td>\n",
       "      <td>1018.3</td>\n",
       "      <td>1021.9</td>\n",
       "      <td>1020.4</td>\n",
       "      <td>2018-01-01 09:20</td>\n",
       "      <td>1016.3</td>\n",
       "      <td>2018-01-01 15:35</td>\n",
       "      <td>17.3</td>\n",
       "      <td>19.7</td>\n",
       "      <td>2018-01-01 12:15</td>\n",
       "      <td>...</td>\n",
       "      <td>0.0</td>\n",
       "      <td>...</td>\n",
       "      <td>0.9</td>\n",
       "      <td>8.5</td>\n",
       "      <td>8.23</td>\n",
       "      <td>12.5</td>\n",
       "      <td>2.4</td>\n",
       "      <td>5</td>\n",
       "      <td>2018-01-01 13:00</td>\n",
       "      <td>8.8</td>\n",
       "    </tr>\n",
       "    <tr>\n",
       "      <th>1</th>\n",
       "      <td>02</td>\n",
       "      <td>1016.1</td>\n",
       "      <td>1019.7</td>\n",
       "      <td>1018.6</td>\n",
       "      <td>2018-01-02 09:20</td>\n",
       "      <td>1013.3</td>\n",
       "      <td>2018-01-02 14:53</td>\n",
       "      <td>20.4</td>\n",
       "      <td>23.7</td>\n",
       "      <td>2018-01-02 14:42</td>\n",
       "      <td>...</td>\n",
       "      <td>0.0</td>\n",
       "      <td>...</td>\n",
       "      <td>8.4</td>\n",
       "      <td>79.5</td>\n",
       "      <td>13.41</td>\n",
       "      <td>40.0</td>\n",
       "      <td>2.3</td>\n",
       "      <td>6</td>\n",
       "      <td>2018-01-02 12:00</td>\n",
       "      <td>2.0</td>\n",
       "    </tr>\n",
       "    <tr>\n",
       "      <th>2</th>\n",
       "      <td>03</td>\n",
       "      <td>1015.2</td>\n",
       "      <td>1018.8</td>\n",
       "      <td>1017.4</td>\n",
       "      <td>2018-01-03 09:28</td>\n",
       "      <td>1013.0</td>\n",
       "      <td>2018-01-03 15:10</td>\n",
       "      <td>21.7</td>\n",
       "      <td>25.4</td>\n",
       "      <td>2018-01-03 12:30</td>\n",
       "      <td>...</td>\n",
       "      <td>0.0</td>\n",
       "      <td>...</td>\n",
       "      <td>5.7</td>\n",
       "      <td>53.9</td>\n",
       "      <td>11.39</td>\n",
       "      <td>27.5</td>\n",
       "      <td>3.8</td>\n",
       "      <td>6</td>\n",
       "      <td>2018-01-03 13:00</td>\n",
       "      <td>6.3</td>\n",
       "    </tr>\n",
       "    <tr>\n",
       "      <th>3</th>\n",
       "      <td>04</td>\n",
       "      <td>1013.2</td>\n",
       "      <td>1016.7</td>\n",
       "      <td>1015.1</td>\n",
       "      <td>2018-01-04 09:31</td>\n",
       "      <td>1010.8</td>\n",
       "      <td>2018-01-04 14:44</td>\n",
       "      <td>20.9</td>\n",
       "      <td>24.3</td>\n",
       "      <td>2018-01-04 12:47</td>\n",
       "      <td>...</td>\n",
       "      <td>0.3</td>\n",
       "      <td>2018-01-04 16:10</td>\n",
       "      <td>2.2</td>\n",
       "      <td>20.8</td>\n",
       "      <td>7.68</td>\n",
       "      <td>10.3</td>\n",
       "      <td>-0.4</td>\n",
       "      <td>4</td>\n",
       "      <td>2018-01-04 11:00</td>\n",
       "      <td>9.0</td>\n",
       "    </tr>\n",
       "    <tr>\n",
       "      <th>4</th>\n",
       "      <td>05</td>\n",
       "      <td>1014.3</td>\n",
       "      <td>1017.9</td>\n",
       "      <td>1016.1</td>\n",
       "      <td>2018-01-05 09:53</td>\n",
       "      <td>1012.0</td>\n",
       "      <td>2018-01-05 03:08</td>\n",
       "      <td>17.3</td>\n",
       "      <td>18.4</td>\n",
       "      <td>2018-01-05 00:04</td>\n",
       "      <td>...</td>\n",
       "      <td>0.5</td>\n",
       "      <td>2018-01-05 04:14</td>\n",
       "      <td>0.0</td>\n",
       "      <td>0.0</td>\n",
       "      <td>0.40</td>\n",
       "      <td>9.3</td>\n",
       "      <td>-1.0</td>\n",
       "      <td>1</td>\n",
       "      <td>2018-01-05 13:00</td>\n",
       "      <td>10.0</td>\n",
       "    </tr>\n",
       "  </tbody>\n",
       "</table>\n",
       "<p>5 rows × 35 columns</p>\n",
       "</div>"
      ],
      "text/plain": [
       "  觀測時間    測站氣壓   海平面氣壓  測站最高氣壓          測站最高氣壓時間  測站最低氣壓          測站最低氣壓時間  \\\n",
       "0   01  1018.3  1021.9  1020.4  2018-01-01 09:20  1016.3  2018-01-01 15:35   \n",
       "1   02  1016.1  1019.7  1018.6  2018-01-02 09:20  1013.3  2018-01-02 14:53   \n",
       "2   03  1015.2  1018.8  1017.4  2018-01-03 09:28  1013.0  2018-01-03 15:10   \n",
       "3   04  1013.2  1016.7  1015.1  2018-01-04 09:31  1010.8  2018-01-04 14:44   \n",
       "4   05  1014.3  1017.9  1016.1  2018-01-05 09:53  1012.0  2018-01-05 03:08   \n",
       "\n",
       "     氣溫  最高氣溫            最高氣溫時間  ... 最大六十分鐘降水量     最大六十分鐘降水量起始時間  日照時數   日照率  \\\n",
       "0  17.3  19.7  2018-01-01 12:15  ...       0.0               ...   0.9   8.5   \n",
       "1  20.4  23.7  2018-01-02 14:42  ...       0.0               ...   8.4  79.5   \n",
       "2  21.7  25.4  2018-01-03 12:30  ...       0.0               ...   5.7  53.9   \n",
       "3  20.9  24.3  2018-01-04 12:47  ...       0.3  2018-01-04 16:10   2.2  20.8   \n",
       "4  17.3  18.4  2018-01-05 00:04  ...       0.5  2018-01-05 04:14   0.0   0.0   \n",
       "\n",
       "   全天空日射量   能見度 A型蒸發量 日最高紫外線指數        日最高紫外線指數時間   總雲量  \n",
       "0    8.23  12.5   2.4        5  2018-01-01 13:00   8.8  \n",
       "1   13.41  40.0   2.3        6  2018-01-02 12:00   2.0  \n",
       "2   11.39  27.5   3.8        6  2018-01-03 13:00   6.3  \n",
       "3    7.68  10.3  -0.4        4  2018-01-04 11:00   9.0  \n",
       "4    0.40   9.3  -1.0        1  2018-01-05 13:00  10.0  \n",
       "\n",
       "[5 rows x 35 columns]"
      ]
     },
     "execution_count": 5,
     "metadata": {},
     "output_type": "execute_result"
    }
   ],
   "source": [
    "file_raw = pd.DataFrame(all_data, columns=colname)\n",
    "file_raw['最小相對溼度'] = file_raw['最小相對溼度'].map({'X': 0})\n",
    "file_raw['露點溫度'] = file_raw['露點溫度'].map({'X': 0})\n",
    "file_raw['相對溼度'] = file_raw['相對溼度'].map({'X': 0})\n",
    "file_raw['相對溼度'] = file_raw['相對溼度'].fillna(0)\n",
    "file_raw.head()"
   ]
  },
  {
   "cell_type": "code",
   "execution_count": 6,
   "metadata": {},
   "outputs": [],
   "source": [
    "# df.loc[file_raw['最小相對溼度'] == 'X']\n",
    "# df.loc[file_raw['露點溫度'] == 'X']\n",
    "# df.loc[file_raw['相對溼度'] == 'X']"
   ]
  },
  {
   "cell_type": "code",
   "execution_count": 7,
   "metadata": {},
   "outputs": [],
   "source": [
    "def get_rain_bool_col(list_rain):\n",
    "    list_rain_t = []\n",
    "    list_rain_raw = []\n",
    "    for i in list_rain:\n",
    "        try:\n",
    "            list_rain_raw.append(float(i))\n",
    "            if float(i) < 1:\n",
    "                list_rain_t.append(0)\n",
    "            else:\n",
    "                list_rain_t.append(1)\n",
    "        except Exception as e:\n",
    "            list_rain_t.append(0)\n",
    "            list_rain_raw.append(float(0))\n",
    "    # 假設最後一筆資料明天不會下雨    \n",
    "    list_tom_rain = list_rain_t[1:] + [0]\n",
    "    return list_rain_raw, list_tom_rain"
   ]
  },
  {
   "cell_type": "code",
   "execution_count": 8,
   "metadata": {},
   "outputs": [],
   "source": [
    "file_raw['觀測時間'] = file_raw['測站最高氣壓時間'].apply(lambda x : str(x).split(\" \")[0])\n",
    "file_raw = file_raw[(file_raw[\"觀測時間\"]!=\"...\") & (file_raw[\"觀測時間\"]!=\" \") & (file_raw[\"觀測時間\"]!=\"\")]\n",
    "file_raw['年'] = file_raw['觀測時間'].apply(lambda x : str(x).split(\"-\")[0])\n",
    "file_raw['月'] = file_raw['觀測時間'].apply(lambda x : str(x).split(\"-\")[1])\n",
    "file_raw['日'] = file_raw['觀測時間'].apply(lambda x : str(x).split(\"-\")[2])\n",
    "file_raw['降水量'] = get_rain_bool_col(list(file_raw['降水量']))[0]\n",
    "file_raw['明日是否下雨'] = get_rain_bool_col(list(file_raw['降水量']))[1]"
   ]
  },
  {
   "cell_type": "code",
   "execution_count": 9,
   "metadata": {},
   "outputs": [
    {
     "data": {
      "text/plain": [
       "Index(['觀測時間', '測站氣壓', '海平面氣壓', '測站最高氣壓', '測站最高氣壓時間', '測站最低氣壓', '測站最低氣壓時間',\n",
       "       '氣溫', '最高氣溫', '最高氣溫時間', '最低氣溫', '最低氣溫時間', '露點溫度', '相對溼度', '最小相對溼度',\n",
       "       '最小相對溼度時間', '風速', '風向', '最大陣風', '最大陣風風向', '最大陣風風速時間', '降水量', '降水時數',\n",
       "       '最大十分鐘降水量', '最大十分鐘降水量起始時間', '最大六十分鐘降水量', '最大六十分鐘降水量起始時間', '日照時數', '日照率',\n",
       "       '全天空日射量', '能見度', 'A型蒸發量', '日最高紫外線指數', '日最高紫外線指數時間', '總雲量', '年', '月',\n",
       "       '日', '明日是否下雨'],\n",
       "      dtype='object')"
      ]
     },
     "execution_count": 9,
     "metadata": {},
     "output_type": "execute_result"
    }
   ],
   "source": [
    "file_raw.columns"
   ]
  },
  {
   "cell_type": "code",
   "execution_count": 10,
   "metadata": {},
   "outputs": [
    {
     "data": {
      "text/html": [
       "<div>\n",
       "<style scoped>\n",
       "    .dataframe tbody tr th:only-of-type {\n",
       "        vertical-align: middle;\n",
       "    }\n",
       "\n",
       "    .dataframe tbody tr th {\n",
       "        vertical-align: top;\n",
       "    }\n",
       "\n",
       "    .dataframe thead th {\n",
       "        text-align: right;\n",
       "    }\n",
       "</style>\n",
       "<table border=\"1\" class=\"dataframe\">\n",
       "  <thead>\n",
       "    <tr style=\"text-align: right;\">\n",
       "      <th></th>\n",
       "      <th>觀測時間</th>\n",
       "      <th>年</th>\n",
       "      <th>月</th>\n",
       "      <th>日</th>\n",
       "      <th>明日是否下雨</th>\n",
       "      <th>降水量</th>\n",
       "      <th>降水時數</th>\n",
       "      <th>日照時數</th>\n",
       "      <th>日照率</th>\n",
       "      <th>全天空日射量</th>\n",
       "      <th>...</th>\n",
       "      <th>總雲量</th>\n",
       "      <th>測站氣壓</th>\n",
       "      <th>海平面氣壓</th>\n",
       "      <th>氣溫</th>\n",
       "      <th>最高氣溫</th>\n",
       "      <th>最低氣溫</th>\n",
       "      <th>露點溫度</th>\n",
       "      <th>相對溼度</th>\n",
       "      <th>最小相對溼度</th>\n",
       "      <th>風速</th>\n",
       "    </tr>\n",
       "  </thead>\n",
       "  <tbody>\n",
       "    <tr>\n",
       "      <th>0</th>\n",
       "      <td>2018-01-01</td>\n",
       "      <td>2018</td>\n",
       "      <td>01</td>\n",
       "      <td>01</td>\n",
       "      <td>0</td>\n",
       "      <td>0.0</td>\n",
       "      <td>0.0</td>\n",
       "      <td>0.9</td>\n",
       "      <td>8.5</td>\n",
       "      <td>8.23</td>\n",
       "      <td>...</td>\n",
       "      <td>8.8</td>\n",
       "      <td>1018.3</td>\n",
       "      <td>1021.9</td>\n",
       "      <td>17.3</td>\n",
       "      <td>19.7</td>\n",
       "      <td>15.5</td>\n",
       "      <td>NaN</td>\n",
       "      <td>0.0</td>\n",
       "      <td>NaN</td>\n",
       "      <td>3.9</td>\n",
       "    </tr>\n",
       "    <tr>\n",
       "      <th>1</th>\n",
       "      <td>2018-01-02</td>\n",
       "      <td>2018</td>\n",
       "      <td>01</td>\n",
       "      <td>02</td>\n",
       "      <td>0</td>\n",
       "      <td>0.0</td>\n",
       "      <td>0.0</td>\n",
       "      <td>8.4</td>\n",
       "      <td>79.5</td>\n",
       "      <td>13.41</td>\n",
       "      <td>...</td>\n",
       "      <td>2.0</td>\n",
       "      <td>1016.1</td>\n",
       "      <td>1019.7</td>\n",
       "      <td>20.4</td>\n",
       "      <td>23.7</td>\n",
       "      <td>17.8</td>\n",
       "      <td>NaN</td>\n",
       "      <td>0.0</td>\n",
       "      <td>NaN</td>\n",
       "      <td>4.4</td>\n",
       "    </tr>\n",
       "    <tr>\n",
       "      <th>2</th>\n",
       "      <td>2018-01-03</td>\n",
       "      <td>2018</td>\n",
       "      <td>01</td>\n",
       "      <td>03</td>\n",
       "      <td>0</td>\n",
       "      <td>0.0</td>\n",
       "      <td>0.0</td>\n",
       "      <td>5.7</td>\n",
       "      <td>53.9</td>\n",
       "      <td>11.39</td>\n",
       "      <td>...</td>\n",
       "      <td>6.3</td>\n",
       "      <td>1015.2</td>\n",
       "      <td>1018.8</td>\n",
       "      <td>21.7</td>\n",
       "      <td>25.4</td>\n",
       "      <td>19.8</td>\n",
       "      <td>NaN</td>\n",
       "      <td>0.0</td>\n",
       "      <td>NaN</td>\n",
       "      <td>3.9</td>\n",
       "    </tr>\n",
       "    <tr>\n",
       "      <th>3</th>\n",
       "      <td>2018-01-04</td>\n",
       "      <td>2018</td>\n",
       "      <td>01</td>\n",
       "      <td>04</td>\n",
       "      <td>1</td>\n",
       "      <td>0.3</td>\n",
       "      <td>1.2</td>\n",
       "      <td>2.2</td>\n",
       "      <td>20.8</td>\n",
       "      <td>7.68</td>\n",
       "      <td>...</td>\n",
       "      <td>9.0</td>\n",
       "      <td>1013.2</td>\n",
       "      <td>1016.7</td>\n",
       "      <td>20.9</td>\n",
       "      <td>24.3</td>\n",
       "      <td>18.3</td>\n",
       "      <td>NaN</td>\n",
       "      <td>0.0</td>\n",
       "      <td>NaN</td>\n",
       "      <td>1.9</td>\n",
       "    </tr>\n",
       "    <tr>\n",
       "      <th>4</th>\n",
       "      <td>2018-01-05</td>\n",
       "      <td>2018</td>\n",
       "      <td>01</td>\n",
       "      <td>05</td>\n",
       "      <td>1</td>\n",
       "      <td>1.0</td>\n",
       "      <td>7.1</td>\n",
       "      <td>0.0</td>\n",
       "      <td>0.0</td>\n",
       "      <td>0.40</td>\n",
       "      <td>...</td>\n",
       "      <td>10.0</td>\n",
       "      <td>1014.3</td>\n",
       "      <td>1017.9</td>\n",
       "      <td>17.3</td>\n",
       "      <td>18.4</td>\n",
       "      <td>16.4</td>\n",
       "      <td>NaN</td>\n",
       "      <td>0.0</td>\n",
       "      <td>NaN</td>\n",
       "      <td>2.1</td>\n",
       "    </tr>\n",
       "  </tbody>\n",
       "</table>\n",
       "<p>5 rows × 21 columns</p>\n",
       "</div>"
      ],
      "text/plain": [
       "         觀測時間     年   月   日  明日是否下雨  降水量 降水時數 日照時數   日照率 全天空日射量  ...   總雲量  \\\n",
       "0  2018-01-01  2018  01  01       0  0.0  0.0  0.9   8.5   8.23  ...   8.8   \n",
       "1  2018-01-02  2018  01  02       0  0.0  0.0  8.4  79.5  13.41  ...   2.0   \n",
       "2  2018-01-03  2018  01  03       0  0.0  0.0  5.7  53.9  11.39  ...   6.3   \n",
       "3  2018-01-04  2018  01  04       1  0.3  1.2  2.2  20.8   7.68  ...   9.0   \n",
       "4  2018-01-05  2018  01  05       1  1.0  7.1  0.0   0.0   0.40  ...  10.0   \n",
       "\n",
       "     測站氣壓   海平面氣壓    氣溫  最高氣溫  最低氣溫 露點溫度  相對溼度  最小相對溼度   風速  \n",
       "0  1018.3  1021.9  17.3  19.7  15.5  NaN   0.0     NaN  3.9  \n",
       "1  1016.1  1019.7  20.4  23.7  17.8  NaN   0.0     NaN  4.4  \n",
       "2  1015.2  1018.8  21.7  25.4  19.8  NaN   0.0     NaN  3.9  \n",
       "3  1013.2  1016.7  20.9  24.3  18.3  NaN   0.0     NaN  1.9  \n",
       "4  1014.3  1017.9  17.3  18.4  16.4  NaN   0.0     NaN  2.1  \n",
       "\n",
       "[5 rows x 21 columns]"
      ]
     },
     "execution_count": 10,
     "metadata": {},
     "output_type": "execute_result"
    }
   ],
   "source": [
    "stay_col = ['觀測時間', '年', '月', '日', '明日是否下雨', '降水量', '降水時數', '日照時數', '日照率', '全天空日射量', '能見度', '總雲量', '測站氣壓', '海平面氣壓', '氣溫', '最高氣溫', '最低氣溫', '露點溫度', '相對溼度', '最小相對溼度', '風速']\n",
    "file_raw = file_raw[stay_col]\n",
    "file_raw.head()"
   ]
  },
  {
   "cell_type": "code",
   "execution_count": 11,
   "metadata": {},
   "outputs": [],
   "source": [
    "# Write data into *.csv\n",
    "file_raw.to_csv(\"data/weather/rain_raw.csv\", encoding='utf_8_sig', header=True, index=False)\n",
    "# Write data into *.excel\n",
    "writer = pd.ExcelWriter('data/weather/rain_raw.xlsx', options={'strings_to_urls': False})\n",
    "file_raw.to_excel(writer,'Sheet1', index = True)\n",
    "writer.save()"
   ]
  },
  {
   "cell_type": "markdown",
   "metadata": {},
   "source": [
    "### load weather data with pandas"
   ]
  },
  {
   "cell_type": "code",
   "execution_count": 12,
   "metadata": {},
   "outputs": [],
   "source": [
    "import pandas as pd\n",
    "import numpy as np\n",
    "import time, datetime, math"
   ]
  },
  {
   "cell_type": "code",
   "execution_count": 13,
   "metadata": {},
   "outputs": [
    {
     "name": "stdout",
     "output_type": "stream",
     "text": [
      "(1173, 21)\n"
     ]
    },
    {
     "data": {
      "text/html": [
       "<div>\n",
       "<style scoped>\n",
       "    .dataframe tbody tr th:only-of-type {\n",
       "        vertical-align: middle;\n",
       "    }\n",
       "\n",
       "    .dataframe tbody tr th {\n",
       "        vertical-align: top;\n",
       "    }\n",
       "\n",
       "    .dataframe thead th {\n",
       "        text-align: right;\n",
       "    }\n",
       "</style>\n",
       "<table border=\"1\" class=\"dataframe\">\n",
       "  <thead>\n",
       "    <tr style=\"text-align: right;\">\n",
       "      <th></th>\n",
       "      <th>觀測時間</th>\n",
       "      <th>年</th>\n",
       "      <th>月</th>\n",
       "      <th>日</th>\n",
       "      <th>明日是否下雨</th>\n",
       "      <th>降水量</th>\n",
       "      <th>降水時數</th>\n",
       "      <th>日照時數</th>\n",
       "      <th>日照率</th>\n",
       "      <th>全天空日射量</th>\n",
       "      <th>...</th>\n",
       "      <th>總雲量</th>\n",
       "      <th>測站氣壓</th>\n",
       "      <th>海平面氣壓</th>\n",
       "      <th>氣溫</th>\n",
       "      <th>最高氣溫</th>\n",
       "      <th>最低氣溫</th>\n",
       "      <th>露點溫度</th>\n",
       "      <th>相對溼度</th>\n",
       "      <th>最小相對溼度</th>\n",
       "      <th>風速</th>\n",
       "    </tr>\n",
       "  </thead>\n",
       "  <tbody>\n",
       "    <tr>\n",
       "      <th>1168</th>\n",
       "      <td>2021-03-14</td>\n",
       "      <td>2021</td>\n",
       "      <td>3</td>\n",
       "      <td>14</td>\n",
       "      <td>0</td>\n",
       "      <td>0.0</td>\n",
       "      <td>0.1</td>\n",
       "      <td>8.1</td>\n",
       "      <td>68.0</td>\n",
       "      <td>21.21</td>\n",
       "      <td>...</td>\n",
       "      <td>5.8</td>\n",
       "      <td>1013.8</td>\n",
       "      <td>1017.4</td>\n",
       "      <td>20.3</td>\n",
       "      <td>23.4</td>\n",
       "      <td>18.4</td>\n",
       "      <td>0.0</td>\n",
       "      <td>0.0</td>\n",
       "      <td>0.0</td>\n",
       "      <td>3.2</td>\n",
       "    </tr>\n",
       "    <tr>\n",
       "      <th>1169</th>\n",
       "      <td>2021-03-15</td>\n",
       "      <td>2021</td>\n",
       "      <td>3</td>\n",
       "      <td>15</td>\n",
       "      <td>0</td>\n",
       "      <td>0.0</td>\n",
       "      <td>0.0</td>\n",
       "      <td>9.2</td>\n",
       "      <td>77.1</td>\n",
       "      <td>21.01</td>\n",
       "      <td>...</td>\n",
       "      <td>3.8</td>\n",
       "      <td>1011.1</td>\n",
       "      <td>1014.6</td>\n",
       "      <td>22.7</td>\n",
       "      <td>28.9</td>\n",
       "      <td>18.0</td>\n",
       "      <td>0.0</td>\n",
       "      <td>0.0</td>\n",
       "      <td>0.0</td>\n",
       "      <td>1.6</td>\n",
       "    </tr>\n",
       "    <tr>\n",
       "      <th>1170</th>\n",
       "      <td>2021-03-16</td>\n",
       "      <td>2021</td>\n",
       "      <td>3</td>\n",
       "      <td>16</td>\n",
       "      <td>0</td>\n",
       "      <td>0.0</td>\n",
       "      <td>0.0</td>\n",
       "      <td>10.7</td>\n",
       "      <td>89.5</td>\n",
       "      <td>22.52</td>\n",
       "      <td>...</td>\n",
       "      <td>0.8</td>\n",
       "      <td>1010.4</td>\n",
       "      <td>1013.9</td>\n",
       "      <td>23.9</td>\n",
       "      <td>30.0</td>\n",
       "      <td>19.1</td>\n",
       "      <td>0.0</td>\n",
       "      <td>0.0</td>\n",
       "      <td>0.0</td>\n",
       "      <td>1.4</td>\n",
       "    </tr>\n",
       "    <tr>\n",
       "      <th>1171</th>\n",
       "      <td>2021-03-17</td>\n",
       "      <td>2021</td>\n",
       "      <td>3</td>\n",
       "      <td>17</td>\n",
       "      <td>0</td>\n",
       "      <td>0.0</td>\n",
       "      <td>0.0</td>\n",
       "      <td>5.2</td>\n",
       "      <td>43.4</td>\n",
       "      <td>15.67</td>\n",
       "      <td>...</td>\n",
       "      <td>5.0</td>\n",
       "      <td>1010.8</td>\n",
       "      <td>1014.3</td>\n",
       "      <td>22.1</td>\n",
       "      <td>26.0</td>\n",
       "      <td>20.3</td>\n",
       "      <td>0.0</td>\n",
       "      <td>0.0</td>\n",
       "      <td>0.0</td>\n",
       "      <td>1.8</td>\n",
       "    </tr>\n",
       "    <tr>\n",
       "      <th>1172</th>\n",
       "      <td>2021-03-18</td>\n",
       "      <td>2021</td>\n",
       "      <td>3</td>\n",
       "      <td>18</td>\n",
       "      <td>0</td>\n",
       "      <td>0.0</td>\n",
       "      <td>0.0</td>\n",
       "      <td>1.0</td>\n",
       "      <td>8.3</td>\n",
       "      <td>9.59</td>\n",
       "      <td>...</td>\n",
       "      <td>8.5</td>\n",
       "      <td>1010.4</td>\n",
       "      <td>1013.9</td>\n",
       "      <td>21.6</td>\n",
       "      <td>24.9</td>\n",
       "      <td>19.5</td>\n",
       "      <td>0.0</td>\n",
       "      <td>0.0</td>\n",
       "      <td>0.0</td>\n",
       "      <td>1.1</td>\n",
       "    </tr>\n",
       "  </tbody>\n",
       "</table>\n",
       "<p>5 rows × 21 columns</p>\n",
       "</div>"
      ],
      "text/plain": [
       "            觀測時間     年  月   日  明日是否下雨  降水量  降水時數  日照時數   日照率  全天空日射量  ...  \\\n",
       "1168  2021-03-14  2021  3  14       0  0.0   0.1   8.1  68.0   21.21  ...   \n",
       "1169  2021-03-15  2021  3  15       0  0.0   0.0   9.2  77.1   21.01  ...   \n",
       "1170  2021-03-16  2021  3  16       0  0.0   0.0  10.7  89.5   22.52  ...   \n",
       "1171  2021-03-17  2021  3  17       0  0.0   0.0   5.2  43.4   15.67  ...   \n",
       "1172  2021-03-18  2021  3  18       0  0.0   0.0   1.0   8.3    9.59  ...   \n",
       "\n",
       "      總雲量    測站氣壓   海平面氣壓    氣溫  最高氣溫  最低氣溫  露點溫度  相對溼度  最小相對溼度   風速  \n",
       "1168  5.8  1013.8  1017.4  20.3  23.4  18.4   0.0   0.0     0.0  3.2  \n",
       "1169  3.8  1011.1  1014.6  22.7  28.9  18.0   0.0   0.0     0.0  1.6  \n",
       "1170  0.8  1010.4  1013.9  23.9  30.0  19.1   0.0   0.0     0.0  1.4  \n",
       "1171  5.0  1010.8  1014.3  22.1  26.0  20.3   0.0   0.0     0.0  1.8  \n",
       "1172  8.5  1010.4  1013.9  21.6  24.9  19.5   0.0   0.0     0.0  1.1  \n",
       "\n",
       "[5 rows x 21 columns]"
      ]
     },
     "execution_count": 13,
     "metadata": {},
     "output_type": "execute_result"
    }
   ],
   "source": [
    "file = pd.read_csv(\"data/weather/rain_raw.csv\")\n",
    "file['相對溼度'] = file['相對溼度'].fillna(0)\n",
    "file['露點溫度'] = file['露點溫度'].fillna(0)\n",
    "file['最小相對溼度'] = file['最小相對溼度'].fillna(0)\n",
    "print(file.shape)\n",
    "file.tail()"
   ]
  },
  {
   "cell_type": "markdown",
   "metadata": {},
   "source": [
    "### load our Excel file: \"controlling.xlsx\" to select/define features easily"
   ]
  },
  {
   "cell_type": "code",
   "execution_count": 14,
   "metadata": {},
   "outputs": [
    {
     "data": {
      "text/html": [
       "<div>\n",
       "<style scoped>\n",
       "    .dataframe tbody tr th:only-of-type {\n",
       "        vertical-align: middle;\n",
       "    }\n",
       "\n",
       "    .dataframe tbody tr th {\n",
       "        vertical-align: top;\n",
       "    }\n",
       "\n",
       "    .dataframe thead th {\n",
       "        text-align: right;\n",
       "    }\n",
       "</style>\n",
       "<table border=\"1\" class=\"dataframe\">\n",
       "  <thead>\n",
       "    <tr style=\"text-align: right;\">\n",
       "      <th></th>\n",
       "      <th>所有欄位名稱</th>\n",
       "      <th>所有欄位單位</th>\n",
       "      <th>Unnamed: 2</th>\n",
       "      <th>使用欄位</th>\n",
       "      <th>Unnamed: 4</th>\n",
       "      <th>整數欄位</th>\n",
       "      <th>Unnamed: 6</th>\n",
       "      <th>浮點數欄位</th>\n",
       "      <th>Unnamed: 8</th>\n",
       "      <th>字串欄位</th>\n",
       "      <th>Unnamed: 10</th>\n",
       "      <th>踢除欄位</th>\n",
       "      <th>Unnamed: 12</th>\n",
       "      <th>dummy欄位</th>\n",
       "      <th>Unnamed: 14</th>\n",
       "      <th>訓練前處理欄位</th>\n",
       "    </tr>\n",
       "  </thead>\n",
       "  <tbody>\n",
       "    <tr>\n",
       "      <th>0</th>\n",
       "      <td>觀測時間</td>\n",
       "      <td>(day)</td>\n",
       "      <td>NaN</td>\n",
       "      <td>明日是否下雨</td>\n",
       "      <td>NaN</td>\n",
       "      <td>明日是否下雨</td>\n",
       "      <td>NaN</td>\n",
       "      <td>能見度</td>\n",
       "      <td>NaN</td>\n",
       "      <td>觀測時間</td>\n",
       "      <td>NaN</td>\n",
       "      <td>觀測時間</td>\n",
       "      <td>NaN</td>\n",
       "      <td>月</td>\n",
       "      <td>NaN</td>\n",
       "      <td>NaN</td>\n",
       "    </tr>\n",
       "    <tr>\n",
       "      <th>1</th>\n",
       "      <td>年</td>\n",
       "      <td>(單位)</td>\n",
       "      <td>NaN</td>\n",
       "      <td>觀測時間</td>\n",
       "      <td>NaN</td>\n",
       "      <td>年</td>\n",
       "      <td>NaN</td>\n",
       "      <td>相對溼度</td>\n",
       "      <td>NaN</td>\n",
       "      <td>NaN</td>\n",
       "      <td>NaN</td>\n",
       "      <td>年</td>\n",
       "      <td>NaN</td>\n",
       "      <td>NaN</td>\n",
       "      <td>NaN</td>\n",
       "      <td>NaN</td>\n",
       "    </tr>\n",
       "    <tr>\n",
       "      <th>2</th>\n",
       "      <td>月</td>\n",
       "      <td>(單位)</td>\n",
       "      <td>NaN</td>\n",
       "      <td>年</td>\n",
       "      <td>NaN</td>\n",
       "      <td>NaN</td>\n",
       "      <td>NaN</td>\n",
       "      <td>NaN</td>\n",
       "      <td>NaN</td>\n",
       "      <td>NaN</td>\n",
       "      <td>NaN</td>\n",
       "      <td>NaN</td>\n",
       "      <td>NaN</td>\n",
       "      <td>NaN</td>\n",
       "      <td>NaN</td>\n",
       "      <td>NaN</td>\n",
       "    </tr>\n",
       "    <tr>\n",
       "      <th>3</th>\n",
       "      <td>日</td>\n",
       "      <td>(單位)</td>\n",
       "      <td>NaN</td>\n",
       "      <td>能見度</td>\n",
       "      <td>NaN</td>\n",
       "      <td>NaN</td>\n",
       "      <td>NaN</td>\n",
       "      <td>NaN</td>\n",
       "      <td>NaN</td>\n",
       "      <td>NaN</td>\n",
       "      <td>NaN</td>\n",
       "      <td>NaN</td>\n",
       "      <td>NaN</td>\n",
       "      <td>NaN</td>\n",
       "      <td>NaN</td>\n",
       "      <td>NaN</td>\n",
       "    </tr>\n",
       "    <tr>\n",
       "      <th>4</th>\n",
       "      <td>明日是否下雨</td>\n",
       "      <td>(單位)</td>\n",
       "      <td>NaN</td>\n",
       "      <td>相對溼度</td>\n",
       "      <td>NaN</td>\n",
       "      <td>NaN</td>\n",
       "      <td>NaN</td>\n",
       "      <td>NaN</td>\n",
       "      <td>NaN</td>\n",
       "      <td>NaN</td>\n",
       "      <td>NaN</td>\n",
       "      <td>NaN</td>\n",
       "      <td>NaN</td>\n",
       "      <td>NaN</td>\n",
       "      <td>NaN</td>\n",
       "      <td>NaN</td>\n",
       "    </tr>\n",
       "  </tbody>\n",
       "</table>\n",
       "</div>"
      ],
      "text/plain": [
       "   所有欄位名稱 所有欄位單位  Unnamed: 2    使用欄位  Unnamed: 4    整數欄位  Unnamed: 6 浮點數欄位  \\\n",
       "0    觀測時間  (day)         NaN  明日是否下雨         NaN  明日是否下雨         NaN   能見度   \n",
       "1       年   (單位)         NaN    觀測時間         NaN       年         NaN  相對溼度   \n",
       "2       月   (單位)         NaN       年         NaN     NaN         NaN   NaN   \n",
       "3       日   (單位)         NaN     能見度         NaN     NaN         NaN   NaN   \n",
       "4  明日是否下雨   (單位)         NaN    相對溼度         NaN     NaN         NaN   NaN   \n",
       "\n",
       "   Unnamed: 8  字串欄位  Unnamed: 10  踢除欄位  Unnamed: 12 dummy欄位  Unnamed: 14  \\\n",
       "0         NaN  觀測時間          NaN  觀測時間          NaN       月          NaN   \n",
       "1         NaN   NaN          NaN     年          NaN     NaN          NaN   \n",
       "2         NaN   NaN          NaN   NaN          NaN     NaN          NaN   \n",
       "3         NaN   NaN          NaN   NaN          NaN     NaN          NaN   \n",
       "4         NaN   NaN          NaN   NaN          NaN     NaN          NaN   \n",
       "\n",
       "   訓練前處理欄位  \n",
       "0      NaN  \n",
       "1      NaN  \n",
       "2      NaN  \n",
       "3      NaN  \n",
       "4      NaN  "
      ]
     },
     "execution_count": 14,
     "metadata": {},
     "output_type": "execute_result"
    }
   ],
   "source": [
    "import pandas as pd\n",
    "file0 = pd.read_excel(\"data/weather/weather_controller.xlsx\")\n",
    "file0.head()"
   ]
  },
  {
   "cell_type": "code",
   "execution_count": 15,
   "metadata": {},
   "outputs": [],
   "source": [
    "# kick_nan is for remove NaN coulum\n",
    "def kick_nan(_list):\n",
    "    list0 = []\n",
    "    for i in _list:\n",
    "        if \"nan\" not in str(i).lower():\n",
    "            list0.append(str(i))\n",
    "    return list0"
   ]
  },
  {
   "cell_type": "code",
   "execution_count": 16,
   "metadata": {},
   "outputs": [
    {
     "name": "stdout",
     "output_type": "stream",
     "text": [
      "use_col:  ['明日是否下雨', '相對溼度', '能見度', '月', '觀測時間', '年']\n",
      "int_col:  ['明日是否下雨', '年']\n",
      "str_col:  ['觀測時間']\n",
      "float_col:  ['相對溼度', '能見度']\n",
      "drop_col:  ['年', '觀測時間']\n",
      "dummy_col:  ['月']\n",
      "pre_col:  []\n"
     ]
    }
   ],
   "source": [
    "use_col = kick_nan(list(set(file0['使用欄位'])))\n",
    "int_col = kick_nan(list(set(file0['整數欄位'])))\n",
    "str_col = kick_nan(list(set(file0['字串欄位'])))\n",
    "float_col = kick_nan(list(set(file0['浮點數欄位'])))\n",
    "drop_col = kick_nan(list(set(file0['踢除欄位'])))\n",
    "dummy_col = kick_nan(list(set(file0['dummy欄位'])))\n",
    "pre_col = kick_nan(list(set(file0['訓練前處理欄位'])))\n",
    "print(\"use_col: \", use_col)\n",
    "print(\"int_col: \", int_col)\n",
    "print(\"str_col: \", str_col)\n",
    "print(\"float_col: \", float_col)\n",
    "print(\"drop_col: \", drop_col)\n",
    "print(\"dummy_col: \", dummy_col)\n",
    "print(\"pre_col: \", pre_col)"
   ]
  },
  {
   "cell_type": "markdown",
   "metadata": {},
   "source": [
    "### data cleaning, prepare process data\n",
    "key concepts:\n",
    "1. 資料清洗 (nan, err)\n",
    "2. 資料形別 (string, integer, float; dataframe, list, array, matrix)\n",
    "3. 資料不對襯 (delete data; add more data)"
   ]
  },
  {
   "cell_type": "code",
   "execution_count": 17,
   "metadata": {},
   "outputs": [],
   "source": [
    "def preprocessing_before_training(file, use_col, int_col, float_col, str_col):\n",
    "    # 1. 資料清洗 (nan, err)\n",
    "    # pick the column that we wanted\n",
    "    file = file[use_col]\n",
    "    \n",
    "    # 2. 資料形別 (string, integer, float; dataframe, list, array, matrix)    \n",
    "    # transfer some of columns into float\n",
    "    if len(float_col) > 0:\n",
    "        for i in float_col:\n",
    "            file[i] = file[i].apply(lambda x : float(str(x)))\n",
    "\n",
    "    # transfer some of columns into int\n",
    "    if len(int_col) > 0:\n",
    "        for i in int_col:\n",
    "            file[i] = file[i].apply(lambda x : int(float(str(x))))\n",
    "\n",
    "    # transfer some of columns into str\n",
    "    if len(str_col) > 0:\n",
    "        for i in str_col:\n",
    "            file[i] = file[i].apply(lambda x : str(x))    \n",
    "    return file"
   ]
  },
  {
   "cell_type": "code",
   "execution_count": 18,
   "metadata": {},
   "outputs": [
    {
     "name": "stdout",
     "output_type": "stream",
     "text": [
      "(1096, 6)\n"
     ]
    },
    {
     "data": {
      "text/html": [
       "<div>\n",
       "<style scoped>\n",
       "    .dataframe tbody tr th:only-of-type {\n",
       "        vertical-align: middle;\n",
       "    }\n",
       "\n",
       "    .dataframe tbody tr th {\n",
       "        vertical-align: top;\n",
       "    }\n",
       "\n",
       "    .dataframe thead th {\n",
       "        text-align: right;\n",
       "    }\n",
       "</style>\n",
       "<table border=\"1\" class=\"dataframe\">\n",
       "  <thead>\n",
       "    <tr style=\"text-align: right;\">\n",
       "      <th></th>\n",
       "      <th>明日是否下雨</th>\n",
       "      <th>相對溼度</th>\n",
       "      <th>能見度</th>\n",
       "      <th>月</th>\n",
       "      <th>觀測時間</th>\n",
       "      <th>年</th>\n",
       "    </tr>\n",
       "  </thead>\n",
       "  <tbody>\n",
       "    <tr>\n",
       "      <th>0</th>\n",
       "      <td>0</td>\n",
       "      <td>0.0</td>\n",
       "      <td>12.5</td>\n",
       "      <td>1</td>\n",
       "      <td>2018-01-01</td>\n",
       "      <td>2018</td>\n",
       "    </tr>\n",
       "    <tr>\n",
       "      <th>1</th>\n",
       "      <td>0</td>\n",
       "      <td>0.0</td>\n",
       "      <td>40.0</td>\n",
       "      <td>1</td>\n",
       "      <td>2018-01-02</td>\n",
       "      <td>2018</td>\n",
       "    </tr>\n",
       "    <tr>\n",
       "      <th>2</th>\n",
       "      <td>0</td>\n",
       "      <td>0.0</td>\n",
       "      <td>27.5</td>\n",
       "      <td>1</td>\n",
       "      <td>2018-01-03</td>\n",
       "      <td>2018</td>\n",
       "    </tr>\n",
       "    <tr>\n",
       "      <th>3</th>\n",
       "      <td>1</td>\n",
       "      <td>0.0</td>\n",
       "      <td>10.3</td>\n",
       "      <td>1</td>\n",
       "      <td>2018-01-04</td>\n",
       "      <td>2018</td>\n",
       "    </tr>\n",
       "    <tr>\n",
       "      <th>4</th>\n",
       "      <td>1</td>\n",
       "      <td>0.0</td>\n",
       "      <td>9.3</td>\n",
       "      <td>1</td>\n",
       "      <td>2018-01-05</td>\n",
       "      <td>2018</td>\n",
       "    </tr>\n",
       "  </tbody>\n",
       "</table>\n",
       "</div>"
      ],
      "text/plain": [
       "   明日是否下雨  相對溼度   能見度  月        觀測時間     年\n",
       "0       0   0.0  12.5  1  2018-01-01  2018\n",
       "1       0   0.0  40.0  1  2018-01-02  2018\n",
       "2       0   0.0  27.5  1  2018-01-03  2018\n",
       "3       1   0.0  10.3  1  2018-01-04  2018\n",
       "4       1   0.0   9.3  1  2018-01-05  2018"
      ]
     },
     "execution_count": 18,
     "metadata": {},
     "output_type": "execute_result"
    }
   ],
   "source": [
    "# We're using year 2018 to train model, and forecast year 2021 later\n",
    "file = preprocessing_before_training(file, use_col, int_col, float_col, str_col)\n",
    "df = file[file[\"年\"]!=2021]\n",
    "print(df.shape)\n",
    "df.head()"
   ]
  },
  {
   "cell_type": "code",
   "execution_count": 19,
   "metadata": {},
   "outputs": [
    {
     "data": {
      "text/html": [
       "<div>\n",
       "<style scoped>\n",
       "    .dataframe tbody tr th:only-of-type {\n",
       "        vertical-align: middle;\n",
       "    }\n",
       "\n",
       "    .dataframe tbody tr th {\n",
       "        vertical-align: top;\n",
       "    }\n",
       "\n",
       "    .dataframe thead th {\n",
       "        text-align: right;\n",
       "    }\n",
       "</style>\n",
       "<table border=\"1\" class=\"dataframe\">\n",
       "  <thead>\n",
       "    <tr style=\"text-align: right;\">\n",
       "      <th></th>\n",
       "      <th>明日是否下雨</th>\n",
       "      <th>相對溼度</th>\n",
       "      <th>能見度</th>\n",
       "      <th>月</th>\n",
       "      <th>觀測時間</th>\n",
       "      <th>年</th>\n",
       "    </tr>\n",
       "  </thead>\n",
       "  <tbody>\n",
       "    <tr>\n",
       "      <th>4</th>\n",
       "      <td>1</td>\n",
       "      <td>0.0</td>\n",
       "      <td>9.3</td>\n",
       "      <td>1</td>\n",
       "      <td>2018-01-05</td>\n",
       "      <td>2018</td>\n",
       "    </tr>\n",
       "  </tbody>\n",
       "</table>\n",
       "</div>"
      ],
      "text/plain": [
       "   明日是否下雨  相對溼度  能見度  月        觀測時間     年\n",
       "4       1   0.0  9.3  1  2018-01-05  2018"
      ]
     },
     "execution_count": 19,
     "metadata": {},
     "output_type": "execute_result"
    }
   ],
   "source": [
    "# 明天有下雨\n",
    "df.loc[df['觀測時間'] == \"2018-01-05\"]"
   ]
  },
  {
   "cell_type": "code",
   "execution_count": 20,
   "metadata": {},
   "outputs": [
    {
     "data": {
      "text/html": [
       "<div>\n",
       "<style scoped>\n",
       "    .dataframe tbody tr th:only-of-type {\n",
       "        vertical-align: middle;\n",
       "    }\n",
       "\n",
       "    .dataframe tbody tr th {\n",
       "        vertical-align: top;\n",
       "    }\n",
       "\n",
       "    .dataframe thead th {\n",
       "        text-align: right;\n",
       "    }\n",
       "</style>\n",
       "<table border=\"1\" class=\"dataframe\">\n",
       "  <thead>\n",
       "    <tr style=\"text-align: right;\">\n",
       "      <th></th>\n",
       "      <th>明日是否下雨</th>\n",
       "      <th>相對溼度</th>\n",
       "      <th>能見度</th>\n",
       "      <th>月</th>\n",
       "      <th>觀測時間</th>\n",
       "      <th>年</th>\n",
       "    </tr>\n",
       "  </thead>\n",
       "  <tbody>\n",
       "    <tr>\n",
       "      <th>44</th>\n",
       "      <td>0</td>\n",
       "      <td>0.0</td>\n",
       "      <td>24.8</td>\n",
       "      <td>2</td>\n",
       "      <td>2018-02-14</td>\n",
       "      <td>2018</td>\n",
       "    </tr>\n",
       "  </tbody>\n",
       "</table>\n",
       "</div>"
      ],
      "text/plain": [
       "    明日是否下雨  相對溼度   能見度  月        觀測時間     年\n",
       "44       0   0.0  24.8  2  2018-02-14  2018"
      ]
     },
     "execution_count": 20,
     "metadata": {},
     "output_type": "execute_result"
    }
   ],
   "source": [
    "# 明天不下雨\n",
    "df.loc[df['觀測時間'] == \"2018-02-14\"]"
   ]
  },
  {
   "cell_type": "code",
   "execution_count": 21,
   "metadata": {},
   "outputs": [],
   "source": [
    "from sklearn.utils import shuffle\n",
    "\n",
    "# 3. 資料不對襯 (delete data; add more data)\n",
    "def remove_too_much_data(df, boundary_number, check_col_name):\n",
    "    count = 0\n",
    "    work_time_dic = {}\n",
    "    check_list = list(df[check_col_name])\n",
    "    for i in set(check_list):\n",
    "        if i not in work_time_dic:\n",
    "            work_time_dic[i] = check_list.count(i)\n",
    "        else:\n",
    "            pass\n",
    "    df0 = pd.DataFrame([], columns=df.columns)\n",
    "    for i in work_time_dic:\n",
    "        count+=1\n",
    "        if work_time_dic[i] < boundary_number:\n",
    "            df_less = df[df[check_col_name] == i]\n",
    "            df0 = pd.concat([df0, df_less])\n",
    "        else:\n",
    "            df_too_much = df[df[check_col_name] == i]\n",
    "            df_too_much = shuffle(df_too_much).reset_index(drop=True)\n",
    "            remove_n = work_time_dic[i] - boundary_number\n",
    "            drop_indices = np.random.choice(df_too_much.index, remove_n, replace=False)\n",
    "            df_too_much = df_too_much.drop(drop_indices)\n",
    "            df0 = pd.concat([df0, df_too_much])\n",
    "    return df0"
   ]
  },
  {
   "cell_type": "code",
   "execution_count": 22,
   "metadata": {},
   "outputs": [
    {
     "name": "stdout",
     "output_type": "stream",
     "text": [
      "shape of df:  (1096, 6)\n",
      "多少2018資料顯示該資料明日不會下雨 (0):  727\n",
      "多少2018資料顯示該資料明日會下雨 (1):  369\n"
     ]
    }
   ],
   "source": [
    "print(\"shape of df: \", df.shape)\n",
    "print(\"多少2018資料顯示該資料明日不會下雨 (0): \", list(df[\"明日是否下雨\"]).count(0))\n",
    "print(\"多少2018資料顯示該資料明日會下雨 (1): \", list(df[\"明日是否下雨\"]).count(1))"
   ]
  },
  {
   "cell_type": "code",
   "execution_count": 23,
   "metadata": {},
   "outputs": [
    {
     "name": "stdout",
     "output_type": "stream",
     "text": [
      "shape of df:  (1096, 6)\n",
      "多少2018資料顯示該資料明日不會下雨 (0):  369\n",
      "多少2018資料顯示該資料明日會下雨 (1):  369\n"
     ]
    }
   ],
   "source": [
    "print(\"shape of df: \", df.shape)\n",
    "df = remove_too_much_data(df, min(list(df[\"明日是否下雨\"]).count(0), list(df[\"明日是否下雨\"]).count(1)), \"明日是否下雨\")\n",
    "print(\"多少2018資料顯示該資料明日不會下雨 (0): \", list(df[\"明日是否下雨\"]).count(0))\n",
    "print(\"多少2018資料顯示該資料明日會下雨 (1): \", list(df[\"明日是否下雨\"]).count(1))"
   ]
  },
  {
   "cell_type": "markdown",
   "metadata": {},
   "source": [
    "### preprocessing for training\n",
    "key concepts:\n",
    "1. dummy column (dummy)\n",
    "2. 資料前處理 (normalize; scale)\n",
    "3. 移除 column (drop)"
   ]
  },
  {
   "cell_type": "code",
   "execution_count": 24,
   "metadata": {},
   "outputs": [],
   "source": [
    "import sklearn\n",
    "from sklearn.model_selection import train_test_split\n",
    "from sklearn.model_selection import cross_validate\n",
    "from sklearn import ensemble, preprocessing, metrics\n",
    "\n",
    "def preprocessing_for_training(file, dummy_col, pre_col=[], pre_meth=\"\"):\n",
    "    # 1. dummy column (dummy)\n",
    "    column_need_dummy = dummy_col\n",
    "    if len(column_need_dummy) > 0:\n",
    "        for i in column_need_dummy:\n",
    "            file = pd.concat([file, pd.get_dummies(file[i], prefix=[i])], axis=1)\n",
    "    else:\n",
    "        pass\n",
    "    if len(column_need_dummy) > 0:\n",
    "        file = file.drop(column_need_dummy, axis=1)\n",
    "    else:\n",
    "        pass\n",
    "\n",
    "    # 2. 資料前處理 (normalize; scale)\n",
    "    preprocessing_column = pre_col\n",
    "    #X_train, X_test, y_train, y_test = train_test_split(file.drop([\"明日是否下雨\"], axis=1), file[\"明日是否下雨\"], test_size=0.3, random_state=101)\n",
    "    X_train, X_test, y_train, y_test = train_test_split(file.drop([\"明日是否下雨\"], axis=1), file[\"明日是否下雨\"], test_size=0.3, random_state=101)\n",
    "    if preprocessing_column != []:\n",
    "        if pre_meth == \"method1\":\n",
    "            mean_tra = list(np.mean(X_train[preprocessing_column], axis=0))\n",
    "            std_tra = list(np.std(X_train[preprocessing_column], axis=0)  )\n",
    "            X_train[preprocessing_column] = sklearn.preprocessing.scale(X_train[preprocessing_column])\n",
    "            X_test[preprocessing_column] = (X_test[preprocessing_column]-mean_tra)/std_tra\n",
    "            pre_info = [\"method1\", mean_tra, std_tra]\n",
    "        else:\n",
    "            pre_info = [\"no_pre\", 0, 0]\n",
    "    else:\n",
    "        pre_info = [\"no_pre\", 0, 0]\n",
    "    \n",
    "    return X_train, X_test, y_train, y_test, pre_info"
   ]
  },
  {
   "cell_type": "code",
   "execution_count": 25,
   "metadata": {},
   "outputs": [],
   "source": [
    "X_train, X_test, y_train0, y_test0, pre_info = preprocessing_for_training(df, dummy_col, pre_col, \"\")"
   ]
  },
  {
   "cell_type": "code",
   "execution_count": 26,
   "metadata": {},
   "outputs": [],
   "source": [
    "# 分2類: method1 手刻\n",
    "y_train = [] \n",
    "for i in y_train0:\n",
    "    y_train.append([int(1-i), i])\n",
    "y_train = np.array(y_train)\n",
    "y_test = [] \n",
    "for i in y_test0:\n",
    "    y_test.append([int(1-i), i])\n",
    "y_test = np.array(y_test)\n",
    "# 分2類: method2 keras\n",
    "# from keras.utils import np_utils\n",
    "# y_train = np_utils.to_categorical(y_train, num_classes = 2)\n",
    "# y_test = np_utils.to_categorical(y_test, num_classes = 2)"
   ]
  },
  {
   "cell_type": "markdown",
   "metadata": {},
   "source": [
    "### preprocessed 的結果"
   ]
  },
  {
   "cell_type": "code",
   "execution_count": 27,
   "metadata": {},
   "outputs": [
    {
     "name": "stdout",
     "output_type": "stream",
     "text": [
      "(516, 16)\n",
      "(222, 16)\n",
      "(516, 2)\n",
      "(222, 2)\n"
     ]
    }
   ],
   "source": [
    "# dimension of different data\n",
    "print(X_train.shape)\n",
    "print(X_test.shape)\n",
    "print(y_train.shape)\n",
    "print(y_test.shape)"
   ]
  },
  {
   "cell_type": "code",
   "execution_count": 28,
   "metadata": {},
   "outputs": [
    {
     "data": {
      "text/html": [
       "<div>\n",
       "<style scoped>\n",
       "    .dataframe tbody tr th:only-of-type {\n",
       "        vertical-align: middle;\n",
       "    }\n",
       "\n",
       "    .dataframe tbody tr th {\n",
       "        vertical-align: top;\n",
       "    }\n",
       "\n",
       "    .dataframe thead th {\n",
       "        text-align: right;\n",
       "    }\n",
       "</style>\n",
       "<table border=\"1\" class=\"dataframe\">\n",
       "  <thead>\n",
       "    <tr style=\"text-align: right;\">\n",
       "      <th></th>\n",
       "      <th>相對溼度</th>\n",
       "      <th>能見度</th>\n",
       "      <th>觀測時間</th>\n",
       "      <th>年</th>\n",
       "      <th>['月']_1</th>\n",
       "      <th>['月']_2</th>\n",
       "      <th>['月']_3</th>\n",
       "      <th>['月']_4</th>\n",
       "      <th>['月']_5</th>\n",
       "      <th>['月']_6</th>\n",
       "      <th>['月']_7</th>\n",
       "      <th>['月']_8</th>\n",
       "      <th>['月']_9</th>\n",
       "      <th>['月']_10</th>\n",
       "      <th>['月']_11</th>\n",
       "      <th>['月']_12</th>\n",
       "    </tr>\n",
       "  </thead>\n",
       "  <tbody>\n",
       "    <tr>\n",
       "      <th>280</th>\n",
       "      <td>0.0</td>\n",
       "      <td>17.8</td>\n",
       "      <td>2019-10-24</td>\n",
       "      <td>2019</td>\n",
       "      <td>0</td>\n",
       "      <td>0</td>\n",
       "      <td>0</td>\n",
       "      <td>0</td>\n",
       "      <td>0</td>\n",
       "      <td>0</td>\n",
       "      <td>0</td>\n",
       "      <td>0</td>\n",
       "      <td>0</td>\n",
       "      <td>1</td>\n",
       "      <td>0</td>\n",
       "      <td>0</td>\n",
       "    </tr>\n",
       "    <tr>\n",
       "      <th>719</th>\n",
       "      <td>0.0</td>\n",
       "      <td>35.0</td>\n",
       "      <td>2020-01-05</td>\n",
       "      <td>2020</td>\n",
       "      <td>1</td>\n",
       "      <td>0</td>\n",
       "      <td>0</td>\n",
       "      <td>0</td>\n",
       "      <td>0</td>\n",
       "      <td>0</td>\n",
       "      <td>0</td>\n",
       "      <td>0</td>\n",
       "      <td>0</td>\n",
       "      <td>0</td>\n",
       "      <td>0</td>\n",
       "      <td>0</td>\n",
       "    </tr>\n",
       "    <tr>\n",
       "      <th>663</th>\n",
       "      <td>0.0</td>\n",
       "      <td>24.3</td>\n",
       "      <td>2018-01-12</td>\n",
       "      <td>2018</td>\n",
       "      <td>1</td>\n",
       "      <td>0</td>\n",
       "      <td>0</td>\n",
       "      <td>0</td>\n",
       "      <td>0</td>\n",
       "      <td>0</td>\n",
       "      <td>0</td>\n",
       "      <td>0</td>\n",
       "      <td>0</td>\n",
       "      <td>0</td>\n",
       "      <td>0</td>\n",
       "      <td>0</td>\n",
       "    </tr>\n",
       "    <tr>\n",
       "      <th>19</th>\n",
       "      <td>0.0</td>\n",
       "      <td>27.0</td>\n",
       "      <td>2018-10-03</td>\n",
       "      <td>2018</td>\n",
       "      <td>0</td>\n",
       "      <td>0</td>\n",
       "      <td>0</td>\n",
       "      <td>0</td>\n",
       "      <td>0</td>\n",
       "      <td>0</td>\n",
       "      <td>0</td>\n",
       "      <td>0</td>\n",
       "      <td>0</td>\n",
       "      <td>1</td>\n",
       "      <td>0</td>\n",
       "      <td>0</td>\n",
       "    </tr>\n",
       "    <tr>\n",
       "      <th>254</th>\n",
       "      <td>0.0</td>\n",
       "      <td>23.8</td>\n",
       "      <td>2018-04-01</td>\n",
       "      <td>2018</td>\n",
       "      <td>0</td>\n",
       "      <td>0</td>\n",
       "      <td>0</td>\n",
       "      <td>1</td>\n",
       "      <td>0</td>\n",
       "      <td>0</td>\n",
       "      <td>0</td>\n",
       "      <td>0</td>\n",
       "      <td>0</td>\n",
       "      <td>0</td>\n",
       "      <td>0</td>\n",
       "      <td>0</td>\n",
       "    </tr>\n",
       "  </tbody>\n",
       "</table>\n",
       "</div>"
      ],
      "text/plain": [
       "     相對溼度   能見度        觀測時間     年  ['月']_1  ['月']_2  ['月']_3  ['月']_4  \\\n",
       "280   0.0  17.8  2019-10-24  2019        0        0        0        0   \n",
       "719   0.0  35.0  2020-01-05  2020        1        0        0        0   \n",
       "663   0.0  24.3  2018-01-12  2018        1        0        0        0   \n",
       "19    0.0  27.0  2018-10-03  2018        0        0        0        0   \n",
       "254   0.0  23.8  2018-04-01  2018        0        0        0        1   \n",
       "\n",
       "     ['月']_5  ['月']_6  ['月']_7  ['月']_8  ['月']_9  ['月']_10  ['月']_11  ['月']_12  \n",
       "280        0        0        0        0        0         1         0         0  \n",
       "719        0        0        0        0        0         0         0         0  \n",
       "663        0        0        0        0        0         0         0         0  \n",
       "19         0        0        0        0        0         1         0         0  \n",
       "254        0        0        0        0        0         0         0         0  "
      ]
     },
     "execution_count": 28,
     "metadata": {},
     "output_type": "execute_result"
    }
   ],
   "source": [
    "# data after processed\n",
    "X_test.head()"
   ]
  },
  {
   "cell_type": "code",
   "execution_count": 29,
   "metadata": {},
   "outputs": [
    {
     "data": {
      "text/html": [
       "<div>\n",
       "<style scoped>\n",
       "    .dataframe tbody tr th:only-of-type {\n",
       "        vertical-align: middle;\n",
       "    }\n",
       "\n",
       "    .dataframe tbody tr th {\n",
       "        vertical-align: top;\n",
       "    }\n",
       "\n",
       "    .dataframe thead th {\n",
       "        text-align: right;\n",
       "    }\n",
       "</style>\n",
       "<table border=\"1\" class=\"dataframe\">\n",
       "  <thead>\n",
       "    <tr style=\"text-align: right;\">\n",
       "      <th></th>\n",
       "      <th>相對溼度</th>\n",
       "      <th>能見度</th>\n",
       "      <th>觀測時間</th>\n",
       "      <th>年</th>\n",
       "      <th>['月']_1</th>\n",
       "      <th>['月']_2</th>\n",
       "      <th>['月']_3</th>\n",
       "      <th>['月']_4</th>\n",
       "      <th>['月']_5</th>\n",
       "      <th>['月']_6</th>\n",
       "      <th>['月']_7</th>\n",
       "      <th>['月']_8</th>\n",
       "      <th>['月']_9</th>\n",
       "      <th>['月']_10</th>\n",
       "      <th>['月']_11</th>\n",
       "      <th>['月']_12</th>\n",
       "    </tr>\n",
       "  </thead>\n",
       "  <tbody>\n",
       "  </tbody>\n",
       "</table>\n",
       "</div>"
      ],
      "text/plain": [
       "Empty DataFrame\n",
       "Columns: [相對溼度, 能見度, 觀測時間, 年, ['月']_1, ['月']_2, ['月']_3, ['月']_4, ['月']_5, ['月']_6, ['月']_7, ['月']_8, ['月']_9, ['月']_10, ['月']_11, ['月']_12]\n",
       "Index: []"
      ]
     },
     "execution_count": 29,
     "metadata": {},
     "output_type": "execute_result"
    }
   ],
   "source": [
    "#X_test.loc[(X_test['觀測時間'] == \"2018-08-05\") & (df['相對溼度'] == 65.0) & (df['月']==8)]\n",
    "# 明天會下雨\n",
    "X_train.loc[(X_train['觀測時間'] == \"2018-10-03\")]"
   ]
  },
  {
   "cell_type": "code",
   "execution_count": 30,
   "metadata": {},
   "outputs": [
    {
     "data": {
      "text/html": [
       "<div>\n",
       "<style scoped>\n",
       "    .dataframe tbody tr th:only-of-type {\n",
       "        vertical-align: middle;\n",
       "    }\n",
       "\n",
       "    .dataframe tbody tr th {\n",
       "        vertical-align: top;\n",
       "    }\n",
       "\n",
       "    .dataframe thead th {\n",
       "        text-align: right;\n",
       "    }\n",
       "</style>\n",
       "<table border=\"1\" class=\"dataframe\">\n",
       "  <thead>\n",
       "    <tr style=\"text-align: right;\">\n",
       "      <th></th>\n",
       "      <th>相對溼度</th>\n",
       "      <th>能見度</th>\n",
       "      <th>觀測時間</th>\n",
       "      <th>年</th>\n",
       "      <th>['月']_1</th>\n",
       "      <th>['月']_2</th>\n",
       "      <th>['月']_3</th>\n",
       "      <th>['月']_4</th>\n",
       "      <th>['月']_5</th>\n",
       "      <th>['月']_6</th>\n",
       "      <th>['月']_7</th>\n",
       "      <th>['月']_8</th>\n",
       "      <th>['月']_9</th>\n",
       "      <th>['月']_10</th>\n",
       "      <th>['月']_11</th>\n",
       "      <th>['月']_12</th>\n",
       "    </tr>\n",
       "  </thead>\n",
       "  <tbody>\n",
       "  </tbody>\n",
       "</table>\n",
       "</div>"
      ],
      "text/plain": [
       "Empty DataFrame\n",
       "Columns: [相對溼度, 能見度, 觀測時間, 年, ['月']_1, ['月']_2, ['月']_3, ['月']_4, ['月']_5, ['月']_6, ['月']_7, ['月']_8, ['月']_9, ['月']_10, ['月']_11, ['月']_12]\n",
       "Index: []"
      ]
     },
     "execution_count": 30,
     "metadata": {},
     "output_type": "execute_result"
    }
   ],
   "source": [
    "# 明天不會下雨\n",
    "X_train.loc[(X_train['觀測時間'] == \"2018-09-18\")]"
   ]
  },
  {
   "cell_type": "code",
   "execution_count": 31,
   "metadata": {},
   "outputs": [
    {
     "data": {
      "text/plain": [
       "array([[1, 0],\n",
       "       [1, 0],\n",
       "       [1, 0],\n",
       "       [0, 1],\n",
       "       [1, 0]])"
      ]
     },
     "execution_count": 31,
     "metadata": {},
     "output_type": "execute_result"
    }
   ],
   "source": [
    "# 1,0 明天會下雨; 0,1 明天不下雨\n",
    "y_test[:5]"
   ]
  },
  {
   "cell_type": "markdown",
   "metadata": {},
   "source": [
    "<a id=\"DecisionTree\"></a>\n",
    "## Decision Tree"
   ]
  },
  {
   "cell_type": "code",
   "execution_count": 32,
   "metadata": {},
   "outputs": [],
   "source": [
    "from sklearn.model_selection import cross_validate\n",
    "from sklearn.tree import DecisionTreeClassifier\n",
    "from sklearn import ensemble, preprocessing, metrics"
   ]
  },
  {
   "cell_type": "markdown",
   "metadata": {},
   "source": [
    "Hint: choose which column need to be droped wisely"
   ]
  },
  {
   "cell_type": "code",
   "execution_count": 33,
   "metadata": {},
   "outputs": [],
   "source": [
    "tree = DecisionTreeClassifier(max_depth=4, random_state=0)"
   ]
  },
  {
   "cell_type": "code",
   "execution_count": 34,
   "metadata": {},
   "outputs": [],
   "source": [
    "# 3. 移除 column (drop)\n",
    "column_will_be_droped = list(set(drop_col))\n",
    "if len(column_will_be_droped) > 0:\n",
    "    tree.fit(X_train.drop(column_will_be_droped, axis=1), y_train)\n",
    "else:\n",
    "    tree.fit(X_train, y_train)"
   ]
  },
  {
   "cell_type": "code",
   "execution_count": 35,
   "metadata": {},
   "outputs": [
    {
     "name": "stdout",
     "output_type": "stream",
     "text": [
      "model: \n",
      "DecisionTreeClassifier(class_weight=None, criterion='gini', max_depth=4,\n",
      "                       max_features=None, max_leaf_nodes=None,\n",
      "                       min_impurity_decrease=0.0, min_impurity_split=None,\n",
      "                       min_samples_leaf=1, min_samples_split=2,\n",
      "                       min_weight_fraction_leaf=0.0, presort=False,\n",
      "                       random_state=0, splitter='best')\n",
      "feature: \n",
      "[0.         0.57074506 0.03799105 0.02965882 0.         0.\n",
      " 0.         0.         0.         0.19430138 0.14006599 0.\n",
      " 0.0272377  0.        ]\n"
     ]
    }
   ],
   "source": [
    "print(\"model: \")\n",
    "print(tree)\n",
    "print(\"feature: \")\n",
    "print(tree.feature_importances_)"
   ]
  },
  {
   "cell_type": "code",
   "execution_count": 36,
   "metadata": {},
   "outputs": [
    {
     "data": {
      "text/html": [
       "<div>\n",
       "<style scoped>\n",
       "    .dataframe tbody tr th:only-of-type {\n",
       "        vertical-align: middle;\n",
       "    }\n",
       "\n",
       "    .dataframe tbody tr th {\n",
       "        vertical-align: top;\n",
       "    }\n",
       "\n",
       "    .dataframe thead th {\n",
       "        text-align: right;\n",
       "    }\n",
       "</style>\n",
       "<table border=\"1\" class=\"dataframe\">\n",
       "  <thead>\n",
       "    <tr style=\"text-align: right;\">\n",
       "      <th></th>\n",
       "      <th>相對溼度</th>\n",
       "      <th>能見度</th>\n",
       "      <th>觀測時間</th>\n",
       "      <th>年</th>\n",
       "      <th>['月']_1</th>\n",
       "      <th>['月']_2</th>\n",
       "      <th>['月']_3</th>\n",
       "      <th>['月']_4</th>\n",
       "      <th>['月']_5</th>\n",
       "      <th>['月']_6</th>\n",
       "      <th>['月']_7</th>\n",
       "      <th>['月']_8</th>\n",
       "      <th>['月']_9</th>\n",
       "      <th>['月']_10</th>\n",
       "      <th>['月']_11</th>\n",
       "      <th>['月']_12</th>\n",
       "    </tr>\n",
       "  </thead>\n",
       "  <tbody>\n",
       "    <tr>\n",
       "      <th>280</th>\n",
       "      <td>0.0</td>\n",
       "      <td>17.8</td>\n",
       "      <td>2019-10-24</td>\n",
       "      <td>2019</td>\n",
       "      <td>0</td>\n",
       "      <td>0</td>\n",
       "      <td>0</td>\n",
       "      <td>0</td>\n",
       "      <td>0</td>\n",
       "      <td>0</td>\n",
       "      <td>0</td>\n",
       "      <td>0</td>\n",
       "      <td>0</td>\n",
       "      <td>1</td>\n",
       "      <td>0</td>\n",
       "      <td>0</td>\n",
       "    </tr>\n",
       "    <tr>\n",
       "      <th>719</th>\n",
       "      <td>0.0</td>\n",
       "      <td>35.0</td>\n",
       "      <td>2020-01-05</td>\n",
       "      <td>2020</td>\n",
       "      <td>1</td>\n",
       "      <td>0</td>\n",
       "      <td>0</td>\n",
       "      <td>0</td>\n",
       "      <td>0</td>\n",
       "      <td>0</td>\n",
       "      <td>0</td>\n",
       "      <td>0</td>\n",
       "      <td>0</td>\n",
       "      <td>0</td>\n",
       "      <td>0</td>\n",
       "      <td>0</td>\n",
       "    </tr>\n",
       "    <tr>\n",
       "      <th>663</th>\n",
       "      <td>0.0</td>\n",
       "      <td>24.3</td>\n",
       "      <td>2018-01-12</td>\n",
       "      <td>2018</td>\n",
       "      <td>1</td>\n",
       "      <td>0</td>\n",
       "      <td>0</td>\n",
       "      <td>0</td>\n",
       "      <td>0</td>\n",
       "      <td>0</td>\n",
       "      <td>0</td>\n",
       "      <td>0</td>\n",
       "      <td>0</td>\n",
       "      <td>0</td>\n",
       "      <td>0</td>\n",
       "      <td>0</td>\n",
       "    </tr>\n",
       "    <tr>\n",
       "      <th>19</th>\n",
       "      <td>0.0</td>\n",
       "      <td>27.0</td>\n",
       "      <td>2018-10-03</td>\n",
       "      <td>2018</td>\n",
       "      <td>0</td>\n",
       "      <td>0</td>\n",
       "      <td>0</td>\n",
       "      <td>0</td>\n",
       "      <td>0</td>\n",
       "      <td>0</td>\n",
       "      <td>0</td>\n",
       "      <td>0</td>\n",
       "      <td>0</td>\n",
       "      <td>1</td>\n",
       "      <td>0</td>\n",
       "      <td>0</td>\n",
       "    </tr>\n",
       "    <tr>\n",
       "      <th>254</th>\n",
       "      <td>0.0</td>\n",
       "      <td>23.8</td>\n",
       "      <td>2018-04-01</td>\n",
       "      <td>2018</td>\n",
       "      <td>0</td>\n",
       "      <td>0</td>\n",
       "      <td>0</td>\n",
       "      <td>1</td>\n",
       "      <td>0</td>\n",
       "      <td>0</td>\n",
       "      <td>0</td>\n",
       "      <td>0</td>\n",
       "      <td>0</td>\n",
       "      <td>0</td>\n",
       "      <td>0</td>\n",
       "      <td>0</td>\n",
       "    </tr>\n",
       "  </tbody>\n",
       "</table>\n",
       "</div>"
      ],
      "text/plain": [
       "     相對溼度   能見度        觀測時間     年  ['月']_1  ['月']_2  ['月']_3  ['月']_4  \\\n",
       "280   0.0  17.8  2019-10-24  2019        0        0        0        0   \n",
       "719   0.0  35.0  2020-01-05  2020        1        0        0        0   \n",
       "663   0.0  24.3  2018-01-12  2018        1        0        0        0   \n",
       "19    0.0  27.0  2018-10-03  2018        0        0        0        0   \n",
       "254   0.0  23.8  2018-04-01  2018        0        0        0        1   \n",
       "\n",
       "     ['月']_5  ['月']_6  ['月']_7  ['月']_8  ['月']_9  ['月']_10  ['月']_11  ['月']_12  \n",
       "280        0        0        0        0        0         1         0         0  \n",
       "719        0        0        0        0        0         0         0         0  \n",
       "663        0        0        0        0        0         0         0         0  \n",
       "19         0        0        0        0        0         1         0         0  \n",
       "254        0        0        0        0        0         0         0         0  "
      ]
     },
     "execution_count": 36,
     "metadata": {},
     "output_type": "execute_result"
    }
   ],
   "source": [
    "X_test[:5]"
   ]
  },
  {
   "cell_type": "code",
   "execution_count": 37,
   "metadata": {},
   "outputs": [
    {
     "data": {
      "text/html": [
       "<div>\n",
       "<style scoped>\n",
       "    .dataframe tbody tr th:only-of-type {\n",
       "        vertical-align: middle;\n",
       "    }\n",
       "\n",
       "    .dataframe tbody tr th {\n",
       "        vertical-align: top;\n",
       "    }\n",
       "\n",
       "    .dataframe thead th {\n",
       "        text-align: right;\n",
       "    }\n",
       "</style>\n",
       "<table border=\"1\" class=\"dataframe\">\n",
       "  <thead>\n",
       "    <tr style=\"text-align: right;\">\n",
       "      <th></th>\n",
       "      <th>相對溼度</th>\n",
       "      <th>能見度</th>\n",
       "      <th>['月']_1</th>\n",
       "      <th>['月']_2</th>\n",
       "      <th>['月']_3</th>\n",
       "      <th>['月']_4</th>\n",
       "      <th>['月']_5</th>\n",
       "      <th>['月']_6</th>\n",
       "      <th>['月']_7</th>\n",
       "      <th>['月']_8</th>\n",
       "      <th>['月']_9</th>\n",
       "      <th>['月']_10</th>\n",
       "      <th>['月']_11</th>\n",
       "      <th>['月']_12</th>\n",
       "    </tr>\n",
       "  </thead>\n",
       "  <tbody>\n",
       "    <tr>\n",
       "      <th>280</th>\n",
       "      <td>0.0</td>\n",
       "      <td>17.8</td>\n",
       "      <td>0</td>\n",
       "      <td>0</td>\n",
       "      <td>0</td>\n",
       "      <td>0</td>\n",
       "      <td>0</td>\n",
       "      <td>0</td>\n",
       "      <td>0</td>\n",
       "      <td>0</td>\n",
       "      <td>0</td>\n",
       "      <td>1</td>\n",
       "      <td>0</td>\n",
       "      <td>0</td>\n",
       "    </tr>\n",
       "    <tr>\n",
       "      <th>719</th>\n",
       "      <td>0.0</td>\n",
       "      <td>35.0</td>\n",
       "      <td>1</td>\n",
       "      <td>0</td>\n",
       "      <td>0</td>\n",
       "      <td>0</td>\n",
       "      <td>0</td>\n",
       "      <td>0</td>\n",
       "      <td>0</td>\n",
       "      <td>0</td>\n",
       "      <td>0</td>\n",
       "      <td>0</td>\n",
       "      <td>0</td>\n",
       "      <td>0</td>\n",
       "    </tr>\n",
       "    <tr>\n",
       "      <th>663</th>\n",
       "      <td>0.0</td>\n",
       "      <td>24.3</td>\n",
       "      <td>1</td>\n",
       "      <td>0</td>\n",
       "      <td>0</td>\n",
       "      <td>0</td>\n",
       "      <td>0</td>\n",
       "      <td>0</td>\n",
       "      <td>0</td>\n",
       "      <td>0</td>\n",
       "      <td>0</td>\n",
       "      <td>0</td>\n",
       "      <td>0</td>\n",
       "      <td>0</td>\n",
       "    </tr>\n",
       "    <tr>\n",
       "      <th>19</th>\n",
       "      <td>0.0</td>\n",
       "      <td>27.0</td>\n",
       "      <td>0</td>\n",
       "      <td>0</td>\n",
       "      <td>0</td>\n",
       "      <td>0</td>\n",
       "      <td>0</td>\n",
       "      <td>0</td>\n",
       "      <td>0</td>\n",
       "      <td>0</td>\n",
       "      <td>0</td>\n",
       "      <td>1</td>\n",
       "      <td>0</td>\n",
       "      <td>0</td>\n",
       "    </tr>\n",
       "    <tr>\n",
       "      <th>254</th>\n",
       "      <td>0.0</td>\n",
       "      <td>23.8</td>\n",
       "      <td>0</td>\n",
       "      <td>0</td>\n",
       "      <td>0</td>\n",
       "      <td>1</td>\n",
       "      <td>0</td>\n",
       "      <td>0</td>\n",
       "      <td>0</td>\n",
       "      <td>0</td>\n",
       "      <td>0</td>\n",
       "      <td>0</td>\n",
       "      <td>0</td>\n",
       "      <td>0</td>\n",
       "    </tr>\n",
       "  </tbody>\n",
       "</table>\n",
       "</div>"
      ],
      "text/plain": [
       "     相對溼度   能見度  ['月']_1  ['月']_2  ['月']_3  ['月']_4  ['月']_5  ['月']_6  \\\n",
       "280   0.0  17.8        0        0        0        0        0        0   \n",
       "719   0.0  35.0        1        0        0        0        0        0   \n",
       "663   0.0  24.3        1        0        0        0        0        0   \n",
       "19    0.0  27.0        0        0        0        0        0        0   \n",
       "254   0.0  23.8        0        0        0        1        0        0   \n",
       "\n",
       "     ['月']_7  ['月']_8  ['月']_9  ['月']_10  ['月']_11  ['月']_12  \n",
       "280        0        0        0         1         0         0  \n",
       "719        0        0        0         0         0         0  \n",
       "663        0        0        0         0         0         0  \n",
       "19         0        0        0         1         0         0  \n",
       "254        0        0        0         0         0         0  "
      ]
     },
     "execution_count": 37,
     "metadata": {},
     "output_type": "execute_result"
    }
   ],
   "source": [
    "X_test.drop(column_will_be_droped, axis=1)[:5]"
   ]
  },
  {
   "cell_type": "code",
   "execution_count": 38,
   "metadata": {},
   "outputs": [
    {
     "name": "stdout",
     "output_type": "stream",
     "text": [
      "accuracy for Decision Tree classification 0.6036036036036037\n"
     ]
    }
   ],
   "source": [
    "if len(column_will_be_droped) > 0:\n",
    "    accuracy = metrics.accuracy_score(y_test, tree.predict(X_test.drop(column_will_be_droped, axis=1)))\n",
    "else:\n",
    "    accuracy = metrics.accuracy_score(y_test, tree.predict(X_test))\n",
    "print(\"accuracy for Decision Tree classification\", accuracy)"
   ]
  },
  {
   "cell_type": "markdown",
   "metadata": {},
   "source": [
    "### Save Decision Tree model"
   ]
  },
  {
   "cell_type": "code",
   "execution_count": 39,
   "metadata": {},
   "outputs": [],
   "source": [
    "import pickle\n",
    "with open('model/Sklearn/DecisionTree/model_weather_decision_tree.pkl', 'wb') as handle:\n",
    "    pickle.dump(tree, handle, protocol=pickle.HIGHEST_PROTOCOL)"
   ]
  },
  {
   "cell_type": "markdown",
   "metadata": {},
   "source": [
    "### Load Decision Tree model"
   ]
  },
  {
   "cell_type": "code",
   "execution_count": 40,
   "metadata": {},
   "outputs": [],
   "source": [
    "import pickle\n",
    "with open('model/Sklearn/DecisionTree/model_weather_decision_tree.pkl', 'rb') as handle:\n",
    "    tree_model = pickle.load(handle)"
   ]
  },
  {
   "cell_type": "code",
   "execution_count": 41,
   "metadata": {},
   "outputs": [
    {
     "data": {
      "text/plain": [
       "array([[0, 1]])"
      ]
     },
     "execution_count": 41,
     "metadata": {},
     "output_type": "execute_result"
    }
   ],
   "source": [
    "test_subject = [[89.0 ,9.3,1,0,0,0,0,0,0,0,0,0,0,0]] # 2018年01月05 # 明天下雨\n",
    "# test_subject = [[64.0,24.8,0,1,0,0,0,0,0,0,0,0,0,0]] # 2018年02月14 # 明天不下雨\n",
    "\n",
    "tree_model.predict(test_subject)"
   ]
  },
  {
   "cell_type": "code",
   "execution_count": 42,
   "metadata": {},
   "outputs": [],
   "source": [
    "class_label = {\n",
    "    0:'明天不下雨',\n",
    "    1:'明天下雨'\n",
    "}\n",
    "\n",
    "def predict_tree(tree_model, test_subject, class_label):\n",
    "    test_data = np.array(test_subject).astype(np.float)\n",
    "    predict_result = tree_model.predict(test_data)\n",
    "    top1 = predict_result.argsort()[-2:][::-1]\n",
    "    ps = []\n",
    "    for i in class_label:\n",
    "        ps.append({class_label[i]:predict_result[0][i]})\n",
    "    #print(ps)\n",
    "    return predict_result.argmax(), class_label[predict_result.argmax()], ps\n",
    "res = predict_tree(tree_model, test_subject, class_label)"
   ]
  },
  {
   "cell_type": "code",
   "execution_count": 43,
   "metadata": {},
   "outputs": [
    {
     "data": {
      "text/plain": [
       "(1, '明天下雨', [{'明天不下雨': 0}, {'明天下雨': 1}])"
      ]
     },
     "execution_count": 43,
     "metadata": {},
     "output_type": "execute_result"
    }
   ],
   "source": [
    "res"
   ]
  },
  {
   "cell_type": "markdown",
   "metadata": {},
   "source": [
    "<a id=\"RandomForest\"></a>\n",
    "## Random Forest"
   ]
  },
  {
   "cell_type": "code",
   "execution_count": 44,
   "metadata": {},
   "outputs": [],
   "source": [
    "from sklearn.ensemble import RandomForestClassifier\n",
    "from sklearn.model_selection import cross_validate\n",
    "from sklearn import ensemble, preprocessing, metrics"
   ]
  },
  {
   "cell_type": "code",
   "execution_count": 45,
   "metadata": {},
   "outputs": [],
   "source": [
    "forest = RandomForestClassifier(n_estimators=5, max_depth=4, random_state=0)"
   ]
  },
  {
   "cell_type": "code",
   "execution_count": 46,
   "metadata": {},
   "outputs": [],
   "source": [
    "# 3. 移除 column (drop)\n",
    "column_will_be_droped = list(set(drop_col))\n",
    "if len(column_will_be_droped) > 0:\n",
    "    model_random_forest = forest.fit(X_train.drop(column_will_be_droped, axis=1), y_train)\n",
    "else:\n",
    "    model_random_forest = forest.fit(X_train, y_train)"
   ]
  },
  {
   "cell_type": "code",
   "execution_count": 47,
   "metadata": {},
   "outputs": [
    {
     "name": "stdout",
     "output_type": "stream",
     "text": [
      "model: \n",
      "RandomForestClassifier(bootstrap=True, class_weight=None, criterion='gini',\n",
      "                       max_depth=4, max_features='auto', max_leaf_nodes=None,\n",
      "                       min_impurity_decrease=0.0, min_impurity_split=None,\n",
      "                       min_samples_leaf=1, min_samples_split=2,\n",
      "                       min_weight_fraction_leaf=0.0, n_estimators=5,\n",
      "                       n_jobs=None, oob_score=False, random_state=0, verbose=0,\n",
      "                       warm_start=False)\n",
      "feature: \n",
      "[0.         0.726518   0.02828109 0.00708054 0.03572401 0.00611186\n",
      " 0.         0.00243105 0.01889978 0.07554415 0.08102747 0.00680689\n",
      " 0.00516023 0.00641494]\n"
     ]
    }
   ],
   "source": [
    "print(\"model: \")\n",
    "print(forest)\n",
    "print(\"feature: \")\n",
    "print(forest.feature_importances_)"
   ]
  },
  {
   "cell_type": "code",
   "execution_count": 48,
   "metadata": {},
   "outputs": [
    {
     "name": "stdout",
     "output_type": "stream",
     "text": [
      "accuracy for Random Forest classification 0.5720720720720721\n"
     ]
    }
   ],
   "source": [
    "if len(column_will_be_droped) > 0:\n",
    "    accuracy = metrics.accuracy_score(y_test, forest.predict(X_test.drop(column_will_be_droped, axis=1)))\n",
    "else:\n",
    "    accuracy = metrics.accuracy_score(y_test, forest.predict(X_test))\n",
    "print(\"accuracy for Random Forest classification\", accuracy)"
   ]
  },
  {
   "cell_type": "markdown",
   "metadata": {},
   "source": [
    "### Save Random Forest model"
   ]
  },
  {
   "cell_type": "code",
   "execution_count": 49,
   "metadata": {},
   "outputs": [],
   "source": [
    "import pickle\n",
    "with open('model/Sklearn/RandomForest/model_weather_random_forest.pkl', 'wb') as handle:\n",
    "    pickle.dump(forest, handle, protocol=pickle.HIGHEST_PROTOCOL)"
   ]
  },
  {
   "cell_type": "markdown",
   "metadata": {},
   "source": [
    "### Load Random Forest model"
   ]
  },
  {
   "cell_type": "code",
   "execution_count": 50,
   "metadata": {},
   "outputs": [],
   "source": [
    "import pickle\n",
    "with open('model/Sklearn/RandomForest/model_weather_random_forest.pkl', 'rb') as handle:\n",
    "    forest_model = pickle.load(handle)"
   ]
  },
  {
   "cell_type": "code",
   "execution_count": 51,
   "metadata": {},
   "outputs": [
    {
     "data": {
      "text/plain": [
       "array([[1, 0]])"
      ]
     },
     "execution_count": 51,
     "metadata": {},
     "output_type": "execute_result"
    }
   ],
   "source": [
    "test_subject = [[89.0 ,9.3,1,0,0,0,0,0,0,0,0,0,0,0]] # 2018年01月05 # 明天下雨\n",
    "test_subject = [[64.0,24.8,0,1,0,0,0,0,0,0,0,0,0,0]] # 2018年02月14 # 明天不下雨\n",
    "forest_model.predict(test_subject)"
   ]
  },
  {
   "cell_type": "code",
   "execution_count": 52,
   "metadata": {},
   "outputs": [],
   "source": [
    "class_label = {\n",
    "    0:'明天不下雨',\n",
    "    1:'明天下雨'\n",
    "}\n",
    "\n",
    "def predict_forest(forest_model, test_subject, class_label):\n",
    "    test_data = np.array(test_subject).astype(np.float)\n",
    "    predict_result = forest_model.predict(test_data)\n",
    "    top1 = predict_result.argsort()[-2:][::-1]\n",
    "    ps = []\n",
    "    for i in class_label:\n",
    "        ps.append({class_label[i]:predict_result[0][i]})\n",
    "    #print(ps)\n",
    "    return predict_result.argmax(), class_label[predict_result.argmax()], ps\n",
    "res = predict_forest(tree_model, test_subject, class_label)"
   ]
  },
  {
   "cell_type": "code",
   "execution_count": 53,
   "metadata": {},
   "outputs": [
    {
     "data": {
      "text/plain": [
       "(0, '明天不下雨', [{'明天不下雨': 1}, {'明天下雨': 0}])"
      ]
     },
     "execution_count": 53,
     "metadata": {},
     "output_type": "execute_result"
    }
   ],
   "source": [
    "res"
   ]
  },
  {
   "cell_type": "markdown",
   "metadata": {},
   "source": [
    "<a id=\"SGD\"></a>\n",
    "## Stochastic gradient descent, SGD (梯度下降法)"
   ]
  },
  {
   "cell_type": "code",
   "execution_count": 54,
   "metadata": {},
   "outputs": [],
   "source": [
    "from sklearn.linear_model import SGDClassifier\n",
    "from sklearn.model_selection import cross_validate\n",
    "from sklearn import ensemble, preprocessing, metrics"
   ]
  },
  {
   "cell_type": "code",
   "execution_count": 55,
   "metadata": {},
   "outputs": [],
   "source": [
    "# loss=\"hinge\"\n",
    "# loss=\"log\"\n",
    "SGD = SGDClassifier(loss=\"hinge\", penalty=\"l2\", max_iter=10)"
   ]
  },
  {
   "cell_type": "code",
   "execution_count": 56,
   "metadata": {},
   "outputs": [],
   "source": [
    "# 3. 移除 column (drop)\n",
    "column_will_be_droped = list(set(drop_col))\n",
    "if len(column_will_be_droped) > 0:\n",
    "    model_sgd = SGD.fit(X_train.drop(column_will_be_droped, axis=1), list(y_train[:,1]))\n",
    "else:\n",
    "    model_sgd = SGD.fit(X_train, list(y_train))"
   ]
  },
  {
   "cell_type": "code",
   "execution_count": 57,
   "metadata": {},
   "outputs": [
    {
     "name": "stdout",
     "output_type": "stream",
     "text": [
      "model: \n",
      "SGDClassifier(alpha=0.0001, average=False, class_weight=None,\n",
      "              early_stopping=False, epsilon=0.1, eta0=0.0, fit_intercept=True,\n",
      "              l1_ratio=0.15, learning_rate='optimal', loss='hinge', max_iter=10,\n",
      "              n_iter_no_change=5, n_jobs=None, penalty='l2', power_t=0.5,\n",
      "              random_state=None, shuffle=True, tol=0.001,\n",
      "              validation_fraction=0.1, verbose=0, warm_start=False)\n",
      "coef: \n",
      "[[  0.         -57.63922715 -55.20376685 -30.84916383   3.2472804\n",
      "   -1.6236402   -8.11820101  12.98912161  30.84916383 118.5257347\n",
      "   94.17113168   1.6236402  -77.93472966 -11.36548141]]\n"
     ]
    }
   ],
   "source": [
    "print(\"model: \")\n",
    "print(SGD)\n",
    "print(\"coef: \")\n",
    "print(SGD.coef_ )"
   ]
  },
  {
   "cell_type": "code",
   "execution_count": 58,
   "metadata": {},
   "outputs": [
    {
     "name": "stdout",
     "output_type": "stream",
     "text": [
      "accuracy for SGD classification 0.5\n"
     ]
    }
   ],
   "source": [
    "if len(column_will_be_droped) > 0:\n",
    "    accuracy = list(SGD.predict(X_test.drop(column_will_be_droped, axis=1)) - list(y_test[:,1])).count(0)/len(list(y_test[:,1]))\n",
    "else:\n",
    "    accuracy = list(SGD.predict(X_test) - list(y_test[:,1])).count(0)/len(list(y_test[:,1]))\n",
    "print(\"accuracy for SGD classification\", accuracy)"
   ]
  },
  {
   "cell_type": "markdown",
   "metadata": {},
   "source": [
    "### Save SGD model"
   ]
  },
  {
   "cell_type": "code",
   "execution_count": 59,
   "metadata": {},
   "outputs": [],
   "source": [
    "import pickle\n",
    "with open('model/Sklearn/SGD/model_weather_sgd.pkl', 'wb') as handle:\n",
    "    pickle.dump(model_sgd, handle, protocol=pickle.HIGHEST_PROTOCOL)"
   ]
  },
  {
   "cell_type": "markdown",
   "metadata": {},
   "source": [
    "### Load SGD model"
   ]
  },
  {
   "cell_type": "code",
   "execution_count": 60,
   "metadata": {},
   "outputs": [],
   "source": [
    "import pickle\n",
    "with open('model/Sklearn/SGD/model_weather_sgd.pkl', 'rb') as handle:\n",
    "    model_sgd = pickle.load(handle)"
   ]
  },
  {
   "cell_type": "code",
   "execution_count": 61,
   "metadata": {},
   "outputs": [
    {
     "data": {
      "text/plain": [
       "array([0])"
      ]
     },
     "execution_count": 61,
     "metadata": {},
     "output_type": "execute_result"
    }
   ],
   "source": [
    "test_subject = [[89.0 ,9.3,1,0,0,0,0,0,0,0,0,0,0,0]] # 2018年01月05 # 明天下雨\n",
    "# test_subject = [[64.0,24.8,0,1,0,0,0,0,0,0,0,0,0,0]] # 2018年02月14 # 明天不下雨\n",
    "model_sgd.predict(test_subject)"
   ]
  },
  {
   "cell_type": "code",
   "execution_count": 62,
   "metadata": {},
   "outputs": [],
   "source": [
    "class_label = {\n",
    "    0:'明天不下雨',\n",
    "    1:'明天下雨'\n",
    "}\n",
    "\n",
    "def predict_sgd(sgd_model, test_subject, class_label):\n",
    "    test_data = np.array(test_subject).astype(np.float)\n",
    "    predict_result = sgd_model.predict(test_data)\n",
    "    top1 = predict_result.argsort()[-2:][::-1]\n",
    "    ps = []\n",
    "    for i in class_label:\n",
    "        ps.append({class_label[i]:predict_result[0][i]})\n",
    "    return predict_result.argmax(), class_label[predict_result.argmax()], ps\n",
    "res = predict_sgd(tree_model, test_subject, class_label)"
   ]
  },
  {
   "cell_type": "code",
   "execution_count": 63,
   "metadata": {},
   "outputs": [
    {
     "data": {
      "text/plain": [
       "(1, '明天下雨', [{'明天不下雨': 0}, {'明天下雨': 1}])"
      ]
     },
     "execution_count": 63,
     "metadata": {},
     "output_type": "execute_result"
    }
   ],
   "source": [
    "res"
   ]
  },
  {
   "cell_type": "markdown",
   "metadata": {},
   "source": [
    "### Verification results"
   ]
  },
  {
   "cell_type": "code",
   "execution_count": 64,
   "metadata": {},
   "outputs": [],
   "source": [
    "model = tree"
   ]
  },
  {
   "cell_type": "code",
   "execution_count": 65,
   "metadata": {},
   "outputs": [
    {
     "data": {
      "text/html": [
       "<div>\n",
       "<style scoped>\n",
       "    .dataframe tbody tr th:only-of-type {\n",
       "        vertical-align: middle;\n",
       "    }\n",
       "\n",
       "    .dataframe tbody tr th {\n",
       "        vertical-align: top;\n",
       "    }\n",
       "\n",
       "    .dataframe thead th {\n",
       "        text-align: right;\n",
       "    }\n",
       "</style>\n",
       "<table border=\"1\" class=\"dataframe\">\n",
       "  <thead>\n",
       "    <tr style=\"text-align: right;\">\n",
       "      <th></th>\n",
       "      <th>明日是否下雨</th>\n",
       "      <th>相對溼度</th>\n",
       "      <th>能見度</th>\n",
       "      <th>月</th>\n",
       "      <th>觀測時間</th>\n",
       "      <th>年</th>\n",
       "    </tr>\n",
       "  </thead>\n",
       "  <tbody>\n",
       "    <tr>\n",
       "      <th>365</th>\n",
       "      <td>1</td>\n",
       "      <td>0.0</td>\n",
       "      <td>15.3</td>\n",
       "      <td>1</td>\n",
       "      <td>2019-01-01</td>\n",
       "      <td>2019</td>\n",
       "    </tr>\n",
       "    <tr>\n",
       "      <th>366</th>\n",
       "      <td>1</td>\n",
       "      <td>0.0</td>\n",
       "      <td>12.5</td>\n",
       "      <td>1</td>\n",
       "      <td>2019-01-02</td>\n",
       "      <td>2019</td>\n",
       "    </tr>\n",
       "    <tr>\n",
       "      <th>367</th>\n",
       "      <td>0</td>\n",
       "      <td>0.0</td>\n",
       "      <td>10.3</td>\n",
       "      <td>1</td>\n",
       "      <td>2019-01-03</td>\n",
       "      <td>2019</td>\n",
       "    </tr>\n",
       "    <tr>\n",
       "      <th>368</th>\n",
       "      <td>1</td>\n",
       "      <td>0.0</td>\n",
       "      <td>19.5</td>\n",
       "      <td>1</td>\n",
       "      <td>2019-01-04</td>\n",
       "      <td>2019</td>\n",
       "    </tr>\n",
       "    <tr>\n",
       "      <th>369</th>\n",
       "      <td>1</td>\n",
       "      <td>0.0</td>\n",
       "      <td>7.5</td>\n",
       "      <td>1</td>\n",
       "      <td>2019-01-05</td>\n",
       "      <td>2019</td>\n",
       "    </tr>\n",
       "  </tbody>\n",
       "</table>\n",
       "</div>"
      ],
      "text/plain": [
       "     明日是否下雨  相對溼度   能見度  月        觀測時間     年\n",
       "365       1   0.0  15.3  1  2019-01-01  2019\n",
       "366       1   0.0  12.5  1  2019-01-02  2019\n",
       "367       0   0.0  10.3  1  2019-01-03  2019\n",
       "368       1   0.0  19.5  1  2019-01-04  2019\n",
       "369       1   0.0   7.5  1  2019-01-05  2019"
      ]
     },
     "execution_count": 65,
     "metadata": {},
     "output_type": "execute_result"
    }
   ],
   "source": [
    "df_verify = file[file[\"年\"]==2019]\n",
    "df_verify = df_verify.sort_values(\"觀測時間\")\n",
    "df_verify.head()"
   ]
  },
  {
   "cell_type": "code",
   "execution_count": 66,
   "metadata": {},
   "outputs": [],
   "source": [
    "def preprocessing_for_validiting(df_verify, dummy_col, pre_col, pre_info):\n",
    "    X_val = df_verify\n",
    "    column_need_dummy = dummy_col\n",
    "    if len(column_need_dummy) > 0:\n",
    "        for i in column_need_dummy:\n",
    "            X_val = pd.concat([X_val, pd.get_dummies(df_verify[i], prefix=[i])], axis=1)\n",
    "    else:\n",
    "        pass\n",
    "    if len(column_need_dummy) > 0:\n",
    "        X_val = X_val.drop(column_need_dummy, axis=1)\n",
    "    else:\n",
    "        pass\n",
    "    if \"月\" in df_verify.columns:\n",
    "        for col_mon_num in range(1,13):\n",
    "            col_mon =  \"['月']_\" + str(col_mon_num)\n",
    "            if col_mon not in X_val.columns:\n",
    "                X_val[col_mon] = [0]*int(X_val.shape[0])\n",
    "    else:\n",
    "        pass\n",
    "    if pre_info[0] == \"method1\":\n",
    "        mean_tra = list(pre_info[1])\n",
    "        std_tra = list(pre_info[2])\n",
    "        X_val[pre_col] = (X_val[pre_col]-mean_tra)/std_tra\n",
    "    else:\n",
    "        pass\n",
    "    \n",
    "    y_val0 = df_verify[\"明日是否下雨\"]\n",
    "    y_val = [] \n",
    "    for i in y_val0:\n",
    "        y_val.append([int(1-i), i])\n",
    "    y_val = np.array(y_val)\n",
    "    return X_val, y_val"
   ]
  },
  {
   "cell_type": "code",
   "execution_count": 67,
   "metadata": {},
   "outputs": [],
   "source": [
    "X_val, y_val = preprocessing_for_validiting(df_verify, dummy_col, pre_col, pre_info)"
   ]
  },
  {
   "cell_type": "code",
   "execution_count": 68,
   "metadata": {},
   "outputs": [
    {
     "data": {
      "text/html": [
       "<div>\n",
       "<style scoped>\n",
       "    .dataframe tbody tr th:only-of-type {\n",
       "        vertical-align: middle;\n",
       "    }\n",
       "\n",
       "    .dataframe tbody tr th {\n",
       "        vertical-align: top;\n",
       "    }\n",
       "\n",
       "    .dataframe thead th {\n",
       "        text-align: right;\n",
       "    }\n",
       "</style>\n",
       "<table border=\"1\" class=\"dataframe\">\n",
       "  <thead>\n",
       "    <tr style=\"text-align: right;\">\n",
       "      <th></th>\n",
       "      <th>明日是否下雨</th>\n",
       "      <th>相對溼度</th>\n",
       "      <th>能見度</th>\n",
       "      <th>觀測時間</th>\n",
       "      <th>年</th>\n",
       "      <th>['月']_1</th>\n",
       "      <th>['月']_2</th>\n",
       "      <th>['月']_3</th>\n",
       "      <th>['月']_4</th>\n",
       "      <th>['月']_5</th>\n",
       "      <th>['月']_6</th>\n",
       "      <th>['月']_7</th>\n",
       "      <th>['月']_8</th>\n",
       "      <th>['月']_9</th>\n",
       "      <th>['月']_10</th>\n",
       "      <th>['月']_11</th>\n",
       "      <th>['月']_12</th>\n",
       "    </tr>\n",
       "  </thead>\n",
       "  <tbody>\n",
       "    <tr>\n",
       "      <th>725</th>\n",
       "      <td>0</td>\n",
       "      <td>0.0</td>\n",
       "      <td>11.3</td>\n",
       "      <td>2019-12-27</td>\n",
       "      <td>2019</td>\n",
       "      <td>0</td>\n",
       "      <td>0</td>\n",
       "      <td>0</td>\n",
       "      <td>0</td>\n",
       "      <td>0</td>\n",
       "      <td>0</td>\n",
       "      <td>0</td>\n",
       "      <td>0</td>\n",
       "      <td>0</td>\n",
       "      <td>0</td>\n",
       "      <td>0</td>\n",
       "      <td>1</td>\n",
       "    </tr>\n",
       "    <tr>\n",
       "      <th>726</th>\n",
       "      <td>1</td>\n",
       "      <td>0.0</td>\n",
       "      <td>43.8</td>\n",
       "      <td>2019-12-28</td>\n",
       "      <td>2019</td>\n",
       "      <td>0</td>\n",
       "      <td>0</td>\n",
       "      <td>0</td>\n",
       "      <td>0</td>\n",
       "      <td>0</td>\n",
       "      <td>0</td>\n",
       "      <td>0</td>\n",
       "      <td>0</td>\n",
       "      <td>0</td>\n",
       "      <td>0</td>\n",
       "      <td>0</td>\n",
       "      <td>1</td>\n",
       "    </tr>\n",
       "    <tr>\n",
       "      <th>727</th>\n",
       "      <td>1</td>\n",
       "      <td>0.0</td>\n",
       "      <td>9.8</td>\n",
       "      <td>2019-12-29</td>\n",
       "      <td>2019</td>\n",
       "      <td>0</td>\n",
       "      <td>0</td>\n",
       "      <td>0</td>\n",
       "      <td>0</td>\n",
       "      <td>0</td>\n",
       "      <td>0</td>\n",
       "      <td>0</td>\n",
       "      <td>0</td>\n",
       "      <td>0</td>\n",
       "      <td>0</td>\n",
       "      <td>0</td>\n",
       "      <td>1</td>\n",
       "    </tr>\n",
       "    <tr>\n",
       "      <th>728</th>\n",
       "      <td>0</td>\n",
       "      <td>0.0</td>\n",
       "      <td>14.5</td>\n",
       "      <td>2019-12-30</td>\n",
       "      <td>2019</td>\n",
       "      <td>0</td>\n",
       "      <td>0</td>\n",
       "      <td>0</td>\n",
       "      <td>0</td>\n",
       "      <td>0</td>\n",
       "      <td>0</td>\n",
       "      <td>0</td>\n",
       "      <td>0</td>\n",
       "      <td>0</td>\n",
       "      <td>0</td>\n",
       "      <td>0</td>\n",
       "      <td>1</td>\n",
       "    </tr>\n",
       "    <tr>\n",
       "      <th>729</th>\n",
       "      <td>0</td>\n",
       "      <td>0.0</td>\n",
       "      <td>15.0</td>\n",
       "      <td>2019-12-31</td>\n",
       "      <td>2019</td>\n",
       "      <td>0</td>\n",
       "      <td>0</td>\n",
       "      <td>0</td>\n",
       "      <td>0</td>\n",
       "      <td>0</td>\n",
       "      <td>0</td>\n",
       "      <td>0</td>\n",
       "      <td>0</td>\n",
       "      <td>0</td>\n",
       "      <td>0</td>\n",
       "      <td>0</td>\n",
       "      <td>1</td>\n",
       "    </tr>\n",
       "  </tbody>\n",
       "</table>\n",
       "</div>"
      ],
      "text/plain": [
       "     明日是否下雨  相對溼度   能見度        觀測時間     年  ['月']_1  ['月']_2  ['月']_3  ['月']_4  \\\n",
       "725       0   0.0  11.3  2019-12-27  2019        0        0        0        0   \n",
       "726       1   0.0  43.8  2019-12-28  2019        0        0        0        0   \n",
       "727       1   0.0   9.8  2019-12-29  2019        0        0        0        0   \n",
       "728       0   0.0  14.5  2019-12-30  2019        0        0        0        0   \n",
       "729       0   0.0  15.0  2019-12-31  2019        0        0        0        0   \n",
       "\n",
       "     ['月']_5  ['月']_6  ['月']_7  ['月']_8  ['月']_9  ['月']_10  ['月']_11  ['月']_12  \n",
       "725        0        0        0        0        0         0         0         1  \n",
       "726        0        0        0        0        0         0         0         1  \n",
       "727        0        0        0        0        0         0         0         1  \n",
       "728        0        0        0        0        0         0         0         1  \n",
       "729        0        0        0        0        0         0         0         1  "
      ]
     },
     "execution_count": 68,
     "metadata": {},
     "output_type": "execute_result"
    }
   ],
   "source": [
    "X_val.tail()"
   ]
  },
  {
   "cell_type": "code",
   "execution_count": 69,
   "metadata": {},
   "outputs": [
    {
     "data": {
      "text/plain": [
       "array([[0, 1],\n",
       "       [0, 1],\n",
       "       [1, 0],\n",
       "       [0, 1],\n",
       "       [0, 1]])"
      ]
     },
     "execution_count": 69,
     "metadata": {},
     "output_type": "execute_result"
    }
   ],
   "source": [
    "y_val[:5]"
   ]
  },
  {
   "cell_type": "code",
   "execution_count": 70,
   "metadata": {},
   "outputs": [],
   "source": [
    "# Join Table\n",
    "column_will_be_droped_val = list(set(column_will_be_droped+[\"明日是否下雨\"]))\n",
    "\n",
    "JoinTable_val = df_verify[[\"觀測時間\", \"明日是否下雨\"]]\n",
    "\n",
    "try:\n",
    "    try:\n",
    "        JoinTable_val[\"模型預測值\"] = model.predict(X_val.drop(column_will_be_droped_val, axis=1))[:, 1]\n",
    "    except Exception as e:\n",
    "        JoinTable_val[\"模型預測值\"] = model.predict(X_val)[:, 1]\n",
    "except Exception as e:\n",
    "    try:\n",
    "        JoinTable_val[\"模型預測值\"] = model.predict(X_val.drop(column_will_be_droped_val, axis=1))\n",
    "    except Exception as e:\n",
    "        JoinTable_val[\"模型預測值\"] = model.predict(X_val)\n",
    "\n",
    "JoinTable_val[\"模型預測值\"] = JoinTable_val[\"模型預測值\"].apply(lambda x: int(x))\n",
    "for col_nam in use_col:\n",
    "    JoinTable_val[col_nam] = df_verify[col_nam]"
   ]
  },
  {
   "cell_type": "code",
   "execution_count": 71,
   "metadata": {},
   "outputs": [
    {
     "name": "stdout",
     "output_type": "stream",
     "text": [
      "accuracy for classification 0.5287671232876713\n"
     ]
    }
   ],
   "source": [
    "# verify\n",
    "accuracy = metrics.accuracy_score(JoinTable_val[\"明日是否下雨\"], JoinTable_val[\"模型預測值\"])\n",
    "print(\"accuracy for classification\", accuracy)"
   ]
  },
  {
   "cell_type": "code",
   "execution_count": 72,
   "metadata": {},
   "outputs": [
    {
     "data": {
      "text/html": [
       "<div>\n",
       "<style scoped>\n",
       "    .dataframe tbody tr th:only-of-type {\n",
       "        vertical-align: middle;\n",
       "    }\n",
       "\n",
       "    .dataframe tbody tr th {\n",
       "        vertical-align: top;\n",
       "    }\n",
       "\n",
       "    .dataframe thead th {\n",
       "        text-align: right;\n",
       "    }\n",
       "</style>\n",
       "<table border=\"1\" class=\"dataframe\">\n",
       "  <thead>\n",
       "    <tr style=\"text-align: right;\">\n",
       "      <th></th>\n",
       "      <th>觀測時間</th>\n",
       "      <th>明日是否下雨</th>\n",
       "      <th>模型預測值</th>\n",
       "      <th>相對溼度</th>\n",
       "      <th>能見度</th>\n",
       "      <th>月</th>\n",
       "      <th>年</th>\n",
       "    </tr>\n",
       "  </thead>\n",
       "  <tbody>\n",
       "    <tr>\n",
       "      <th>365</th>\n",
       "      <td>2019-01-01</td>\n",
       "      <td>1</td>\n",
       "      <td>1</td>\n",
       "      <td>0.0</td>\n",
       "      <td>15.3</td>\n",
       "      <td>1</td>\n",
       "      <td>2019</td>\n",
       "    </tr>\n",
       "    <tr>\n",
       "      <th>366</th>\n",
       "      <td>2019-01-02</td>\n",
       "      <td>1</td>\n",
       "      <td>1</td>\n",
       "      <td>0.0</td>\n",
       "      <td>12.5</td>\n",
       "      <td>1</td>\n",
       "      <td>2019</td>\n",
       "    </tr>\n",
       "    <tr>\n",
       "      <th>367</th>\n",
       "      <td>2019-01-03</td>\n",
       "      <td>0</td>\n",
       "      <td>1</td>\n",
       "      <td>0.0</td>\n",
       "      <td>10.3</td>\n",
       "      <td>1</td>\n",
       "      <td>2019</td>\n",
       "    </tr>\n",
       "    <tr>\n",
       "      <th>368</th>\n",
       "      <td>2019-01-04</td>\n",
       "      <td>1</td>\n",
       "      <td>1</td>\n",
       "      <td>0.0</td>\n",
       "      <td>19.5</td>\n",
       "      <td>1</td>\n",
       "      <td>2019</td>\n",
       "    </tr>\n",
       "    <tr>\n",
       "      <th>369</th>\n",
       "      <td>2019-01-05</td>\n",
       "      <td>1</td>\n",
       "      <td>1</td>\n",
       "      <td>0.0</td>\n",
       "      <td>7.5</td>\n",
       "      <td>1</td>\n",
       "      <td>2019</td>\n",
       "    </tr>\n",
       "  </tbody>\n",
       "</table>\n",
       "</div>"
      ],
      "text/plain": [
       "           觀測時間  明日是否下雨  模型預測值  相對溼度   能見度  月     年\n",
       "365  2019-01-01       1      1   0.0  15.3  1  2019\n",
       "366  2019-01-02       1      1   0.0  12.5  1  2019\n",
       "367  2019-01-03       0      1   0.0  10.3  1  2019\n",
       "368  2019-01-04       1      1   0.0  19.5  1  2019\n",
       "369  2019-01-05       1      1   0.0   7.5  1  2019"
      ]
     },
     "execution_count": 72,
     "metadata": {},
     "output_type": "execute_result"
    }
   ],
   "source": [
    "JoinTable_val.head()"
   ]
  },
  {
   "cell_type": "code",
   "execution_count": 73,
   "metadata": {},
   "outputs": [
    {
     "data": {
      "text/html": [
       "<div>\n",
       "<style scoped>\n",
       "    .dataframe tbody tr th:only-of-type {\n",
       "        vertical-align: middle;\n",
       "    }\n",
       "\n",
       "    .dataframe tbody tr th {\n",
       "        vertical-align: top;\n",
       "    }\n",
       "\n",
       "    .dataframe thead th {\n",
       "        text-align: right;\n",
       "    }\n",
       "</style>\n",
       "<table border=\"1\" class=\"dataframe\">\n",
       "  <thead>\n",
       "    <tr style=\"text-align: right;\">\n",
       "      <th></th>\n",
       "      <th>觀測時間</th>\n",
       "      <th>明日是否下雨</th>\n",
       "      <th>模型預測值</th>\n",
       "      <th>相對溼度</th>\n",
       "      <th>能見度</th>\n",
       "      <th>月</th>\n",
       "      <th>年</th>\n",
       "    </tr>\n",
       "  </thead>\n",
       "  <tbody>\n",
       "    <tr>\n",
       "      <th>406</th>\n",
       "      <td>2019-02-11</td>\n",
       "      <td>0</td>\n",
       "      <td>1</td>\n",
       "      <td>0.0</td>\n",
       "      <td>16.3</td>\n",
       "      <td>2</td>\n",
       "      <td>2019</td>\n",
       "    </tr>\n",
       "  </tbody>\n",
       "</table>\n",
       "</div>"
      ],
      "text/plain": [
       "           觀測時間  明日是否下雨  模型預測值  相對溼度   能見度  月     年\n",
       "406  2019-02-11       0      1   0.0  16.3  2  2019"
      ]
     },
     "execution_count": 73,
     "metadata": {},
     "output_type": "execute_result"
    }
   ],
   "source": [
    "JoinTable_val[JoinTable_val[\"觀測時間\"]==\"2019-02-11\"]"
   ]
  },
  {
   "cell_type": "markdown",
   "metadata": {},
   "source": [
    "### Visulization"
   ]
  },
  {
   "cell_type": "code",
   "execution_count": 74,
   "metadata": {},
   "outputs": [],
   "source": [
    "import matplotlib.pyplot as plt\n",
    "%matplotlib inline"
   ]
  },
  {
   "cell_type": "code",
   "execution_count": 75,
   "metadata": {},
   "outputs": [],
   "source": [
    "from matplotlib.font_manager import FontProperties\n",
    "myfont = FontProperties(fname=r'font/msjh.ttc')\n",
    "\n",
    "JoinTable_val[\"年\"] = JoinTable_val[\"觀測時間\"].apply(lambda x: int(str(x).split(\"-\")[0]))\n",
    "JoinTable_val[\"月\"] = JoinTable_val[\"觀測時間\"].apply(lambda x: int(str(x).split(\"-\")[1]))\n",
    "JoinTable_val[\"日\"] = JoinTable_val[\"觀測時間\"].apply(lambda x: int(str(x).split(\"-\")[2]))\n",
    "def ck_q(x):\n",
    "    if x <= 3:\n",
    "        return 1\n",
    "    elif (3 < x) and (x <= 6):\n",
    "        return 2\n",
    "    elif (6 < x) and (x <= 9):\n",
    "        return 3\n",
    "    else:\n",
    "        return 4\n",
    "JoinTable_val[\"季\"] = JoinTable_val[\"月\"].apply(lambda x: ck_q(x))"
   ]
  },
  {
   "cell_type": "code",
   "execution_count": 76,
   "metadata": {},
   "outputs": [],
   "source": [
    "date_check = []\n",
    "for j in range(1, max(list(JoinTable_val[\"日\"]))+1):\n",
    "    tmp = JoinTable_val[JoinTable_val[\"日\"] == j]\n",
    "    tmp = list(abs(tmp[\"明日是否下雨\"]-tmp[\"模型預測值\"]))\n",
    "    date_check.append([j, tmp.count(0)/len(tmp), tmp.count(1)/len(tmp)])\n",
    "month_check = []\n",
    "for j in range(1, max(list(JoinTable_val[\"月\"]))+1):\n",
    "    tmp = JoinTable_val[JoinTable_val[\"月\"] == j]\n",
    "    tmp = list(abs(tmp[\"明日是否下雨\"]-tmp[\"模型預測值\"]))\n",
    "    month_check.append([j, tmp.count(0)/len(tmp), tmp.count(1)/len(tmp)])\n",
    "quarter_check = []\n",
    "for j in range(1, max(list(JoinTable_val[\"季\"]))+1):\n",
    "    tmp = JoinTable_val[JoinTable_val[\"季\"] == j]\n",
    "    tmp = list(abs(tmp[\"明日是否下雨\"]-tmp[\"模型預測值\"]))\n",
    "    quarter_check.append([j, tmp.count(0)/len(tmp), tmp.count(1)/len(tmp)])"
   ]
  },
  {
   "cell_type": "code",
   "execution_count": 77,
   "metadata": {},
   "outputs": [
    {
     "data": {
      "image/png": "[encoded data removed]",
      "text/plain": [
       "<Figure size 864x648 with 1 Axes>"
      ]
     },
     "metadata": {
      "needs_background": "light"
     },
     "output_type": "display_data"
    }
   ],
   "source": [
    "# date_check, month_check, quarter_check\n",
    "xl = month_check\n",
    "\n",
    "plt.figure(figsize = (12,9))\n",
    "plt.bar(np.array(xl)[:,0], np.array(xl)[:,1], label='Correct %') \n",
    "plt.bar(np.array(xl)[:,0], np.array(xl)[:,2], bottom=np.array(xl)[:,1], label='False %') \n",
    "plt.xticks(np.array(xl)[:,0])\n",
    "if len(np.array(xl)[:,0]) == 4:\n",
    "    plt.xlabel(\"季\", fontproperties=myfont, fontsize=15)\n",
    "elif (len(np.array(xl)[:,0]) > 4) and (len(np.array(xl)[:,0]) < 13):\n",
    "    plt.xlabel(\"月\", fontproperties=myfont, fontsize=15)\n",
    "else:\n",
    "    plt.xlabel(\"日\", fontproperties=myfont, fontsize=15)\n",
    "plt.ylabel(\"準度\", fontproperties=myfont, fontsize=15)\n",
    "plt.title('結果', fontproperties=myfont, fontsize=15)\n",
    "plt.legend(fontsize = 15)\n",
    "plt.show()"
   ]
  },
  {
   "cell_type": "code",
   "execution_count": 78,
   "metadata": {},
   "outputs": [
    {
     "data": {
      "image/png": "[encoded data removed]",
      "text/plain": [
       "<Figure size 1224x864 with 2 Axes>"
      ]
     },
     "metadata": {
      "needs_background": "light"
     },
     "output_type": "display_data"
    }
   ],
   "source": [
    "import seaborn as sns\n",
    "\n",
    "co1 = list(JoinTable_val.columns)\n",
    "co1.remove(\"觀測時間\")\n",
    "co1.remove(\"年\")\n",
    "co0 = \"\"\n",
    "for k in range(len(co1)):\n",
    "    co0+=str(str(k)+\": \"+str(co1[k])+\", \")\n",
    "co0 = co0[:-2]\n",
    "\n",
    "plt.figure(figsize=(17,12))\n",
    "ckv = JoinTable_val[co1].corr()\n",
    "sns.heatmap(np.array(ckv),linewidths=0.1,vmax=1.0, square=True,linecolor='white',annot=True)\n",
    "plt.title(co0,fontproperties=myfont, fontsize=15)\n",
    "plt.show()"
   ]
  },
  {
   "cell_type": "markdown",
   "metadata": {},
   "source": [
    "<a id=\"FacebookInsights\"></a>\n",
    "## Facebook fanpage insights\n",
    "    \n",
    "### Load data from Excel and do Data preprocessing"
   ]
  },
  {
   "cell_type": "markdown",
   "metadata": {},
   "source": [
    "<img src=\"images/will_I_get_more_engagement.png\" width=\"640\">"
   ]
  },
  {
   "cell_type": "code",
   "execution_count": 79,
   "metadata": {},
   "outputs": [
    {
     "data": {
      "text/html": [
       "<div>\n",
       "<style scoped>\n",
       "    .dataframe tbody tr th:only-of-type {\n",
       "        vertical-align: middle;\n",
       "    }\n",
       "\n",
       "    .dataframe tbody tr th {\n",
       "        vertical-align: top;\n",
       "    }\n",
       "\n",
       "    .dataframe thead th {\n",
       "        text-align: right;\n",
       "    }\n",
       "</style>\n",
       "<table border=\"1\" class=\"dataframe\">\n",
       "  <thead>\n",
       "    <tr style=\"text-align: right;\">\n",
       "      <th></th>\n",
       "      <th>page_fan_adds_unique</th>\n",
       "      <th>date</th>\n",
       "      <th>page_fan_adds</th>\n",
       "      <th>page_impressions_unique</th>\n",
       "      <th>page_posts_impressions_unique</th>\n",
       "      <th>page_fans_online_per_day</th>\n",
       "      <th>page_impressions_organic</th>\n",
       "      <th>page_engaged_users</th>\n",
       "    </tr>\n",
       "  </thead>\n",
       "  <tbody>\n",
       "    <tr>\n",
       "      <th>0</th>\n",
       "      <td>0</td>\n",
       "      <td>2017-10-30</td>\n",
       "      <td>0</td>\n",
       "      <td>0</td>\n",
       "      <td>0</td>\n",
       "      <td>231918</td>\n",
       "      <td>0</td>\n",
       "      <td>0</td>\n",
       "    </tr>\n",
       "    <tr>\n",
       "      <th>1</th>\n",
       "      <td>0</td>\n",
       "      <td>2017-10-30</td>\n",
       "      <td>0</td>\n",
       "      <td>0</td>\n",
       "      <td>0</td>\n",
       "      <td>231918</td>\n",
       "      <td>0</td>\n",
       "      <td>0</td>\n",
       "    </tr>\n",
       "    <tr>\n",
       "      <th>2</th>\n",
       "      <td>0</td>\n",
       "      <td>2017-10-30</td>\n",
       "      <td>0</td>\n",
       "      <td>0</td>\n",
       "      <td>0</td>\n",
       "      <td>231918</td>\n",
       "      <td>0</td>\n",
       "      <td>0</td>\n",
       "    </tr>\n",
       "    <tr>\n",
       "      <th>3</th>\n",
       "      <td>0</td>\n",
       "      <td>2017-10-30</td>\n",
       "      <td>0</td>\n",
       "      <td>0</td>\n",
       "      <td>0</td>\n",
       "      <td>231918</td>\n",
       "      <td>0</td>\n",
       "      <td>0</td>\n",
       "    </tr>\n",
       "    <tr>\n",
       "      <th>4</th>\n",
       "      <td>0</td>\n",
       "      <td>2017-10-30</td>\n",
       "      <td>0</td>\n",
       "      <td>0</td>\n",
       "      <td>0</td>\n",
       "      <td>231918</td>\n",
       "      <td>0</td>\n",
       "      <td>0</td>\n",
       "    </tr>\n",
       "  </tbody>\n",
       "</table>\n",
       "</div>"
      ],
      "text/plain": [
       "   page_fan_adds_unique       date  page_fan_adds  page_impressions_unique  \\\n",
       "0                     0 2017-10-30              0                        0   \n",
       "1                     0 2017-10-30              0                        0   \n",
       "2                     0 2017-10-30              0                        0   \n",
       "3                     0 2017-10-30              0                        0   \n",
       "4                     0 2017-10-30              0                        0   \n",
       "\n",
       "   page_posts_impressions_unique  page_fans_online_per_day  \\\n",
       "0                              0                    231918   \n",
       "1                              0                    231918   \n",
       "2                              0                    231918   \n",
       "3                              0                    231918   \n",
       "4                              0                    231918   \n",
       "\n",
       "   page_impressions_organic  page_engaged_users  \n",
       "0                         0                   0  \n",
       "1                         0                   0  \n",
       "2                         0                   0  \n",
       "3                         0                   0  \n",
       "4                         0                   0  "
      ]
     },
     "execution_count": 79,
     "metadata": {},
     "output_type": "execute_result"
    }
   ],
   "source": [
    "import pandas as pd\n",
    "\n",
    "df_ = pd.read_excel(\"data/facebook/fanpage_data_by_day_1.xlsx\")\n",
    "df_['date']= pd.to_datetime(df_['date']) \n",
    "df_.head()"
   ]
  },
  {
   "cell_type": "code",
   "execution_count": 80,
   "metadata": {},
   "outputs": [
    {
     "data": {
      "text/plain": [
       "page_fan_adds_unique                      int64\n",
       "date                             datetime64[ns]\n",
       "page_fan_adds                             int64\n",
       "page_impressions_unique                   int64\n",
       "page_posts_impressions_unique             int64\n",
       "page_fans_online_per_day                  int64\n",
       "page_impressions_organic                  int64\n",
       "page_engaged_users                        int64\n",
       "dtype: object"
      ]
     },
     "execution_count": 80,
     "metadata": {},
     "output_type": "execute_result"
    }
   ],
   "source": [
    "# 維度說明: https://developers.facebook.com/docs/graph-api/reference/v3.2/insights\n",
    "# page_fan_adds_unique        說你的粉絲專頁讚的新用戶不重複人數。\n",
    "# page_fan_adds               說你的粉絲專頁讚的新用戶人數。\n",
    "# page_impressions_unique     任何來自你粉絲專頁或有關你專頁的內容（包括貼文、限時動態、打卡、廣告、曾與你專頁互動用戶的社交資訊和其他內容）進入其瀏覽畫面的用戶人數。\n",
    "# page_fans_online_per_day    The number of your fans who saw any posts on Facebook on a given day.\n",
    "# page_impressions_organic    任何來自你粉絲專頁或有關你專頁的內容（包括貼文、限時動態、打卡、曾與你專頁互動用戶的社交資訊和其他內容）透過未付費散佈進入用戶瀏覽畫面的次數。\n",
    "# page_engaged_users          與你粉絲專頁互動交流的用戶人數。互動交流包括任何點擊。\n",
    "df_.dtypes"
   ]
  },
  {
   "cell_type": "code",
   "execution_count": 81,
   "metadata": {},
   "outputs": [
    {
     "data": {
      "text/plain": [
       "38880"
      ]
     },
     "execution_count": 81,
     "metadata": {},
     "output_type": "execute_result"
    }
   ],
   "source": [
    "df_.shape[0]"
   ]
  },
  {
   "cell_type": "code",
   "execution_count": 82,
   "metadata": {},
   "outputs": [],
   "source": [
    "df_ = df_[df_['page_engaged_users'] != 0]"
   ]
  },
  {
   "cell_type": "code",
   "execution_count": 83,
   "metadata": {},
   "outputs": [
    {
     "data": {
      "text/plain": [
       "<matplotlib.axes._subplots.AxesSubplot at 0x1b9a521f6a0>"
      ]
     },
     "execution_count": 83,
     "metadata": {},
     "output_type": "execute_result"
    },
    {
     "data": {
      "image/png": "[encoded data removed]",
      "text/plain": [
       "<Figure size 432x288 with 1 Axes>"
      ]
     },
     "metadata": {
      "needs_background": "light"
     },
     "output_type": "display_data"
    }
   ],
   "source": [
    "import matplotlib.pyplot as plt\n",
    "%matplotlib inline\n",
    "\n",
    "# 有點看不懂的圖\n",
    "df_.page_engaged_users.plot()"
   ]
  },
  {
   "cell_type": "code",
   "execution_count": 84,
   "metadata": {},
   "outputs": [
    {
     "data": {
      "text/plain": [
       "[<matplotlib.lines.Line2D at 0x1b9a5234748>]"
      ]
     },
     "execution_count": 84,
     "metadata": {},
     "output_type": "execute_result"
    },
    {
     "data": {
      "image/png": "[encoded data removed]",
      "text/plain": [
       "<Figure size 432x288 with 1 Axes>"
      ]
     },
     "metadata": {
      "needs_background": "light"
     },
     "output_type": "display_data"
    }
   ],
   "source": [
    "# 加上日期，時間序列，每日粉絲增長數\n",
    "x_list = df_['date']\n",
    "y_list = df_['page_engaged_users']\n",
    "plt.xticks(rotation=45)\n",
    "plt.xlabel('day')\n",
    "plt.ylabel('page_engaged_users')\n",
    "plt.plot(x_list, y_list)"
   ]
  },
  {
   "cell_type": "code",
   "execution_count": 85,
   "metadata": {},
   "outputs": [
    {
     "data": {
      "text/html": [
       "<div>\n",
       "<style scoped>\n",
       "    .dataframe tbody tr th:only-of-type {\n",
       "        vertical-align: middle;\n",
       "    }\n",
       "\n",
       "    .dataframe tbody tr th {\n",
       "        vertical-align: top;\n",
       "    }\n",
       "\n",
       "    .dataframe thead th {\n",
       "        text-align: right;\n",
       "    }\n",
       "</style>\n",
       "<table border=\"1\" class=\"dataframe\">\n",
       "  <thead>\n",
       "    <tr style=\"text-align: right;\">\n",
       "      <th></th>\n",
       "      <th>page_fan_adds_unique</th>\n",
       "      <th>page_fan_adds</th>\n",
       "      <th>page_impressions_unique</th>\n",
       "      <th>page_posts_impressions_unique</th>\n",
       "      <th>page_fans_online_per_day</th>\n",
       "      <th>page_impressions_organic</th>\n",
       "      <th>page_engaged_users</th>\n",
       "    </tr>\n",
       "  </thead>\n",
       "  <tbody>\n",
       "    <tr>\n",
       "      <th>page_fan_adds_unique</th>\n",
       "      <td>1.000000</td>\n",
       "      <td>0.999676</td>\n",
       "      <td>0.318029</td>\n",
       "      <td>0.485374</td>\n",
       "      <td>-0.317321</td>\n",
       "      <td>0.478930</td>\n",
       "      <td>0.692187</td>\n",
       "    </tr>\n",
       "    <tr>\n",
       "      <th>page_fan_adds</th>\n",
       "      <td>0.999676</td>\n",
       "      <td>1.000000</td>\n",
       "      <td>0.318928</td>\n",
       "      <td>0.487175</td>\n",
       "      <td>-0.317777</td>\n",
       "      <td>0.476100</td>\n",
       "      <td>0.691864</td>\n",
       "    </tr>\n",
       "    <tr>\n",
       "      <th>page_impressions_unique</th>\n",
       "      <td>0.318029</td>\n",
       "      <td>0.318928</td>\n",
       "      <td>1.000000</td>\n",
       "      <td>0.600810</td>\n",
       "      <td>0.058144</td>\n",
       "      <td>0.098950</td>\n",
       "      <td>0.457307</td>\n",
       "    </tr>\n",
       "    <tr>\n",
       "      <th>page_posts_impressions_unique</th>\n",
       "      <td>0.485374</td>\n",
       "      <td>0.487175</td>\n",
       "      <td>0.600810</td>\n",
       "      <td>1.000000</td>\n",
       "      <td>0.075528</td>\n",
       "      <td>0.079564</td>\n",
       "      <td>0.697860</td>\n",
       "    </tr>\n",
       "    <tr>\n",
       "      <th>page_fans_online_per_day</th>\n",
       "      <td>-0.317321</td>\n",
       "      <td>-0.317777</td>\n",
       "      <td>0.058144</td>\n",
       "      <td>0.075528</td>\n",
       "      <td>1.000000</td>\n",
       "      <td>-0.070624</td>\n",
       "      <td>-0.079522</td>\n",
       "    </tr>\n",
       "    <tr>\n",
       "      <th>page_impressions_organic</th>\n",
       "      <td>0.478930</td>\n",
       "      <td>0.476100</td>\n",
       "      <td>0.098950</td>\n",
       "      <td>0.079564</td>\n",
       "      <td>-0.070624</td>\n",
       "      <td>1.000000</td>\n",
       "      <td>0.558267</td>\n",
       "    </tr>\n",
       "    <tr>\n",
       "      <th>page_engaged_users</th>\n",
       "      <td>0.692187</td>\n",
       "      <td>0.691864</td>\n",
       "      <td>0.457307</td>\n",
       "      <td>0.697860</td>\n",
       "      <td>-0.079522</td>\n",
       "      <td>0.558267</td>\n",
       "      <td>1.000000</td>\n",
       "    </tr>\n",
       "  </tbody>\n",
       "</table>\n",
       "</div>"
      ],
      "text/plain": [
       "                               page_fan_adds_unique  page_fan_adds  \\\n",
       "page_fan_adds_unique                       1.000000       0.999676   \n",
       "page_fan_adds                              0.999676       1.000000   \n",
       "page_impressions_unique                    0.318029       0.318928   \n",
       "page_posts_impressions_unique              0.485374       0.487175   \n",
       "page_fans_online_per_day                  -0.317321      -0.317777   \n",
       "page_impressions_organic                   0.478930       0.476100   \n",
       "page_engaged_users                         0.692187       0.691864   \n",
       "\n",
       "                               page_impressions_unique  \\\n",
       "page_fan_adds_unique                          0.318029   \n",
       "page_fan_adds                                 0.318928   \n",
       "page_impressions_unique                       1.000000   \n",
       "page_posts_impressions_unique                 0.600810   \n",
       "page_fans_online_per_day                      0.058144   \n",
       "page_impressions_organic                      0.098950   \n",
       "page_engaged_users                            0.457307   \n",
       "\n",
       "                               page_posts_impressions_unique  \\\n",
       "page_fan_adds_unique                                0.485374   \n",
       "page_fan_adds                                       0.487175   \n",
       "page_impressions_unique                             0.600810   \n",
       "page_posts_impressions_unique                       1.000000   \n",
       "page_fans_online_per_day                            0.075528   \n",
       "page_impressions_organic                            0.079564   \n",
       "page_engaged_users                                  0.697860   \n",
       "\n",
       "                               page_fans_online_per_day  \\\n",
       "page_fan_adds_unique                          -0.317321   \n",
       "page_fan_adds                                 -0.317777   \n",
       "page_impressions_unique                        0.058144   \n",
       "page_posts_impressions_unique                  0.075528   \n",
       "page_fans_online_per_day                       1.000000   \n",
       "page_impressions_organic                      -0.070624   \n",
       "page_engaged_users                            -0.079522   \n",
       "\n",
       "                               page_impressions_organic  page_engaged_users  \n",
       "page_fan_adds_unique                           0.478930            0.692187  \n",
       "page_fan_adds                                  0.476100            0.691864  \n",
       "page_impressions_unique                        0.098950            0.457307  \n",
       "page_posts_impressions_unique                  0.079564            0.697860  \n",
       "page_fans_online_per_day                      -0.070624           -0.079522  \n",
       "page_impressions_organic                       1.000000            0.558267  \n",
       "page_engaged_users                             0.558267            1.000000  "
      ]
     },
     "execution_count": 85,
     "metadata": {},
     "output_type": "execute_result"
    }
   ],
   "source": [
    "# Matrix form for correlation data\n",
    "tp = df_.corr()\n",
    "tp"
   ]
  },
  {
   "cell_type": "code",
   "execution_count": 86,
   "metadata": {},
   "outputs": [
    {
     "data": {
      "text/plain": [
       "<matplotlib.axes._subplots.AxesSubplot at 0x1b9a72177b8>"
      ]
     },
     "execution_count": 86,
     "metadata": {},
     "output_type": "execute_result"
    },
    {
     "data": {
      "image/png": "[encoded data removed]",
      "text/plain": [
       "<Figure size 432x288 with 2 Axes>"
      ]
     },
     "metadata": {
      "needs_background": "light"
     },
     "output_type": "display_data"
    }
   ],
   "source": [
    "import seaborn as sns\n",
    "from matplotlib.font_manager import FontProperties\n",
    "myfont=FontProperties(fname=r'C:\\Windows\\Fonts\\kaiu.ttf',size=14)\n",
    "sns.set(font=myfont.get_name())\n",
    "%matplotlib inline\n",
    "\n",
    "sns.heatmap(tp)"
   ]
  },
  {
   "cell_type": "code",
   "execution_count": 87,
   "metadata": {},
   "outputs": [
    {
     "data": {
      "text/plain": [
       "<seaborn.axisgrid.FacetGrid at 0x1b9a72fa7f0>"
      ]
     },
     "execution_count": 87,
     "metadata": {},
     "output_type": "execute_result"
    },
    {
     "data": {
      "image/png": "[encoded data removed]",
      "text/plain": [
       "<Figure size 360x360 with 1 Axes>"
      ]
     },
     "metadata": {
      "needs_background": "light"
     },
     "output_type": "display_data"
    }
   ],
   "source": [
    "# 每日在線的粉絲數 vs 互動使用者數\n",
    "sns.lmplot(x='page_fans_online_per_day', y='page_engaged_users', data=df_, palette='coolwarm')"
   ]
  },
  {
   "cell_type": "code",
   "execution_count": 88,
   "metadata": {},
   "outputs": [
    {
     "data": {
      "text/plain": [
       "<seaborn.axisgrid.FacetGrid at 0x1b9a5a32eb8>"
      ]
     },
     "execution_count": 88,
     "metadata": {},
     "output_type": "execute_result"
    },
    {
     "data": {
      "image/png": "[encoded data removed]",
      "text/plain": [
       "<Figure size 360x360 with 1 Axes>"
      ]
     },
     "metadata": {
      "needs_background": "light"
     },
     "output_type": "display_data"
    }
   ],
   "source": [
    "# 每日粉絲新增人數 vs 互動使用者數\n",
    "sns.lmplot(x='page_fan_adds', y='page_engaged_users', data=df_, palette='coolwarm')"
   ]
  },
  {
   "cell_type": "code",
   "execution_count": 89,
   "metadata": {},
   "outputs": [
    {
     "data": {
      "image/png": "[encoded data removed]",
      "text/plain": [
       "<Figure size 1080x360 with 1 Axes>"
      ]
     },
     "metadata": {
      "needs_background": "light"
     },
     "output_type": "display_data"
    }
   ],
   "source": [
    "groupbyHousePriceMean = df_.groupby('page_fan_adds').mean()\n",
    "plot = groupbyHousePriceMean[['page_impressions_unique', 'page_posts_impressions_unique']].plot.box(figsize=(15,5), vert=False, showfliers=False)"
   ]
  },
  {
   "cell_type": "code",
   "execution_count": 90,
   "metadata": {},
   "outputs": [
    {
     "data": {
      "image/png": "[encoded data removed]",
      "text/plain": [
       "<Figure size 1080x360 with 1 Axes>"
      ]
     },
     "metadata": {
      "needs_background": "light"
     },
     "output_type": "display_data"
    }
   ],
   "source": [
    "groupbyHousePriceMean = df_.groupby('page_fan_adds').mean()\n",
    "plot = groupbyHousePriceMean[['page_impressions_unique','page_impressions_organic', 'page_fans_online_per_day']].plot.box(figsize=(15,5), vert=False, showfliers=False)"
   ]
  },
  {
   "cell_type": "code",
   "execution_count": 91,
   "metadata": {},
   "outputs": [
    {
     "data": {
      "image/png": "[encoded data removed]",
      "text/plain": [
       "<Figure size 1440x720 with 1 Axes>"
      ]
     },
     "metadata": {
      "needs_background": "light"
     },
     "output_type": "display_data"
    }
   ],
   "source": [
    "# 每篇文章不重複展示人次與粉絲頁不重複人次成正相關\n",
    "ax = plt.subplots(ncols=1,figsize=(20,10))\n",
    "ax[1].title.set_text('Linear Scale')\n",
    "groupbyHousePriceMean.plot.scatter(x='page_impressions_unique',y='page_posts_impressions_unique',c='DarkBlue',ax=ax[1], s=15)\n",
    "plt.show()"
   ]
  },
  {
   "cell_type": "code",
   "execution_count": 92,
   "metadata": {},
   "outputs": [
    {
     "data": {
      "image/png": "[encoded data removed]",
      "text/plain": [
       "<Figure size 1440x720 with 1 Axes>"
      ]
     },
     "metadata": {
      "needs_background": "light"
     },
     "output_type": "display_data"
    }
   ],
   "source": [
    "# 每篇文章自然曝光展示人次與粉絲頁不重複觸及人次無相關\n",
    "ax = plt.subplots(ncols=1,figsize=(20,10))\n",
    "ax[1].title.set_text('Linear Scale')\n",
    "groupbyHousePriceMean.plot.scatter(x='page_impressions_organic',y='page_posts_impressions_unique',c='DarkBlue',ax=ax[1], s=15)\n",
    "plt.show()"
   ]
  },
  {
   "cell_type": "markdown",
   "metadata": {},
   "source": [
    "### Data preprocessing, training and predict"
   ]
  },
  {
   "cell_type": "code",
   "execution_count": 93,
   "metadata": {},
   "outputs": [
    {
     "data": {
      "text/html": [
       "<div>\n",
       "<style scoped>\n",
       "    .dataframe tbody tr th:only-of-type {\n",
       "        vertical-align: middle;\n",
       "    }\n",
       "\n",
       "    .dataframe tbody tr th {\n",
       "        vertical-align: top;\n",
       "    }\n",
       "\n",
       "    .dataframe thead th {\n",
       "        text-align: right;\n",
       "    }\n",
       "</style>\n",
       "<table border=\"1\" class=\"dataframe\">\n",
       "  <thead>\n",
       "    <tr style=\"text-align: right;\">\n",
       "      <th></th>\n",
       "      <th>page_fan_adds_unique</th>\n",
       "      <th>page_fan_adds</th>\n",
       "      <th>page_impressions_unique</th>\n",
       "      <th>page_posts_impressions_unique</th>\n",
       "      <th>page_fans_online_per_day</th>\n",
       "      <th>page_impressions_organic</th>\n",
       "      <th>page_engaged_users</th>\n",
       "    </tr>\n",
       "  </thead>\n",
       "  <tbody>\n",
       "    <tr>\n",
       "      <th>216</th>\n",
       "      <td>106</td>\n",
       "      <td>106</td>\n",
       "      <td>716821</td>\n",
       "      <td>530107</td>\n",
       "      <td>232150</td>\n",
       "      <td>80063</td>\n",
       "      <td>11417</td>\n",
       "    </tr>\n",
       "    <tr>\n",
       "      <th>217</th>\n",
       "      <td>106</td>\n",
       "      <td>106</td>\n",
       "      <td>530107</td>\n",
       "      <td>530107</td>\n",
       "      <td>232150</td>\n",
       "      <td>80063</td>\n",
       "      <td>11417</td>\n",
       "    </tr>\n",
       "    <tr>\n",
       "      <th>218</th>\n",
       "      <td>106</td>\n",
       "      <td>106</td>\n",
       "      <td>80063</td>\n",
       "      <td>530107</td>\n",
       "      <td>232150</td>\n",
       "      <td>80063</td>\n",
       "      <td>11417</td>\n",
       "    </tr>\n",
       "    <tr>\n",
       "      <th>219</th>\n",
       "      <td>106</td>\n",
       "      <td>106</td>\n",
       "      <td>716821</td>\n",
       "      <td>530107</td>\n",
       "      <td>232150</td>\n",
       "      <td>80063</td>\n",
       "      <td>11417</td>\n",
       "    </tr>\n",
       "    <tr>\n",
       "      <th>220</th>\n",
       "      <td>106</td>\n",
       "      <td>106</td>\n",
       "      <td>530107</td>\n",
       "      <td>530107</td>\n",
       "      <td>232150</td>\n",
       "      <td>80063</td>\n",
       "      <td>11417</td>\n",
       "    </tr>\n",
       "  </tbody>\n",
       "</table>\n",
       "</div>"
      ],
      "text/plain": [
       "     page_fan_adds_unique  page_fan_adds  page_impressions_unique  \\\n",
       "216                   106            106                   716821   \n",
       "217                   106            106                   530107   \n",
       "218                   106            106                    80063   \n",
       "219                   106            106                   716821   \n",
       "220                   106            106                   530107   \n",
       "\n",
       "     page_posts_impressions_unique  page_fans_online_per_day  \\\n",
       "216                         530107                    232150   \n",
       "217                         530107                    232150   \n",
       "218                         530107                    232150   \n",
       "219                         530107                    232150   \n",
       "220                         530107                    232150   \n",
       "\n",
       "     page_impressions_organic  page_engaged_users  \n",
       "216                     80063               11417  \n",
       "217                     80063               11417  \n",
       "218                     80063               11417  \n",
       "219                     80063               11417  \n",
       "220                     80063               11417  "
      ]
     },
     "execution_count": 93,
     "metadata": {},
     "output_type": "execute_result"
    }
   ],
   "source": [
    "# drop usless data for training\n",
    "df_copy = df_.copy()\n",
    "if 'date' in df_copy.columns:\n",
    "    del df_copy['date']\n",
    "if 'date2' in df_copy.columns:\n",
    "    del df_copy['date2']\n",
    "df_copy.head()"
   ]
  },
  {
   "cell_type": "code",
   "execution_count": 94,
   "metadata": {},
   "outputs": [
    {
     "data": {
      "text/plain": [
       "38664"
      ]
     },
     "execution_count": 94,
     "metadata": {},
     "output_type": "execute_result"
    }
   ],
   "source": [
    "df_copy.shape[0]"
   ]
  },
  {
   "cell_type": "code",
   "execution_count": 95,
   "metadata": {},
   "outputs": [
    {
     "data": {
      "text/html": [
       "<div>\n",
       "<style scoped>\n",
       "    .dataframe tbody tr th:only-of-type {\n",
       "        vertical-align: middle;\n",
       "    }\n",
       "\n",
       "    .dataframe tbody tr th {\n",
       "        vertical-align: top;\n",
       "    }\n",
       "\n",
       "    .dataframe thead th {\n",
       "        text-align: right;\n",
       "    }\n",
       "</style>\n",
       "<table border=\"1\" class=\"dataframe\">\n",
       "  <thead>\n",
       "    <tr style=\"text-align: right;\">\n",
       "      <th></th>\n",
       "      <th>page_engaged_users</th>\n",
       "      <th>next_engage</th>\n",
       "    </tr>\n",
       "  </thead>\n",
       "  <tbody>\n",
       "    <tr>\n",
       "      <th>216</th>\n",
       "      <td>11417</td>\n",
       "      <td>11417.0</td>\n",
       "    </tr>\n",
       "    <tr>\n",
       "      <th>217</th>\n",
       "      <td>11417</td>\n",
       "      <td>11417.0</td>\n",
       "    </tr>\n",
       "    <tr>\n",
       "      <th>218</th>\n",
       "      <td>11417</td>\n",
       "      <td>11417.0</td>\n",
       "    </tr>\n",
       "    <tr>\n",
       "      <th>219</th>\n",
       "      <td>11417</td>\n",
       "      <td>11417.0</td>\n",
       "    </tr>\n",
       "    <tr>\n",
       "      <th>220</th>\n",
       "      <td>11417</td>\n",
       "      <td>11417.0</td>\n",
       "    </tr>\n",
       "  </tbody>\n",
       "</table>\n",
       "</div>"
      ],
      "text/plain": [
       "     page_engaged_users  next_engage\n",
       "216               11417      11417.0\n",
       "217               11417      11417.0\n",
       "218               11417      11417.0\n",
       "219               11417      11417.0\n",
       "220               11417      11417.0"
      ]
     },
     "execution_count": 95,
     "metadata": {},
     "output_type": "execute_result"
    }
   ],
   "source": [
    "output_data = df_copy[['page_engaged_users']]\n",
    "output_data.loc[:,'next_engage']=output_data['page_engaged_users'].shift(-1)\n",
    "output_data=output_data.dropna()\n",
    "output_data.head()"
   ]
  },
  {
   "cell_type": "code",
   "execution_count": 96,
   "metadata": {},
   "outputs": [
    {
     "data": {
      "text/plain": [
       "Index(['page_engaged_users', 'next_engage'], dtype='object')"
      ]
     },
     "execution_count": 96,
     "metadata": {},
     "output_type": "execute_result"
    }
   ],
   "source": [
    "output_data.columns"
   ]
  },
  {
   "cell_type": "code",
   "execution_count": 97,
   "metadata": {},
   "outputs": [
    {
     "data": {
      "text/plain": [
       "38663"
      ]
     },
     "execution_count": 97,
     "metadata": {},
     "output_type": "execute_result"
    }
   ],
   "source": [
    "output_data.shape[0]"
   ]
  },
  {
   "cell_type": "code",
   "execution_count": 98,
   "metadata": {},
   "outputs": [
    {
     "data": {
      "text/plain": [
       "38663"
      ]
     },
     "execution_count": 98,
     "metadata": {},
     "output_type": "execute_result"
    }
   ],
   "source": [
    "df_copy = df_copy[:-1]\n",
    "df_copy.shape[0]"
   ]
  },
  {
   "cell_type": "code",
   "execution_count": 99,
   "metadata": {},
   "outputs": [],
   "source": [
    "# delete Y\n",
    "if 'page_engaged_users' in df_copy.columns:\n",
    "    del df_copy['page_engaged_users']"
   ]
  },
  {
   "cell_type": "code",
   "execution_count": 100,
   "metadata": {},
   "outputs": [],
   "source": [
    "from sklearn.model_selection import train_test_split\n",
    "\n",
    "x_train, x_test, y_train, y_test = train_test_split(df_copy.values, output_data['next_engage'], test_size=0.15)"
   ]
  },
  {
   "cell_type": "code",
   "execution_count": 101,
   "metadata": {},
   "outputs": [
    {
     "name": "stdout",
     "output_type": "stream",
     "text": [
      "(32863, 6) (32863,)\n"
     ]
    },
    {
     "data": {
      "text/plain": [
       "0.7673643526572684"
      ]
     },
     "execution_count": 101,
     "metadata": {},
     "output_type": "execute_result"
    }
   ],
   "source": [
    "import numpy as np # linear algebra\n",
    "from sklearn.neural_network import MLPRegressor\n",
    "from sklearn.neural_network import MLPClassifier\n",
    "from sklearn.model_selection import train_test_split\n",
    "\n",
    "print(x_train.shape,y_train.shape)\n",
    "cnn  = MLPRegressor(solver = 'lbfgs')\n",
    "cnn.fit(x_train, y_train)\n",
    "\n",
    "cnn.score(x_test, y_test)"
   ]
  },
  {
   "cell_type": "code",
   "execution_count": 102,
   "metadata": {},
   "outputs": [
    {
     "data": {
      "text/html": [
       "<div>\n",
       "<style scoped>\n",
       "    .dataframe tbody tr th:only-of-type {\n",
       "        vertical-align: middle;\n",
       "    }\n",
       "\n",
       "    .dataframe tbody tr th {\n",
       "        vertical-align: top;\n",
       "    }\n",
       "\n",
       "    .dataframe thead th {\n",
       "        text-align: right;\n",
       "    }\n",
       "</style>\n",
       "<table border=\"1\" class=\"dataframe\">\n",
       "  <thead>\n",
       "    <tr style=\"text-align: right;\">\n",
       "      <th></th>\n",
       "      <th>page_engaged_users</th>\n",
       "      <th>next_engage</th>\n",
       "      <th>next_close_diff</th>\n",
       "      <th>Engagement_Movement</th>\n",
       "    </tr>\n",
       "  </thead>\n",
       "  <tbody>\n",
       "    <tr>\n",
       "      <th>216</th>\n",
       "      <td>11417</td>\n",
       "      <td>11417.0</td>\n",
       "      <td>0.0</td>\n",
       "      <td>up</td>\n",
       "    </tr>\n",
       "    <tr>\n",
       "      <th>217</th>\n",
       "      <td>11417</td>\n",
       "      <td>11417.0</td>\n",
       "      <td>0.0</td>\n",
       "      <td>up</td>\n",
       "    </tr>\n",
       "    <tr>\n",
       "      <th>218</th>\n",
       "      <td>11417</td>\n",
       "      <td>11417.0</td>\n",
       "      <td>0.0</td>\n",
       "      <td>up</td>\n",
       "    </tr>\n",
       "    <tr>\n",
       "      <th>219</th>\n",
       "      <td>11417</td>\n",
       "      <td>11417.0</td>\n",
       "      <td>0.0</td>\n",
       "      <td>up</td>\n",
       "    </tr>\n",
       "    <tr>\n",
       "      <th>220</th>\n",
       "      <td>11417</td>\n",
       "      <td>11417.0</td>\n",
       "      <td>0.0</td>\n",
       "      <td>up</td>\n",
       "    </tr>\n",
       "  </tbody>\n",
       "</table>\n",
       "</div>"
      ],
      "text/plain": [
       "     page_engaged_users  next_engage  next_close_diff Engagement_Movement\n",
       "216               11417      11417.0              0.0                  up\n",
       "217               11417      11417.0              0.0                  up\n",
       "218               11417      11417.0              0.0                  up\n",
       "219               11417      11417.0              0.0                  up\n",
       "220               11417      11417.0              0.0                  up"
      ]
     },
     "execution_count": 102,
     "metadata": {},
     "output_type": "execute_result"
    }
   ],
   "source": [
    "output_data.loc[:,'next_close_diff'] = output_data.loc[:,'next_engage'].diff()\n",
    "output_data.iloc[0,2] = output_data.iloc[0,1] - output_data.iloc[0,0]\n",
    "\n",
    "output_data.loc[:,'Engagement_Movement'] = np.where(output_data.loc[:,'next_close_diff']<0,'down','up')\n",
    "\n",
    "output_data.head()"
   ]
  },
  {
   "cell_type": "code",
   "execution_count": 103,
   "metadata": {},
   "outputs": [
    {
     "data": {
      "text/plain": [
       "0.9789655172413793"
      ]
     },
     "execution_count": 103,
     "metadata": {},
     "output_type": "execute_result"
    }
   ],
   "source": [
    "x_train2, x_test2, y_train2, y_test2 = train_test_split(df_copy.values, output_data['Engagement_Movement'], test_size=0.15)\n",
    "\n",
    "CNNclass = MLPClassifier(solver = 'lbfgs')\n",
    "CNNclass_model = CNNclass.fit(x_train2, y_train2)\n",
    "\n",
    "CNNclass.score(x_test2, y_test2)"
   ]
  },
  {
   "cell_type": "code",
   "execution_count": 104,
   "metadata": {},
   "outputs": [
    {
     "data": {
      "text/html": [
       "<div>\n",
       "<style scoped>\n",
       "    .dataframe tbody tr th:only-of-type {\n",
       "        vertical-align: middle;\n",
       "    }\n",
       "\n",
       "    .dataframe tbody tr th {\n",
       "        vertical-align: top;\n",
       "    }\n",
       "\n",
       "    .dataframe thead th {\n",
       "        text-align: right;\n",
       "    }\n",
       "</style>\n",
       "<table border=\"1\" class=\"dataframe\">\n",
       "  <thead>\n",
       "    <tr style=\"text-align: right;\">\n",
       "      <th></th>\n",
       "      <th>page_fan_adds_unique</th>\n",
       "      <th>page_fan_adds</th>\n",
       "      <th>page_impressions_unique</th>\n",
       "      <th>page_posts_impressions_unique</th>\n",
       "      <th>page_fans_online_per_day</th>\n",
       "      <th>page_impressions_organic</th>\n",
       "    </tr>\n",
       "  </thead>\n",
       "  <tbody>\n",
       "    <tr>\n",
       "      <th>30216</th>\n",
       "      <td>68</td>\n",
       "      <td>68</td>\n",
       "      <td>679483</td>\n",
       "      <td>404215</td>\n",
       "      <td>251682</td>\n",
       "      <td>35733</td>\n",
       "    </tr>\n",
       "  </tbody>\n",
       "</table>\n",
       "</div>"
      ],
      "text/plain": [
       "       page_fan_adds_unique  page_fan_adds  page_impressions_unique  \\\n",
       "30216                    68             68                   679483   \n",
       "\n",
       "       page_posts_impressions_unique  page_fans_online_per_day  \\\n",
       "30216                         404215                    251682   \n",
       "\n",
       "       page_impressions_organic  \n",
       "30216                     35733  "
      ]
     },
     "execution_count": 104,
     "metadata": {},
     "output_type": "execute_result"
    }
   ],
   "source": [
    "df_copy[30000:30001]"
   ]
  },
  {
   "cell_type": "markdown",
   "metadata": {},
   "source": [
    "### Predicting if page_engaged_users will go up or down"
   ]
  },
  {
   "cell_type": "code",
   "execution_count": 105,
   "metadata": {},
   "outputs": [
    {
     "data": {
      "text/plain": [
       "array(['up'], dtype='<U4')"
      ]
     },
     "execution_count": 105,
     "metadata": {},
     "output_type": "execute_result"
    }
   ],
   "source": [
    "# page_fan_adds_unique, page_fan_adds, page_impressions_unique, page_posts_impressions_unique, page_fans_online_per_day, page_impressions_organic, page_engaged_users\n",
    "page_fan_adds_unique = 32\n",
    "page_fan_adds = 32\n",
    "page_impressions_unique = 38927\n",
    "page_posts_impressions_unique = 143308\n",
    "page_fans_online_per_day = 185417\n",
    "page_impressions_organic = 38927\n",
    "# page_engaged_users = 3660\n",
    "\n",
    "test_ = [[page_fan_adds_unique,page_fan_adds,page_impressions_unique,page_posts_impressions_unique,page_fans_online_per_day,page_impressions_organic]]\n",
    "CNNclass_model.predict(test_)"
   ]
  },
  {
   "cell_type": "code",
   "execution_count": 106,
   "metadata": {},
   "outputs": [
    {
     "data": {
      "text/plain": [
       "array(['up'], dtype='<U4')"
      ]
     },
     "execution_count": 106,
     "metadata": {},
     "output_type": "execute_result"
    }
   ],
   "source": [
    "page_fan_adds_unique = 20\n",
    "page_fan_adds = 20\n",
    "page_impressions_unique = 230\n",
    "page_posts_impressions_unique = 1295\n",
    "page_fans_online_per_day = 182436\n",
    "page_impressions_organic = 3230\n",
    "\n",
    "test_ = [[page_fan_adds_unique,page_fan_adds,page_impressions_unique,page_posts_impressions_unique,page_fans_online_per_day,page_impressions_organic]]\n",
    "CNNclass_model.predict(test_)"
   ]
  },
  {
   "cell_type": "code",
   "execution_count": 107,
   "metadata": {},
   "outputs": [
    {
     "data": {
      "text/html": [
       "<div>\n",
       "<style scoped>\n",
       "    .dataframe tbody tr th:only-of-type {\n",
       "        vertical-align: middle;\n",
       "    }\n",
       "\n",
       "    .dataframe tbody tr th {\n",
       "        vertical-align: top;\n",
       "    }\n",
       "\n",
       "    .dataframe thead th {\n",
       "        text-align: right;\n",
       "    }\n",
       "</style>\n",
       "<table border=\"1\" class=\"dataframe\">\n",
       "  <thead>\n",
       "    <tr style=\"text-align: right;\">\n",
       "      <th></th>\n",
       "      <th>page_fan_adds_unique</th>\n",
       "      <th>date</th>\n",
       "      <th>page_fan_adds</th>\n",
       "      <th>page_impressions_unique</th>\n",
       "      <th>page_posts_impressions_unique</th>\n",
       "      <th>page_fans_online_per_day</th>\n",
       "      <th>page_impressions_organic</th>\n",
       "      <th>page_engaged_users</th>\n",
       "    </tr>\n",
       "  </thead>\n",
       "  <tbody>\n",
       "    <tr>\n",
       "      <th>38879</th>\n",
       "      <td>62</td>\n",
       "      <td>2019-10-28</td>\n",
       "      <td>62</td>\n",
       "      <td>11332</td>\n",
       "      <td>477376</td>\n",
       "      <td>256993</td>\n",
       "      <td>11332</td>\n",
       "      <td>4827</td>\n",
       "    </tr>\n",
       "  </tbody>\n",
       "</table>\n",
       "</div>"
      ],
      "text/plain": [
       "       page_fan_adds_unique       date  page_fan_adds  \\\n",
       "38879                    62 2019-10-28             62   \n",
       "\n",
       "       page_impressions_unique  page_posts_impressions_unique  \\\n",
       "38879                    11332                         477376   \n",
       "\n",
       "       page_fans_online_per_day  page_impressions_organic  page_engaged_users  \n",
       "38879                    256993                     11332                4827  "
      ]
     },
     "execution_count": 107,
     "metadata": {},
     "output_type": "execute_result"
    }
   ],
   "source": [
    "df_[-1:]"
   ]
  },
  {
   "cell_type": "code",
   "execution_count": 108,
   "metadata": {},
   "outputs": [
    {
     "data": {
      "text/plain": [
       "array(['up'], dtype='<U4')"
      ]
     },
     "execution_count": 108,
     "metadata": {},
     "output_type": "execute_result"
    }
   ],
   "source": [
    "# 昨天的 page_fan_adds_unique較高，預測今日可以有更高的 page_engaged_users\n",
    "test_subject = df_copy[-1:].values\n",
    "CNNclass_model.predict(test_subject)"
   ]
  },
  {
   "cell_type": "markdown",
   "metadata": {},
   "source": [
    "### Linear Regression of page_engaged_users based on facebook history data"
   ]
  },
  {
   "cell_type": "code",
   "execution_count": 109,
   "metadata": {},
   "outputs": [],
   "source": [
    "import numpy as np\n",
    "from sklearn.model_selection import train_test_split\n",
    "from sklearn.linear_model import LinearRegression\n",
    "np.random.seed(42)"
   ]
  },
  {
   "cell_type": "code",
   "execution_count": 110,
   "metadata": {},
   "outputs": [],
   "source": [
    "df_copy = df_.copy()"
   ]
  },
  {
   "cell_type": "code",
   "execution_count": 111,
   "metadata": {},
   "outputs": [],
   "source": [
    "features = df_copy[['page_fan_adds_unique','page_fan_adds','page_impressions_unique','page_posts_impressions_unique','page_fans_online_per_day','page_impressions_organic']].values\n",
    "targets = df_copy['page_engaged_users'].shift(periods=-1).fillna(0).values"
   ]
  },
  {
   "cell_type": "code",
   "execution_count": 112,
   "metadata": {},
   "outputs": [
    {
     "data": {
      "text/plain": [
       "array([[   106,    106, 716821, 530107, 232150,  80063]], dtype=int64)"
      ]
     },
     "execution_count": 112,
     "metadata": {},
     "output_type": "execute_result"
    }
   ],
   "source": [
    "features[:1]"
   ]
  },
  {
   "cell_type": "code",
   "execution_count": 113,
   "metadata": {},
   "outputs": [
    {
     "data": {
      "text/plain": [
       "array([11417.])"
      ]
     },
     "execution_count": 113,
     "metadata": {},
     "output_type": "execute_result"
    }
   ],
   "source": [
    "targets[:1]"
   ]
  },
  {
   "cell_type": "code",
   "execution_count": 114,
   "metadata": {},
   "outputs": [
    {
     "data": {
      "text/plain": [
       "38664"
      ]
     },
     "execution_count": 114,
     "metadata": {},
     "output_type": "execute_result"
    }
   ],
   "source": [
    "features.shape[0]"
   ]
  },
  {
   "cell_type": "code",
   "execution_count": 115,
   "metadata": {},
   "outputs": [
    {
     "data": {
      "text/plain": [
       "38664"
      ]
     },
     "execution_count": 115,
     "metadata": {},
     "output_type": "execute_result"
    }
   ],
   "source": [
    "targets.shape[0]"
   ]
  },
  {
   "cell_type": "code",
   "execution_count": 116,
   "metadata": {},
   "outputs": [],
   "source": [
    "# make sure the same dimension of features and targets count\n",
    "assert(features,targets)"
   ]
  },
  {
   "cell_type": "code",
   "execution_count": 117,
   "metadata": {},
   "outputs": [],
   "source": [
    "x_train, x_test, y_train, y_test = train_test_split(features, targets, test_size=0.3, shuffle=False, random_state=42)"
   ]
  },
  {
   "cell_type": "code",
   "execution_count": 118,
   "metadata": {},
   "outputs": [
    {
     "data": {
      "text/plain": [
       "array([ 7.09951113e+01, -5.54748938e+01,  1.57312620e-04,  7.98966467e-03,\n",
       "        3.29928879e-02,  3.69886765e-02])"
      ]
     },
     "execution_count": 118,
     "metadata": {},
     "output_type": "execute_result"
    }
   ],
   "source": [
    "lm = LinearRegression()\n",
    "# actual training is done in one line of code, sci-kit library takes care of everything\n",
    "lm.fit(x_train, y_train)\n",
    "lm.coef_"
   ]
  },
  {
   "cell_type": "code",
   "execution_count": 119,
   "metadata": {},
   "outputs": [
    {
     "data": {
      "text/plain": [
       "Text(0, 0.5, 'Predicted values with linear model')"
      ]
     },
     "execution_count": 119,
     "metadata": {},
     "output_type": "execute_result"
    },
    {
     "data": {
      "image/png": "[encoded data removed]",
      "text/plain": [
       "<Figure size 432x288 with 1 Axes>"
      ]
     },
     "metadata": {
      "needs_background": "light"
     },
     "output_type": "display_data"
    }
   ],
   "source": [
    "import matplotlib.pyplot as plt\n",
    "import seaborn as sns\n",
    "from matplotlib.font_manager import FontProperties\n",
    "myfont=FontProperties(fname=r'C:\\Windows\\Fonts\\kaiu.ttf',size=14)\n",
    "sns.set(font=myfont.get_name())\n",
    "\n",
    "%matplotlib inline\n",
    "\n",
    "predictions = lm.predict(x_test)\n",
    "plt.scatter(y_test, predictions)\n",
    "plt.xlabel('y test (true values from dataset)')\n",
    "plt.ylabel('Predicted values with linear model')"
   ]
  },
  {
   "cell_type": "markdown",
   "metadata": {},
   "source": [
    "### Linear Regression model evaluation"
   ]
  },
  {
   "cell_type": "code",
   "execution_count": 120,
   "metadata": {},
   "outputs": [
    {
     "name": "stdout",
     "output_type": "stream",
     "text": [
      "MAE  2073.762880164091\n",
      "MSE  6607666.443693653\n",
      "RMSE 2570.5381622714053\n"
     ]
    }
   ],
   "source": [
    "from sklearn import metrics\n",
    "print('MAE ', metrics.mean_absolute_error(y_test, predictions))\n",
    "print('MSE ', metrics.mean_squared_error(y_test, predictions))\n",
    "print('RMSE', np.sqrt(metrics.mean_squared_error(y_test, predictions)))"
   ]
  },
  {
   "cell_type": "markdown",
   "metadata": {},
   "source": [
    "MSE is more popular than MAE because MSE \"punishes\" larger errors. But, RMSE is even more popular than MSE because RMSE is interpretable in the \"y\" units."
   ]
  },
  {
   "cell_type": "code",
   "execution_count": 121,
   "metadata": {},
   "outputs": [
    {
     "data": {
      "text/plain": [
       "array([6738.56966242, 6660.43500109, 6789.37393034, ..., 6876.15836449,\n",
       "       6850.35673513, 6776.99572526])"
      ]
     },
     "execution_count": 121,
     "metadata": {},
     "output_type": "execute_result"
    }
   ],
   "source": [
    "predictions"
   ]
  },
  {
   "cell_type": "code",
   "execution_count": 122,
   "metadata": {},
   "outputs": [
    {
     "data": {
      "text/plain": [
       "<matplotlib.axes._subplots.AxesSubplot at 0x1b9a5bf18d0>"
      ]
     },
     "execution_count": 122,
     "metadata": {},
     "output_type": "execute_result"
    },
    {
     "data": {
      "image/png": "[encoded data removed]",
      "text/plain": [
       "<Figure size 432x288 with 1 Axes>"
      ]
     },
     "metadata": {
      "needs_background": "light"
     },
     "output_type": "display_data"
    }
   ],
   "source": [
    "# project on y_test - predictions\n",
    "sns.distplot((y_test-predictions), bins=50)"
   ]
  },
  {
   "cell_type": "code",
   "execution_count": 123,
   "metadata": {},
   "outputs": [
    {
     "data": {
      "text/plain": [
       "array([[    62,     62,  11332, 477376, 256993,  11332]], dtype=int64)"
      ]
     },
     "execution_count": 123,
     "metadata": {},
     "output_type": "execute_result"
    }
   ],
   "source": [
    "# 最後一筆資料(今天)\n",
    "features[-1:]"
   ]
  },
  {
   "cell_type": "code",
   "execution_count": 124,
   "metadata": {},
   "outputs": [
    {
     "data": {
      "text/plain": [
       "array([6776.99572526])"
      ]
     },
     "execution_count": 124,
     "metadata": {},
     "output_type": "execute_result"
    }
   ],
   "source": [
    "# 預測明日\n",
    "lm.predict(features[-1:])"
   ]
  },
  {
   "cell_type": "markdown",
   "metadata": {},
   "source": [
    "### Save Linear Regression model to pickle"
   ]
  },
  {
   "cell_type": "code",
   "execution_count": 125,
   "metadata": {},
   "outputs": [],
   "source": [
    "import pickle\n",
    "with open('model/LinearRegression/model_facebook_page_engaged_users.pkl', 'wb') as handle:\n",
    "    pickle.dump(lm, handle, protocol=pickle.HIGHEST_PROTOCOL)"
   ]
  },
  {
   "cell_type": "markdown",
   "metadata": {},
   "source": [
    "### Load Linear Regression model to pickle"
   ]
  },
  {
   "cell_type": "code",
   "execution_count": 126,
   "metadata": {},
   "outputs": [],
   "source": [
    "import pickle\n",
    "with open('model/LinearRegression/model_facebook_page_engaged_users.pkl', 'rb') as handle:\n",
    "    lr_model = pickle.load(handle)"
   ]
  },
  {
   "cell_type": "code",
   "execution_count": 127,
   "metadata": {},
   "outputs": [],
   "source": [
    "def predict_fanpage_page_engaged_users(lr_model, test_data):\n",
    "    return lr_model.predict([test_data])"
   ]
  },
  {
   "cell_type": "code",
   "execution_count": 128,
   "metadata": {},
   "outputs": [
    {
     "data": {
      "text/plain": [
       "array([2305.84252635])"
      ]
     },
     "execution_count": 128,
     "metadata": {},
     "output_type": "execute_result"
    }
   ],
   "source": [
    "page_fan_adds_unique = 32\n",
    "page_fan_adds = 32\n",
    "page_impressions_unique = 38927\n",
    "page_posts_impressions_unique = 143308\n",
    "page_fans_online_per_day = 185417\n",
    "page_impressions_organic = 38927\n",
    "\n",
    "test_ = [page_fan_adds_unique, page_fan_adds, page_impressions_unique, page_posts_impressions_unique, page_fans_online_per_day, page_impressions_organic]\n",
    "pred_ = predict_fanpage_page_engaged_users(lr_model, test_)\n",
    "pred_"
   ]
  },
  {
   "cell_type": "markdown",
   "metadata": {},
   "source": [
    "### Homework\n",
    "- Did you notice something wrong, or misunderstand the meaning of each column?\n",
    "- can you double check each column distribution?"
   ]
  },
  {
   "cell_type": "markdown",
   "metadata": {},
   "source": [
    "### Hint:\n",
    "- which column increase by date increase?\n",
    "- which columns co-related?\n",
    "- drop columnns and re-train Linear Regression model to see what happenen"
   ]
  },
  {
   "cell_type": "code",
   "execution_count": 129,
   "metadata": {},
   "outputs": [
    {
     "data": {
      "text/html": [
       "<div>\n",
       "<style scoped>\n",
       "    .dataframe tbody tr th:only-of-type {\n",
       "        vertical-align: middle;\n",
       "    }\n",
       "\n",
       "    .dataframe tbody tr th {\n",
       "        vertical-align: top;\n",
       "    }\n",
       "\n",
       "    .dataframe thead th {\n",
       "        text-align: right;\n",
       "    }\n",
       "</style>\n",
       "<table border=\"1\" class=\"dataframe\">\n",
       "  <thead>\n",
       "    <tr style=\"text-align: right;\">\n",
       "      <th></th>\n",
       "      <th>page_fan_adds_unique</th>\n",
       "      <th>date</th>\n",
       "      <th>page_fan_adds</th>\n",
       "      <th>page_impressions_unique</th>\n",
       "      <th>page_posts_impressions_unique</th>\n",
       "      <th>page_fans_online_per_day</th>\n",
       "      <th>page_impressions_organic</th>\n",
       "      <th>page_engaged_users</th>\n",
       "    </tr>\n",
       "  </thead>\n",
       "  <tbody>\n",
       "    <tr>\n",
       "      <th>30216</th>\n",
       "      <td>68</td>\n",
       "      <td>2019-05-12</td>\n",
       "      <td>68</td>\n",
       "      <td>679483</td>\n",
       "      <td>404215</td>\n",
       "      <td>251682</td>\n",
       "      <td>35733</td>\n",
       "      <td>10347</td>\n",
       "    </tr>\n",
       "    <tr>\n",
       "      <th>30217</th>\n",
       "      <td>68</td>\n",
       "      <td>2019-05-12</td>\n",
       "      <td>68</td>\n",
       "      <td>404215</td>\n",
       "      <td>404215</td>\n",
       "      <td>251682</td>\n",
       "      <td>35733</td>\n",
       "      <td>10347</td>\n",
       "    </tr>\n",
       "    <tr>\n",
       "      <th>30218</th>\n",
       "      <td>68</td>\n",
       "      <td>2019-05-12</td>\n",
       "      <td>68</td>\n",
       "      <td>35733</td>\n",
       "      <td>404215</td>\n",
       "      <td>251682</td>\n",
       "      <td>35733</td>\n",
       "      <td>10347</td>\n",
       "    </tr>\n",
       "    <tr>\n",
       "      <th>30219</th>\n",
       "      <td>68</td>\n",
       "      <td>2019-05-12</td>\n",
       "      <td>68</td>\n",
       "      <td>679483</td>\n",
       "      <td>404215</td>\n",
       "      <td>251682</td>\n",
       "      <td>35733</td>\n",
       "      <td>10347</td>\n",
       "    </tr>\n",
       "    <tr>\n",
       "      <th>30220</th>\n",
       "      <td>68</td>\n",
       "      <td>2019-05-12</td>\n",
       "      <td>68</td>\n",
       "      <td>404215</td>\n",
       "      <td>404215</td>\n",
       "      <td>251682</td>\n",
       "      <td>35733</td>\n",
       "      <td>10347</td>\n",
       "    </tr>\n",
       "    <tr>\n",
       "      <th>...</th>\n",
       "      <td>...</td>\n",
       "      <td>...</td>\n",
       "      <td>...</td>\n",
       "      <td>...</td>\n",
       "      <td>...</td>\n",
       "      <td>...</td>\n",
       "      <td>...</td>\n",
       "      <td>...</td>\n",
       "    </tr>\n",
       "    <tr>\n",
       "      <th>38875</th>\n",
       "      <td>62</td>\n",
       "      <td>2019-10-28</td>\n",
       "      <td>62</td>\n",
       "      <td>477671</td>\n",
       "      <td>477376</td>\n",
       "      <td>256993</td>\n",
       "      <td>11332</td>\n",
       "      <td>4827</td>\n",
       "    </tr>\n",
       "    <tr>\n",
       "      <th>38876</th>\n",
       "      <td>62</td>\n",
       "      <td>2019-10-28</td>\n",
       "      <td>62</td>\n",
       "      <td>11332</td>\n",
       "      <td>477376</td>\n",
       "      <td>256993</td>\n",
       "      <td>11332</td>\n",
       "      <td>4827</td>\n",
       "    </tr>\n",
       "    <tr>\n",
       "      <th>38877</th>\n",
       "      <td>62</td>\n",
       "      <td>2019-10-28</td>\n",
       "      <td>62</td>\n",
       "      <td>641686</td>\n",
       "      <td>477376</td>\n",
       "      <td>256993</td>\n",
       "      <td>11332</td>\n",
       "      <td>4827</td>\n",
       "    </tr>\n",
       "    <tr>\n",
       "      <th>38878</th>\n",
       "      <td>62</td>\n",
       "      <td>2019-10-28</td>\n",
       "      <td>62</td>\n",
       "      <td>477671</td>\n",
       "      <td>477376</td>\n",
       "      <td>256993</td>\n",
       "      <td>11332</td>\n",
       "      <td>4827</td>\n",
       "    </tr>\n",
       "    <tr>\n",
       "      <th>38879</th>\n",
       "      <td>62</td>\n",
       "      <td>2019-10-28</td>\n",
       "      <td>62</td>\n",
       "      <td>11332</td>\n",
       "      <td>477376</td>\n",
       "      <td>256993</td>\n",
       "      <td>11332</td>\n",
       "      <td>4827</td>\n",
       "    </tr>\n",
       "  </tbody>\n",
       "</table>\n",
       "<p>8664 rows × 8 columns</p>\n",
       "</div>"
      ],
      "text/plain": [
       "       page_fan_adds_unique       date  page_fan_adds  \\\n",
       "30216                    68 2019-05-12             68   \n",
       "30217                    68 2019-05-12             68   \n",
       "30218                    68 2019-05-12             68   \n",
       "30219                    68 2019-05-12             68   \n",
       "30220                    68 2019-05-12             68   \n",
       "...                     ...        ...            ...   \n",
       "38875                    62 2019-10-28             62   \n",
       "38876                    62 2019-10-28             62   \n",
       "38877                    62 2019-10-28             62   \n",
       "38878                    62 2019-10-28             62   \n",
       "38879                    62 2019-10-28             62   \n",
       "\n",
       "       page_impressions_unique  page_posts_impressions_unique  \\\n",
       "30216                   679483                         404215   \n",
       "30217                   404215                         404215   \n",
       "30218                    35733                         404215   \n",
       "30219                   679483                         404215   \n",
       "30220                   404215                         404215   \n",
       "...                        ...                            ...   \n",
       "38875                   477671                         477376   \n",
       "38876                    11332                         477376   \n",
       "38877                   641686                         477376   \n",
       "38878                   477671                         477376   \n",
       "38879                    11332                         477376   \n",
       "\n",
       "       page_fans_online_per_day  page_impressions_organic  page_engaged_users  \n",
       "30216                    251682                     35733               10347  \n",
       "30217                    251682                     35733               10347  \n",
       "30218                    251682                     35733               10347  \n",
       "30219                    251682                     35733               10347  \n",
       "30220                    251682                     35733               10347  \n",
       "...                         ...                       ...                 ...  \n",
       "38875                    256993                     11332                4827  \n",
       "38876                    256993                     11332                4827  \n",
       "38877                    256993                     11332                4827  \n",
       "38878                    256993                     11332                4827  \n",
       "38879                    256993                     11332                4827  \n",
       "\n",
       "[8664 rows x 8 columns]"
      ]
     },
     "execution_count": 129,
     "metadata": {},
     "output_type": "execute_result"
    }
   ],
   "source": [
    "# EDA\n",
    "df_copy = df_.copy()\n",
    "# if 'date' in df_copy.columns:\n",
    "#     del df_copy['date']\n",
    "if 'date2' in df_copy.columns:\n",
    "    del df_copy['date2']\n",
    "df_copy[30000:300400]"
   ]
  },
  {
   "cell_type": "code",
   "execution_count": 130,
   "metadata": {},
   "outputs": [
    {
     "data": {
      "text/plain": [
       "[<matplotlib.lines.Line2D at 0x1b9a71879b0>]"
      ]
     },
     "execution_count": 130,
     "metadata": {},
     "output_type": "execute_result"
    },
    {
     "data": {
      "image/png": "[encoded data removed]",
      "text/plain": [
       "<Figure size 432x288 with 1 Axes>"
      ]
     },
     "metadata": {
      "needs_background": "light"
     },
     "output_type": "display_data"
    }
   ],
   "source": [
    "ax = plt.gca()\n",
    "\n",
    "ax.xaxis_date()\n",
    "plt.xticks(rotation=45)\n",
    "plt.plot(df_copy['date'], df_copy['page_fans_online_per_day'])"
   ]
  },
  {
   "cell_type": "markdown",
   "metadata": {},
   "source": [
    "page_fans_online_per_day 是累計的，無腦train是不行的"
   ]
  },
  {
   "cell_type": "code",
   "execution_count": 131,
   "metadata": {},
   "outputs": [
    {
     "data": {
      "text/plain": [
       "[<matplotlib.lines.Line2D at 0x1b9a5605fd0>]"
      ]
     },
     "execution_count": 131,
     "metadata": {},
     "output_type": "execute_result"
    },
    {
     "data": {
      "image/png": "[encoded data removed]",
      "text/plain": [
       "<Figure size 432x288 with 1 Axes>"
      ]
     },
     "metadata": {
      "needs_background": "light"
     },
     "output_type": "display_data"
    }
   ],
   "source": [
    "# 自然觸及粉絲頁 impression 數\n",
    "ax = plt.gca()\n",
    "\n",
    "ax.xaxis_date()\n",
    "plt.xticks(rotation=45)\n",
    "plt.plot(df_copy['date'], df_copy['page_impressions_organic'])"
   ]
  },
  {
   "cell_type": "code",
   "execution_count": 132,
   "metadata": {},
   "outputs": [
    {
     "data": {
      "text/plain": [
       "[<matplotlib.lines.Line2D at 0x1b9a56a1160>]"
      ]
     },
     "execution_count": 132,
     "metadata": {},
     "output_type": "execute_result"
    },
    {
     "data": {
      "image/png": "[encoded data removed]",
      "text/plain": [
       "<Figure size 432x288 with 1 Axes>"
      ]
     },
     "metadata": {
      "needs_background": "light"
     },
     "output_type": "display_data"
    }
   ],
   "source": [
    "# page_posts_impressions_unique 與發文有關，所以才會時高時低\n",
    "ax = plt.gca()\n",
    "\n",
    "ax.xaxis_date()\n",
    "plt.xticks(rotation=45)\n",
    "plt.plot(df_copy['date'], df_copy['page_posts_impressions_unique'])"
   ]
  },
  {
   "cell_type": "code",
   "execution_count": 133,
   "metadata": {},
   "outputs": [
    {
     "data": {
      "text/plain": [
       "[<matplotlib.lines.Line2D at 0x1b9a56a1278>]"
      ]
     },
     "execution_count": 133,
     "metadata": {},
     "output_type": "execute_result"
    },
    {
     "data": {
      "image/png": "[encoded data removed]",
      "text/plain": [
       "<Figure size 432x288 with 1 Axes>"
      ]
     },
     "metadata": {
      "needs_background": "light"
     },
     "output_type": "display_data"
    }
   ],
   "source": [
    "# 每日新增粉絲數\n",
    "ax = plt.gca()\n",
    "\n",
    "ax.xaxis_date()\n",
    "plt.xticks(rotation=45)\n",
    "plt.plot(df_copy['date'], df_copy['page_fan_adds'])"
   ]
  },
  {
   "cell_type": "code",
   "execution_count": 134,
   "metadata": {},
   "outputs": [
    {
     "data": {
      "text/plain": [
       "[<matplotlib.lines.Line2D at 0x1b9a5896400>]"
      ]
     },
     "execution_count": 134,
     "metadata": {},
     "output_type": "execute_result"
    },
    {
     "data": {
      "image/png": "[encoded data removed]",
      "text/plain": [
       "<Figure size 432x288 with 1 Axes>"
      ]
     },
     "metadata": {
      "needs_background": "light"
     },
     "output_type": "display_data"
    }
   ],
   "source": [
    "# 每日新增不重複使用者，與 每日新增粉絲數趨勢是雷同的\n",
    "ax = plt.gca()\n",
    "\n",
    "ax.xaxis_date()\n",
    "plt.xticks(rotation=45)\n",
    "plt.plot(df_copy['date'], df_copy['page_fan_adds_unique'])"
   ]
  },
  {
   "cell_type": "code",
   "execution_count": 135,
   "metadata": {},
   "outputs": [
    {
     "data": {
      "text/plain": [
       "[<matplotlib.lines.Line2D at 0x1b9a6f58588>]"
      ]
     },
     "execution_count": 135,
     "metadata": {},
     "output_type": "execute_result"
    },
    {
     "data": {
      "image/png": "[encoded data removed]",
      "text/plain": [
       "<Figure size 432x288 with 1 Axes>"
      ]
     },
     "metadata": {
      "needs_background": "light"
     },
     "output_type": "display_data"
    }
   ],
   "source": [
    "# 檢查我們的 y (粉專觸及人數)\n",
    "ax = plt.gca()\n",
    "\n",
    "ax.xaxis_date()\n",
    "plt.xticks(rotation=45)\n",
    "plt.plot(df_copy['date'], df_copy['page_engaged_users'])"
   ]
  },
  {
   "cell_type": "markdown",
   "metadata": {},
   "source": [
    "### Normalized engagement user by comparer page_fan_adds & page_engaged_users"
   ]
  },
  {
   "cell_type": "code",
   "execution_count": 136,
   "metadata": {},
   "outputs": [
    {
     "data": {
      "image/png": "[encoded data removed]",
      "text/plain": [
       "<Figure size 432x288 with 1 Axes>"
      ]
     },
     "metadata": {
      "needs_background": "light"
     },
     "output_type": "display_data"
    }
   ],
   "source": [
    "page_engaged_users = (df_copy['page_engaged_users']-df_copy['page_engaged_users'].mean())/(df_copy['page_engaged_users'].max()-df_copy['page_engaged_users'].min())\n",
    "page_fan_adds = (df_copy['page_fan_adds']-df_copy['page_fan_adds'].mean())/(df_copy['page_fan_adds'].max()-df_copy['page_fan_adds'].min())\n",
    "\n",
    "plt.plot(df_copy['date'], page_engaged_users, df_copy['date'], page_fan_adds)\n",
    "plt.xlabel('Date')\n",
    "plt.ylabel('Normalized engagement user')\n",
    "plt.xticks(rotation=45)\n",
    "plt.show()"
   ]
  },
  {
   "cell_type": "markdown",
   "metadata": {},
   "source": [
    "發現 page_engaged_users 與 page_fan_adds(我們的y)擬合程度似乎有相依"
   ]
  },
  {
   "cell_type": "code",
   "execution_count": 137,
   "metadata": {},
   "outputs": [
    {
     "data": {
      "text/html": [
       "<div>\n",
       "<style scoped>\n",
       "    .dataframe tbody tr th:only-of-type {\n",
       "        vertical-align: middle;\n",
       "    }\n",
       "\n",
       "    .dataframe tbody tr th {\n",
       "        vertical-align: top;\n",
       "    }\n",
       "\n",
       "    .dataframe thead th {\n",
       "        text-align: right;\n",
       "    }\n",
       "</style>\n",
       "<table border=\"1\" class=\"dataframe\">\n",
       "  <thead>\n",
       "    <tr style=\"text-align: right;\">\n",
       "      <th></th>\n",
       "      <th>page_impressions_unique</th>\n",
       "      <th>page_posts_impressions_unique</th>\n",
       "      <th>page_impressions_organic</th>\n",
       "      <th>page_engaged_users</th>\n",
       "    </tr>\n",
       "  </thead>\n",
       "  <tbody>\n",
       "    <tr>\n",
       "      <th>216</th>\n",
       "      <td>716821</td>\n",
       "      <td>530107</td>\n",
       "      <td>80063</td>\n",
       "      <td>11417</td>\n",
       "    </tr>\n",
       "    <tr>\n",
       "      <th>217</th>\n",
       "      <td>530107</td>\n",
       "      <td>530107</td>\n",
       "      <td>80063</td>\n",
       "      <td>11417</td>\n",
       "    </tr>\n",
       "    <tr>\n",
       "      <th>218</th>\n",
       "      <td>80063</td>\n",
       "      <td>530107</td>\n",
       "      <td>80063</td>\n",
       "      <td>11417</td>\n",
       "    </tr>\n",
       "    <tr>\n",
       "      <th>219</th>\n",
       "      <td>716821</td>\n",
       "      <td>530107</td>\n",
       "      <td>80063</td>\n",
       "      <td>11417</td>\n",
       "    </tr>\n",
       "    <tr>\n",
       "      <th>220</th>\n",
       "      <td>530107</td>\n",
       "      <td>530107</td>\n",
       "      <td>80063</td>\n",
       "      <td>11417</td>\n",
       "    </tr>\n",
       "  </tbody>\n",
       "</table>\n",
       "</div>"
      ],
      "text/plain": [
       "     page_impressions_unique  page_posts_impressions_unique  \\\n",
       "216                   716821                         530107   \n",
       "217                   530107                         530107   \n",
       "218                    80063                         530107   \n",
       "219                   716821                         530107   \n",
       "220                   530107                         530107   \n",
       "\n",
       "     page_impressions_organic  page_engaged_users  \n",
       "216                     80063               11417  \n",
       "217                     80063               11417  \n",
       "218                     80063               11417  \n",
       "219                     80063               11417  \n",
       "220                     80063               11417  "
      ]
     },
     "execution_count": 137,
     "metadata": {},
     "output_type": "execute_result"
    }
   ],
   "source": [
    "# 刪除相依欄位、重複欄位、持續累加欄位、日期\n",
    "df_copy = df_.copy()\n",
    "if 'date' in df_copy.columns:\n",
    "    del df_copy['date']\n",
    "if 'date2' in df_copy.columns:\n",
    "    del df_copy['date2']\n",
    "if 'page_fans_online_per_day' in df_copy.columns:\n",
    "    del df_copy['page_fans_online_per_day']\n",
    "if 'page_fan_adds' in df_copy.columns:\n",
    "    del df_copy['page_fan_adds']\n",
    "if 'page_fan_adds_unique' in df_copy.columns:\n",
    "    del df_copy['page_fan_adds_unique']\n",
    "df_copy.head()"
   ]
  },
  {
   "cell_type": "code",
   "execution_count": 138,
   "metadata": {},
   "outputs": [
    {
     "data": {
      "text/plain": [
       "<seaborn.axisgrid.PairGrid at 0x1b9a6f73588>"
      ]
     },
     "execution_count": 138,
     "metadata": {},
     "output_type": "execute_result"
    },
    {
     "data": {
      "image/png": "[encoded data removed]",
      "text/plain": [
       "<Figure size 1058.4x504 with 3 Axes>"
      ]
     },
     "metadata": {
      "needs_background": "light"
     },
     "output_type": "display_data"
    }
   ],
   "source": [
    "# visualize the relationship between the features and the response using scatterplots\n",
    "sns.pairplot(df_copy, x_vars=['page_impressions_unique','page_posts_impressions_unique','page_impressions_organic'], y_vars='page_engaged_users', size=7, aspect=0.7)"
   ]
  },
  {
   "cell_type": "code",
   "execution_count": 139,
   "metadata": {},
   "outputs": [
    {
     "data": {
      "text/plain": [
       "<seaborn.axisgrid.PairGrid at 0x1b9a701f160>"
      ]
     },
     "execution_count": 139,
     "metadata": {},
     "output_type": "execute_result"
    },
    {
     "data": {
      "image/png": "[encoded data removed]",
      "text/plain": [
       "<Figure size 1058.4x504 with 3 Axes>"
      ]
     },
     "metadata": {
      "needs_background": "light"
     },
     "output_type": "display_data"
    }
   ],
   "source": [
    "# Plotting the Least Squares Line\n",
    "sns.pairplot(df_copy, x_vars=['page_impressions_unique','page_posts_impressions_unique','page_impressions_organic'], y_vars='page_engaged_users', size=7, aspect=0.7, kind='reg')"
   ]
  },
  {
   "cell_type": "markdown",
   "metadata": {},
   "source": [
    "### re-train LinearRegression model and save to v2"
   ]
  },
  {
   "cell_type": "code",
   "execution_count": 140,
   "metadata": {},
   "outputs": [],
   "source": [
    "import numpy as np\n",
    "from sklearn.model_selection import train_test_split\n",
    "from sklearn.linear_model import LinearRegression\n",
    "np.random.seed(42)"
   ]
  },
  {
   "cell_type": "code",
   "execution_count": 141,
   "metadata": {},
   "outputs": [],
   "source": [
    "features = df_copy[['page_impressions_unique','page_posts_impressions_unique','page_impressions_organic']].values\n",
    "targets = df_copy['page_engaged_users'].shift(periods=-1).fillna(0).values"
   ]
  },
  {
   "cell_type": "code",
   "execution_count": 142,
   "metadata": {},
   "outputs": [
    {
     "data": {
      "text/plain": [
       "array([[716821, 530107,  80063]], dtype=int64)"
      ]
     },
     "execution_count": 142,
     "metadata": {},
     "output_type": "execute_result"
    }
   ],
   "source": [
    "features[:1]"
   ]
  },
  {
   "cell_type": "code",
   "execution_count": 143,
   "metadata": {},
   "outputs": [
    {
     "data": {
      "text/plain": [
       "array([11417.])"
      ]
     },
     "execution_count": 143,
     "metadata": {},
     "output_type": "execute_result"
    }
   ],
   "source": [
    "targets[:1]"
   ]
  },
  {
   "cell_type": "code",
   "execution_count": 144,
   "metadata": {},
   "outputs": [
    {
     "data": {
      "text/plain": [
       "38664"
      ]
     },
     "execution_count": 144,
     "metadata": {},
     "output_type": "execute_result"
    }
   ],
   "source": [
    "features.shape[0]"
   ]
  },
  {
   "cell_type": "code",
   "execution_count": 145,
   "metadata": {},
   "outputs": [
    {
     "data": {
      "text/plain": [
       "38664"
      ]
     },
     "execution_count": 145,
     "metadata": {},
     "output_type": "execute_result"
    }
   ],
   "source": [
    "targets.shape[0]"
   ]
  },
  {
   "cell_type": "code",
   "execution_count": 146,
   "metadata": {},
   "outputs": [],
   "source": [
    "# make sure the same dimension of features and targets count\n",
    "assert(features,targets)"
   ]
  },
  {
   "cell_type": "code",
   "execution_count": 147,
   "metadata": {},
   "outputs": [],
   "source": [
    "x_train, x_test, y_train, y_test = train_test_split(features, targets, test_size=0.3, shuffle=False, random_state=42)"
   ]
  },
  {
   "cell_type": "code",
   "execution_count": 148,
   "metadata": {},
   "outputs": [
    {
     "data": {
      "text/plain": [
       "array([0.00019101, 0.00897277, 0.04194178])"
      ]
     },
     "execution_count": 148,
     "metadata": {},
     "output_type": "execute_result"
    }
   ],
   "source": [
    "lm = LinearRegression()\n",
    "# actual training is done in one line of code, sci-kit library takes care of everything\n",
    "lm.fit(x_train, y_train)\n",
    "lm.coef_"
   ]
  },
  {
   "cell_type": "code",
   "execution_count": 149,
   "metadata": {},
   "outputs": [
    {
     "data": {
      "text/plain": [
       "Text(0, 0.5, 'Predicted values with linear model')"
      ]
     },
     "execution_count": 149,
     "metadata": {},
     "output_type": "execute_result"
    },
    {
     "data": {
      "image/png": "[encoded data removed]",
      "text/plain": [
       "<Figure size 432x288 with 1 Axes>"
      ]
     },
     "metadata": {
      "needs_background": "light"
     },
     "output_type": "display_data"
    }
   ],
   "source": [
    "import matplotlib.pyplot as plt\n",
    "import seaborn as sns\n",
    "from matplotlib.font_manager import FontProperties\n",
    "myfont=FontProperties(fname=r'C:\\Windows\\Fonts\\kaiu.ttf',size=14)\n",
    "sns.set(font=myfont.get_name())\n",
    "\n",
    "%matplotlib inline\n",
    "\n",
    "predictions = lm.predict(x_test)\n",
    "plt.scatter(y_test, predictions)\n",
    "plt.xlabel('y test (true values from dataset)')\n",
    "plt.ylabel('Predicted values with linear model')"
   ]
  },
  {
   "cell_type": "markdown",
   "metadata": {},
   "source": [
    "### Linear Regression model evaluation"
   ]
  },
  {
   "cell_type": "code",
   "execution_count": 150,
   "metadata": {},
   "outputs": [
    {
     "name": "stdout",
     "output_type": "stream",
     "text": [
      "MAE  2111.4752455605085\n",
      "MSE  7078090.7393687125\n",
      "RMSE 2660.4681428967933\n"
     ]
    }
   ],
   "source": [
    "from sklearn import metrics\n",
    "print('MAE ', metrics.mean_absolute_error(y_test, predictions))\n",
    "print('MSE ', metrics.mean_squared_error(y_test, predictions))\n",
    "print('RMSE', np.sqrt(metrics.mean_squared_error(y_test, predictions)))"
   ]
  },
  {
   "cell_type": "code",
   "execution_count": 151,
   "metadata": {},
   "outputs": [
    {
     "data": {
      "text/plain": [
       "array([6736.98706501, 6642.11439145, 6798.67462651, ..., 6416.86383464,\n",
       "       6385.53497856, 6296.45856838])"
      ]
     },
     "execution_count": 151,
     "metadata": {},
     "output_type": "execute_result"
    }
   ],
   "source": [
    "predictions"
   ]
  },
  {
   "cell_type": "code",
   "execution_count": 152,
   "metadata": {},
   "outputs": [
    {
     "data": {
      "text/plain": [
       "<matplotlib.axes._subplots.AxesSubplot at 0x1b9a5a43898>"
      ]
     },
     "execution_count": 152,
     "metadata": {},
     "output_type": "execute_result"
    },
    {
     "data": {
      "image/png": "[encoded data removed]",
      "text/plain": [
       "<Figure size 432x288 with 1 Axes>"
      ]
     },
     "metadata": {
      "needs_background": "light"
     },
     "output_type": "display_data"
    }
   ],
   "source": [
    "# project on y_test - predictions\n",
    "sns.distplot((y_test-predictions), bins=50)"
   ]
  },
  {
   "cell_type": "code",
   "execution_count": 153,
   "metadata": {},
   "outputs": [
    {
     "data": {
      "text/plain": [
       "array([[ 11332, 477376,  11332]], dtype=int64)"
      ]
     },
     "execution_count": 153,
     "metadata": {},
     "output_type": "execute_result"
    }
   ],
   "source": [
    "# 最後一筆資料(今天)\n",
    "features[-1:]"
   ]
  },
  {
   "cell_type": "code",
   "execution_count": 154,
   "metadata": {},
   "outputs": [
    {
     "data": {
      "text/plain": [
       "array([6296.45856838])"
      ]
     },
     "execution_count": 154,
     "metadata": {},
     "output_type": "execute_result"
    }
   ],
   "source": [
    "# 預測明日\n",
    "lm.predict(features[-1:])"
   ]
  },
  {
   "cell_type": "markdown",
   "metadata": {},
   "source": []
  },
  {
   "cell_type": "markdown",
   "metadata": {},
   "source": [
    "### Save Linear Regression model v2 to pickle"
   ]
  },
  {
   "cell_type": "code",
   "execution_count": 155,
   "metadata": {},
   "outputs": [],
   "source": [
    "import pickle\n",
    "with open('model/LinearRegression/model_facebook_page_engaged_users_v2.pkl', 'wb') as handle:\n",
    "    pickle.dump(lm, handle, protocol=pickle.HIGHEST_PROTOCOL)"
   ]
  },
  {
   "cell_type": "markdown",
   "metadata": {},
   "source": [
    "### Load Linear Regression model v2 to pickle"
   ]
  },
  {
   "cell_type": "code",
   "execution_count": 156,
   "metadata": {},
   "outputs": [],
   "source": [
    "import pickle\n",
    "with open('model/LinearRegression/model_facebook_page_engaged_users_v2.pkl', 'rb') as handle:\n",
    "    lr_model = pickle.load(handle)"
   ]
  },
  {
   "cell_type": "code",
   "execution_count": 157,
   "metadata": {},
   "outputs": [],
   "source": [
    "def predict_fanpage_page_engaged_users(lr_model, test_data):\n",
    "    return lr_model.predict([test_data])"
   ]
  },
  {
   "cell_type": "code",
   "execution_count": 158,
   "metadata": {},
   "outputs": [
    {
     "data": {
      "text/plain": [
       "array([4461.59705865])"
      ]
     },
     "execution_count": 158,
     "metadata": {},
     "output_type": "execute_result"
    }
   ],
   "source": [
    "page_impressions_unique = 38927\n",
    "page_posts_impressions_unique = 143308\n",
    "page_impressions_organic = 38927\n",
    "test_ = [page_impressions_unique, page_posts_impressions_unique, page_impressions_organic]\n",
    "pred_ = predict_fanpage_page_engaged_users(lr_model, test_)\n",
    "pred_"
   ]
  },
  {
   "cell_type": "code",
   "execution_count": 159,
   "metadata": {},
   "outputs": [
    {
     "data": {
      "text/plain": [
       "0.15797740524011017"
      ]
     },
     "execution_count": 159,
     "metadata": {},
     "output_type": "execute_result"
    }
   ],
   "source": [
    "# print the R-squared value for the model\n",
    "lm.score(x_test, y_test)"
   ]
  },
  {
   "cell_type": "markdown",
   "metadata": {},
   "source": [
    "What Does R-Squared Tell You?\n",
    "\n",
    "R-squared values range from 0 to 1 and are commonly stated as percentages from 0% to 100%. An R-squared of 100% means that all movements of a security (or other dependent variable) are completely explained by movements in the index (or the independent variable(s) you are interested in).\n",
    "\n",
    "Is this result a \"good\" R-squared value?\n",
    "\n",
    "No, it's not.\n",
    "\n",
    "The threshold for a good R-squared value depends widely on the domain\n",
    "\n",
    "Therefore, it's most useful as a tool for comparing different models"
   ]
  },
  {
   "cell_type": "markdown",
   "metadata": {},
   "source": [
    "### What didn't we Cover?\n",
    "- Detecting collinearity\n",
    "- Diagnosing model fit\n",
    "- Transforming features to fit non-linear relationships\n",
    "- Interaction terms\n",
    "- Assumptions of linear regression\n",
    "- Data of this fanpage from 2017-01-01 to 2019-10-28, it's not fair for every day, 'cause that almost from 0 to over 3900!\n",
    "- Improvement by narrow date that between 1500-3500 page_engaged_users will help or not?\n",
    "- \n",
    "\n",
    "Notes\n",
    "\n",
    "You could certainly go very deep into linear regression, and learn how to apply it really, really well\n",
    "It's an excellent way to start your modeling process when working a regression problem\n",
    "However, it is limited by the fact that it can only make good predictions if there is a linear relationship between the features and the response, which is why more complex methods (with higher variance and lower bias) will often outperform linear regression\n"
   ]
  }
 ],
 "metadata": {
  "kernelspec": {
   "display_name": "Python 3",
   "language": "python",
   "name": "python3"
  },
  "language_info": {
   "codemirror_mode": {
    "name": "ipython",
    "version": 3
   },
   "file_extension": ".py",
   "mimetype": "text/x-python",
   "name": "python",
   "nbconvert_exporter": "python",
   "pygments_lexer": "ipython3",
   "version": "3.6.7"
  }
 },
 "nbformat": 4,
 "nbformat_minor": 2
}
